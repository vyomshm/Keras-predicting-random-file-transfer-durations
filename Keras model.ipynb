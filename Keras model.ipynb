{
 "cells": [
  {
   "cell_type": "code",
   "execution_count": 71,
   "metadata": {
    "collapsed": false
   },
   "outputs": [],
   "source": [
    "import time\n",
    "import numpy as np\n",
    "import pandas as pd\n",
    "import matplotlib.pyplot as plt\n",
    "import seaborn as sns\n",
    "from keras.models import Sequential\n",
    "from keras.layers import Dense,Activation,Dropout\n",
    "from keras.layers.advanced_activations import LeakyReLU, PReLU\n",
    "# from keras.layers.recurrent import LSTM\n",
    "from keras_tqdm import TQDMNotebookCallback\n",
    "\n",
    "%matplotlib inline\n",
    "import mpld3\n",
    "mpld3.enable_notebook()"
   ]
  },
  {
   "cell_type": "code",
   "execution_count": 15,
   "metadata": {
    "collapsed": false
   },
   "outputs": [
    {
     "name": "stderr",
     "output_type": "stream",
     "text": [
      "/home/vyom/anaconda3/envs/CERN/lib/python3.5/site-packages/bokeh/core/json_encoder.py:52: DeprecationWarning: parsing timezone aware datetimes is deprecated; this will raise an error in the future\n",
      "  NP_EPOCH = np.datetime64('1970-01-01T00:00:00Z')\n"
     ]
    },
    {
     "data": {
      "text/html": [
       "\n",
       "    <div class=\"bk-root\">\n",
       "        <a href=\"http://bokeh.pydata.org\" target=\"_blank\" class=\"bk-logo bk-logo-small bk-logo-notebook\"></a>\n",
       "        <span id=\"e7fbaba8-4d0b-4568-b5a6-af02b50a343d\">Loading BokehJS ...</span>\n",
       "    </div>"
      ]
     },
     "metadata": {},
     "output_type": "display_data"
    },
    {
     "data": {
      "application/javascript": [
       "\n",
       "(function(global) {\n",
       "  function now() {\n",
       "    return new Date();\n",
       "  }\n",
       "\n",
       "  var force = true;\n",
       "\n",
       "  if (typeof (window._bokeh_onload_callbacks) === \"undefined\" || force === true) {\n",
       "    window._bokeh_onload_callbacks = [];\n",
       "    window._bokeh_is_loading = undefined;\n",
       "  }\n",
       "\n",
       "\n",
       "  \n",
       "  if (typeof (window._bokeh_timeout) === \"undefined\" || force === true) {\n",
       "    window._bokeh_timeout = Date.now() + 5000;\n",
       "    window._bokeh_failed_load = false;\n",
       "  }\n",
       "\n",
       "  var NB_LOAD_WARNING = {'data': {'text/html':\n",
       "     \"<div style='background-color: #fdd'>\\n\"+\n",
       "     \"<p>\\n\"+\n",
       "     \"BokehJS does not appear to have successfully loaded. If loading BokehJS from CDN, this \\n\"+\n",
       "     \"may be due to a slow or bad network connection. Possible fixes:\\n\"+\n",
       "     \"</p>\\n\"+\n",
       "     \"<ul>\\n\"+\n",
       "     \"<li>re-rerun `output_notebook()` to attempt to load from CDN again, or</li>\\n\"+\n",
       "     \"<li>use INLINE resources instead, as so:</li>\\n\"+\n",
       "     \"</ul>\\n\"+\n",
       "     \"<code>\\n\"+\n",
       "     \"from bokeh.resources import INLINE\\n\"+\n",
       "     \"output_notebook(resources=INLINE)\\n\"+\n",
       "     \"</code>\\n\"+\n",
       "     \"</div>\"}};\n",
       "\n",
       "  function display_loaded() {\n",
       "    if (window.Bokeh !== undefined) {\n",
       "      document.getElementById(\"e7fbaba8-4d0b-4568-b5a6-af02b50a343d\").textContent = \"BokehJS successfully loaded.\";\n",
       "    } else if (Date.now() < window._bokeh_timeout) {\n",
       "      setTimeout(display_loaded, 100)\n",
       "    }\n",
       "  }\n",
       "\n",
       "  function run_callbacks() {\n",
       "    window._bokeh_onload_callbacks.forEach(function(callback) { callback() });\n",
       "    delete window._bokeh_onload_callbacks\n",
       "    console.info(\"Bokeh: all callbacks have finished\");\n",
       "  }\n",
       "\n",
       "  function load_libs(js_urls, callback) {\n",
       "    window._bokeh_onload_callbacks.push(callback);\n",
       "    if (window._bokeh_is_loading > 0) {\n",
       "      console.log(\"Bokeh: BokehJS is being loaded, scheduling callback at\", now());\n",
       "      return null;\n",
       "    }\n",
       "    if (js_urls == null || js_urls.length === 0) {\n",
       "      run_callbacks();\n",
       "      return null;\n",
       "    }\n",
       "    console.log(\"Bokeh: BokehJS not loaded, scheduling load and callback at\", now());\n",
       "    window._bokeh_is_loading = js_urls.length;\n",
       "    for (var i = 0; i < js_urls.length; i++) {\n",
       "      var url = js_urls[i];\n",
       "      var s = document.createElement('script');\n",
       "      s.src = url;\n",
       "      s.async = false;\n",
       "      s.onreadystatechange = s.onload = function() {\n",
       "        window._bokeh_is_loading--;\n",
       "        if (window._bokeh_is_loading === 0) {\n",
       "          console.log(\"Bokeh: all BokehJS libraries loaded\");\n",
       "          run_callbacks()\n",
       "        }\n",
       "      };\n",
       "      s.onerror = function() {\n",
       "        console.warn(\"failed to load library \" + url);\n",
       "      };\n",
       "      console.log(\"Bokeh: injecting script tag for BokehJS library: \", url);\n",
       "      document.getElementsByTagName(\"head\")[0].appendChild(s);\n",
       "    }\n",
       "  };var element = document.getElementById(\"e7fbaba8-4d0b-4568-b5a6-af02b50a343d\");\n",
       "  if (element == null) {\n",
       "    console.log(\"Bokeh: ERROR: autoload.js configured with elementid 'e7fbaba8-4d0b-4568-b5a6-af02b50a343d' but no matching script tag was found. \")\n",
       "    return false;\n",
       "  }\n",
       "\n",
       "  var js_urls = [\"https://cdn.pydata.org/bokeh/release/bokeh-0.12.4.min.js\", \"https://cdn.pydata.org/bokeh/release/bokeh-widgets-0.12.4.min.js\"];\n",
       "\n",
       "  var inline_js = [\n",
       "    function(Bokeh) {\n",
       "      Bokeh.set_log_level(\"info\");\n",
       "    },\n",
       "    \n",
       "    function(Bokeh) {\n",
       "      \n",
       "      document.getElementById(\"e7fbaba8-4d0b-4568-b5a6-af02b50a343d\").textContent = \"BokehJS is loading...\";\n",
       "    },\n",
       "    function(Bokeh) {\n",
       "      console.log(\"Bokeh: injecting CSS: https://cdn.pydata.org/bokeh/release/bokeh-0.12.4.min.css\");\n",
       "      Bokeh.embed.inject_css(\"https://cdn.pydata.org/bokeh/release/bokeh-0.12.4.min.css\");\n",
       "      console.log(\"Bokeh: injecting CSS: https://cdn.pydata.org/bokeh/release/bokeh-widgets-0.12.4.min.css\");\n",
       "      Bokeh.embed.inject_css(\"https://cdn.pydata.org/bokeh/release/bokeh-widgets-0.12.4.min.css\");\n",
       "    }\n",
       "  ];\n",
       "\n",
       "  function run_inline_js() {\n",
       "    \n",
       "    if ((window.Bokeh !== undefined) || (force === true)) {\n",
       "      for (var i = 0; i < inline_js.length; i++) {\n",
       "        inline_js[i](window.Bokeh);\n",
       "      }if (force === true) {\n",
       "        display_loaded();\n",
       "      }} else if (Date.now() < window._bokeh_timeout) {\n",
       "      setTimeout(run_inline_js, 100);\n",
       "    } else if (!window._bokeh_failed_load) {\n",
       "      console.log(\"Bokeh: BokehJS failed to load within specified timeout.\");\n",
       "      window._bokeh_failed_load = true;\n",
       "    } else if (force !== true) {\n",
       "      var cell = $(document.getElementById(\"e7fbaba8-4d0b-4568-b5a6-af02b50a343d\")).parents('.cell').data().cell;\n",
       "      cell.output_area.append_execute_result(NB_LOAD_WARNING)\n",
       "    }\n",
       "\n",
       "  }\n",
       "\n",
       "  if (window._bokeh_is_loading === 0) {\n",
       "    console.log(\"Bokeh: BokehJS loaded, going straight to plotting\");\n",
       "    run_inline_js();\n",
       "  } else {\n",
       "    load_libs(js_urls, function() {\n",
       "      console.log(\"Bokeh: BokehJS plotting callback run at\", now());\n",
       "      run_inline_js();\n",
       "    });\n",
       "  }\n",
       "}(this));"
      ]
     },
     "metadata": {},
     "output_type": "display_data"
    }
   ],
   "source": [
    "from ipywidgets import interact\n",
    "\n",
    "from bokeh.io import push_notebook, show, output_notebook\n",
    "from bokeh.plotting import figure\n",
    "output_notebook()"
   ]
  },
  {
   "cell_type": "code",
   "execution_count": 2,
   "metadata": {
    "collapsed": false
   },
   "outputs": [],
   "source": [
    "# loading data\n",
    "\n",
    "data= pd.read_csv('preprocessed2.csv')"
   ]
  },
  {
   "cell_type": "code",
   "execution_count": 3,
   "metadata": {
    "collapsed": false,
    "scrolled": false
   },
   "outputs": [
    {
     "data": {
      "text/html": [
       "<div>\n",
       "<table border=\"1\" class=\"dataframe\">\n",
       "  <thead>\n",
       "    <tr style=\"text-align: right;\">\n",
       "      <th></th>\n",
       "      <th>Unnamed: 0</th>\n",
       "      <th>uuid</th>\n",
       "      <th>src_site_data center a</th>\n",
       "      <th>src_site_data center b</th>\n",
       "      <th>src_site_data center c</th>\n",
       "      <th>src_site_data center d</th>\n",
       "      <th>src_site_data center e</th>\n",
       "      <th>dst_site_data center a</th>\n",
       "      <th>dst_site_data center b</th>\n",
       "      <th>dst_site_data center c</th>\n",
       "      <th>dst_site_data center d</th>\n",
       "      <th>dst_site_data center e</th>\n",
       "      <th>bytes</th>\n",
       "      <th>event_type_x_transfer-success</th>\n",
       "      <th>event_type_x_transfer-failure</th>\n",
       "      <th>time_taken</th>\n",
       "    </tr>\n",
       "  </thead>\n",
       "  <tbody>\n",
       "    <tr>\n",
       "      <th>0</th>\n",
       "      <td>0</td>\n",
       "      <td>ebbf565d-7e70-4677-9f07-b08d72051ddb</td>\n",
       "      <td>0</td>\n",
       "      <td>0</td>\n",
       "      <td>1</td>\n",
       "      <td>0</td>\n",
       "      <td>0</td>\n",
       "      <td>0</td>\n",
       "      <td>0</td>\n",
       "      <td>0</td>\n",
       "      <td>0</td>\n",
       "      <td>1</td>\n",
       "      <td>8940116437</td>\n",
       "      <td>1</td>\n",
       "      <td>0</td>\n",
       "      <td>8797.0</td>\n",
       "    </tr>\n",
       "    <tr>\n",
       "      <th>1</th>\n",
       "      <td>1</td>\n",
       "      <td>3ba82468-6516-4d6f-883c-1ac1108c3d89</td>\n",
       "      <td>0</td>\n",
       "      <td>1</td>\n",
       "      <td>0</td>\n",
       "      <td>0</td>\n",
       "      <td>0</td>\n",
       "      <td>0</td>\n",
       "      <td>0</td>\n",
       "      <td>1</td>\n",
       "      <td>0</td>\n",
       "      <td>0</td>\n",
       "      <td>1288661369</td>\n",
       "      <td>1</td>\n",
       "      <td>0</td>\n",
       "      <td>6568.0</td>\n",
       "    </tr>\n",
       "    <tr>\n",
       "      <th>2</th>\n",
       "      <td>2</td>\n",
       "      <td>22b1ff08-a2ec-427e-b53b-fea91787e7b5</td>\n",
       "      <td>0</td>\n",
       "      <td>1</td>\n",
       "      <td>0</td>\n",
       "      <td>0</td>\n",
       "      <td>0</td>\n",
       "      <td>0</td>\n",
       "      <td>0</td>\n",
       "      <td>0</td>\n",
       "      <td>1</td>\n",
       "      <td>0</td>\n",
       "      <td>4230378729</td>\n",
       "      <td>1</td>\n",
       "      <td>0</td>\n",
       "      <td>8638.0</td>\n",
       "    </tr>\n",
       "    <tr>\n",
       "      <th>3</th>\n",
       "      <td>3</td>\n",
       "      <td>713aabb7-0cfd-4b3e-a1ad-9de5fbb6ac50</td>\n",
       "      <td>0</td>\n",
       "      <td>0</td>\n",
       "      <td>0</td>\n",
       "      <td>1</td>\n",
       "      <td>0</td>\n",
       "      <td>1</td>\n",
       "      <td>0</td>\n",
       "      <td>0</td>\n",
       "      <td>0</td>\n",
       "      <td>0</td>\n",
       "      <td>8116545364</td>\n",
       "      <td>1</td>\n",
       "      <td>0</td>\n",
       "      <td>8372.0</td>\n",
       "    </tr>\n",
       "    <tr>\n",
       "      <th>4</th>\n",
       "      <td>4</td>\n",
       "      <td>3395b5c9-fee0-4dbd-ac0b-5e2ffc59d4b3</td>\n",
       "      <td>1</td>\n",
       "      <td>0</td>\n",
       "      <td>0</td>\n",
       "      <td>0</td>\n",
       "      <td>0</td>\n",
       "      <td>0</td>\n",
       "      <td>0</td>\n",
       "      <td>0</td>\n",
       "      <td>0</td>\n",
       "      <td>1</td>\n",
       "      <td>5182557683</td>\n",
       "      <td>1</td>\n",
       "      <td>0</td>\n",
       "      <td>8305.0</td>\n",
       "    </tr>\n",
       "  </tbody>\n",
       "</table>\n",
       "</div>"
      ],
      "text/plain": [
       "   Unnamed: 0                                  uuid  src_site_data center a  \\\n",
       "0           0  ebbf565d-7e70-4677-9f07-b08d72051ddb                       0   \n",
       "1           1  3ba82468-6516-4d6f-883c-1ac1108c3d89                       0   \n",
       "2           2  22b1ff08-a2ec-427e-b53b-fea91787e7b5                       0   \n",
       "3           3  713aabb7-0cfd-4b3e-a1ad-9de5fbb6ac50                       0   \n",
       "4           4  3395b5c9-fee0-4dbd-ac0b-5e2ffc59d4b3                       1   \n",
       "\n",
       "   src_site_data center b  src_site_data center c  src_site_data center d  \\\n",
       "0                       0                       1                       0   \n",
       "1                       1                       0                       0   \n",
       "2                       1                       0                       0   \n",
       "3                       0                       0                       1   \n",
       "4                       0                       0                       0   \n",
       "\n",
       "   src_site_data center e  dst_site_data center a  dst_site_data center b  \\\n",
       "0                       0                       0                       0   \n",
       "1                       0                       0                       0   \n",
       "2                       0                       0                       0   \n",
       "3                       0                       1                       0   \n",
       "4                       0                       0                       0   \n",
       "\n",
       "   dst_site_data center c  dst_site_data center d  dst_site_data center e  \\\n",
       "0                       0                       0                       1   \n",
       "1                       1                       0                       0   \n",
       "2                       0                       1                       0   \n",
       "3                       0                       0                       0   \n",
       "4                       0                       0                       1   \n",
       "\n",
       "        bytes  event_type_x_transfer-success  event_type_x_transfer-failure  \\\n",
       "0  8940116437                              1                              0   \n",
       "1  1288661369                              1                              0   \n",
       "2  4230378729                              1                              0   \n",
       "3  8116545364                              1                              0   \n",
       "4  5182557683                              1                              0   \n",
       "\n",
       "   time_taken  \n",
       "0      8797.0  \n",
       "1      6568.0  \n",
       "2      8638.0  \n",
       "3      8372.0  \n",
       "4      8305.0  "
      ]
     },
     "execution_count": 3,
     "metadata": {},
     "output_type": "execute_result"
    }
   ],
   "source": [
    "data.head()"
   ]
  },
  {
   "cell_type": "markdown",
   "metadata": {},
   "source": [
    "### Normailizing the inputs:\n",
    "\n",
    "* All the variables except the file size are already suitably scaled. Therefore there isn't any need to use a library like scikit-learn to scale the entire dataset.\n",
    "* Normalizing the file size to values between 0 and 1."
   ]
  },
  {
   "cell_type": "code",
   "execution_count": 4,
   "metadata": {
    "collapsed": false
   },
   "outputs": [],
   "source": [
    "max, min=data['bytes'].max(),data['bytes'].min()\n",
    "\n",
    "data['bytes']= (data['bytes'] - min) / max\n",
    "\n",
    "data= data.drop(['Unnamed: 0'], axis=1)\n",
    "data.head()"
   ]
  },
  {
   "cell_type": "code",
   "execution_count": 9,
   "metadata": {
    "collapsed": false
   },
   "outputs": [
    {
     "data": {
      "text/plain": [
       "(1000000, 15)"
      ]
     },
     "execution_count": 9,
     "metadata": {},
     "output_type": "execute_result"
    }
   ],
   "source": [
    "data.shape"
   ]
  },
  {
   "cell_type": "code",
   "execution_count": 10,
   "metadata": {
    "collapsed": false
   },
   "outputs": [
    {
     "data": {
      "text/plain": [
       "(1000000, 14)"
      ]
     },
     "execution_count": 10,
     "metadata": {},
     "output_type": "execute_result"
    }
   ],
   "source": [
    "model_data = np.array(data.drop('uuid',axis=1))\n",
    "model_data.shape"
   ]
  },
  {
   "cell_type": "code",
   "execution_count": null,
   "metadata": {
    "collapsed": true
   },
   "outputs": [],
   "source": []
  },
  {
   "cell_type": "markdown",
   "metadata": {},
   "source": [
    "### Splitting the training and testing data"
   ]
  },
  {
   "cell_type": "code",
   "execution_count": 11,
   "metadata": {
    "collapsed": true
   },
   "outputs": [],
   "source": [
    "trainX,trainY, testX,testY = model_data[:800000,:13],model_data[:800000,13],model_data[800000:,:13],model_data[800000:,13]"
   ]
  },
  {
   "cell_type": "code",
   "execution_count": 12,
   "metadata": {
    "collapsed": false
   },
   "outputs": [
    {
     "data": {
      "text/plain": [
       "(800000, 13)"
      ]
     },
     "execution_count": 12,
     "metadata": {},
     "output_type": "execute_result"
    }
   ],
   "source": [
    "trainX.shape"
   ]
  },
  {
   "cell_type": "code",
   "execution_count": 13,
   "metadata": {
    "collapsed": false
   },
   "outputs": [
    {
     "data": {
      "text/plain": [
       "(800000,)"
      ]
     },
     "execution_count": 13,
     "metadata": {},
     "output_type": "execute_result"
    }
   ],
   "source": [
    "trainY.shape"
   ]
  },
  {
   "cell_type": "markdown",
   "metadata": {
    "collapsed": false
   },
   "source": [
    "# Building and compiling the neural network"
   ]
  },
  {
   "cell_type": "code",
   "execution_count": 74,
   "metadata": {
    "collapsed": true
   },
   "outputs": [],
   "source": [
    "import keras.callbacks as cb\n",
    "\n",
    "class LossHistory(cb.Callback):\n",
    "    def on_train_begin(self, logs={}):\n",
    "        self.losses = []\n",
    "\n",
    "    def on_batch_end(self, batch, logs={}):\n",
    "        batch_loss = logs.get('loss')\n",
    "        self.losses.append(batch_loss)"
   ]
  },
  {
   "cell_type": "code",
   "execution_count": 75,
   "metadata": {
    "collapsed": false
   },
   "outputs": [],
   "source": [
    "def init_model():\n",
    "    start_time= time.time()\n",
    "    print('Compiling model ...')\n",
    "    \n",
    "    model = Sequential()\n",
    "    model.add(Dense(512, input_dim=13,init='normal', activation='tanh'))\n",
    "\n",
    "    model.add(Dense(512,init='normal', activation='linear'))\n",
    "    model.add(LeakyReLU(alpha=0.001))\n",
    "\n",
    "    model.add(Dense(512, init='normal', activation='tanh'))\n",
    "    model.add(Dense(256, init='normal', activation='relu'))\n",
    "    # model.add(LeakyReLU(alpha=0.001))\n",
    "\n",
    "    model.add(Dense(256, init='normal', activation='linear'))\n",
    "    model.add(Dense(128, init='normal', activation='relu'))\n",
    "    model.add(Dense(1))\n",
    "\n",
    "    model.compile(loss='mean_squared_error', optimizer='adam', metric=['mean_squared_error'])\n",
    "    print('Model compield in {0} seconds'.format(time.time() - start_time))\n",
    "    return model"
   ]
  },
  {
   "cell_type": "code",
   "execution_count": 85,
   "metadata": {
    "collapsed": false
   },
   "outputs": [],
   "source": [
    "def run_network(model=None, epochs=20, batch=256):\n",
    "    try:\n",
    "        start_time = time.time()\n",
    "\n",
    "        if model is None:\n",
    "            model = init_model()\n",
    "\n",
    "        history = LossHistory()\n",
    "\n",
    "        print('Training model...')\n",
    "        training = model.fit(trainX, trainY, nb_epoch=epochs, batch_size=batch,\n",
    "                             callbacks=[history, TQDMNotebookCallback(leave_inner=True)],\n",
    "                             validation_split=0.1, verbose=0)\n",
    "\n",
    "        print(\"Training duration : {0}\".format(time.time() - start_time))\n",
    "        score = model.evaluate(trainX, trainY, verbose=0)\n",
    "\n",
    "        print(\"Network's training score [MSE]: {0}\".format(score))\n",
    "        print(\"Training finished !!!!!!\")\n",
    "        return model, history.losses\n",
    "    except KeyboardInterrupt:\n",
    "        print('KeyboardInterrupt')\n",
    "        return model, history.losses"
   ]
  },
  {
   "cell_type": "code",
   "execution_count": 101,
   "metadata": {
    "collapsed": true
   },
   "outputs": [],
   "source": [
    "def plot_losses(losses):\n",
    "    sns.set_context('poster')\n",
    "    fig = plt.figure()\n",
    "    ax = fig.add_subplot(111)\n",
    "    ax.plot(losses)\n",
    "    ax.set_title('Loss per batch')\n",
    "    fig.show()\n",
    "    print(len(losses))"
   ]
  },
  {
   "cell_type": "markdown",
   "metadata": {
    "collapsed": true
   },
   "source": [
    "## Training the neural net on training data set\n",
    "\n",
    "### Validation set = 10 % of training data i.e. 100,000 data points"
   ]
  },
  {
   "cell_type": "code",
   "execution_count": 102,
   "metadata": {
    "collapsed": false
   },
   "outputs": [
    {
     "name": "stdout",
     "output_type": "stream",
     "text": [
      "Compiling model ...\n",
      "Model compield in 0.2224595546722412 seconds\n",
      "Training model...\n"
     ]
    },
    {
     "name": "stderr",
     "output_type": "stream",
     "text": [
      "/home/vyom/anaconda3/envs/CERN/lib/python3.5/site-packages/keras/backend/tensorflow_backend.py:1960: UserWarning: Expected no kwargs, you passed 1\n",
      "kwargs passed to function are ignored with Tensorflow backend\n",
      "  warnings.warn('\\n'.join(msg))\n"
     ]
    },
    {
     "name": "stdout",
     "output_type": "stream",
     "text": [
      "\n",
      "Training duration : 16.891481399536133\n",
      "Network's training score [MSE]: 2718255.041\n",
      "Training finished !!!!!!\n",
      "150\n"
     ]
    },
    {
     "name": "stderr",
     "output_type": "stream",
     "text": [
      "/home/vyom/anaconda3/envs/CERN/lib/python3.5/site-packages/matplotlib/figure.py:402: UserWarning: matplotlib is currently using a non-GUI backend, so cannot show the figure\n",
      "  \"matplotlib is currently using a non-GUI backend, \"\n"
     ]
    },
    {
     "data": {
      "image/png": "[encoded data removed]",
      "text/html": [
       "\n",
       "\n",
       "<style>\n",
       "\n",
       "</style>\n",
       "\n",
       "<div id=\"fig_el58281402037523096483230292123\"></div>\n",
       "<script>\n",
       "function mpld3_load_lib(url, callback){\n",
       "  var s = document.createElement('script');\n",
       "  s.src = url;\n",
       "  s.async = true;\n",
       "  s.onreadystatechange = s.onload = callback;\n",
       "  s.onerror = function(){console.warn(\"failed to load library \" + url);};\n",
       "  document.getElementsByTagName(\"head\")[0].appendChild(s);\n",
       "}\n",
       "\n",
       "if(typeof(mpld3) !== \"undefined\" && mpld3._mpld3IsLoaded){\n",
       "   // already loaded: just create the figure\n",
       "   !function(mpld3){\n",
       "       \n",
       "       mpld3.draw_figure(\"fig_el58281402037523096483230292123\", {\"width\": 921.6, \"height\": 633.6, \"axes\": [{\"texts\": [{\"v_baseline\": \"auto\", \"text\": \"Loss per batch\", \"color\": \"#262626\", \"rotation\": -0.0, \"fontsize\": 19.200000000000003, \"position\": [0.5, 1.0125426449929762], \"zorder\": 3, \"h_anchor\": \"middle\", \"alpha\": 1, \"coordinates\": \"axes\", \"id\": \"el5828140203842530440\"}], \"zoomable\": true, \"ydomain\": [-3310525.903125, 73782140.090625], \"lines\": [{\"alpha\": 1, \"xindex\": 0, \"data\": \"data01\", \"dasharray\": \"10,0\", \"zorder\": 2, \"color\": \"#4C72B0\", \"yindex\": 1, \"coordinates\": \"data\", \"linewidth\": 2.8000000000000003, \"id\": \"el5828140203841895952\"}], \"sharey\": [], \"axesbg\": \"#EAEAF2\", \"bbox\": [0.125, 0.125, 0.775, 0.755], \"sharex\": [], \"axes\": [{\"scale\": \"linear\", \"tickvalues\": null, \"fontsize\": 16.0, \"grid\": {\"alpha\": 1.0, \"color\": \"#FFFFFF\", \"dasharray\": \"10,0\", \"gridOn\": true}, \"nticks\": 10, \"position\": \"bottom\", \"tickformat\": null}, {\"scale\": \"linear\", \"tickvalues\": null, \"fontsize\": 16.0, \"grid\": {\"alpha\": 1.0, \"color\": \"#FFFFFF\", \"dasharray\": \"10,0\", \"gridOn\": true}, \"nticks\": 10, \"position\": \"left\", \"tickformat\": null}], \"paths\": [], \"id\": \"el5828140203752546144\", \"images\": [], \"xlim\": [-7.45, 156.45], \"yscale\": \"linear\", \"markers\": [], \"ylim\": [-3310525.903125, 73782140.090625], \"axesbgalpha\": null, \"collections\": [], \"xdomain\": [-7.45, 156.45], \"xscale\": \"linear\"}], \"data\": {\"data01\": [[0.0, 70277928.0], [1.0, 64194952.0], [2.0, 68827824.0], [3.0, 68790480.0], [4.0, 67012220.0], [5.0, 62083624.0], [6.0, 66537104.0], [7.0, 68828416.0], [8.0, 67168648.0], [9.0, 68940512.0], [10.0, 66898372.0], [11.0, 67763864.0], [12.0, 61083188.0], [13.0, 62119676.0], [14.0, 63003608.0], [15.0, 63681328.0], [16.0, 62499920.0], [17.0, 60418896.0], [18.0, 54062384.0], [19.0, 56577196.0], [20.0, 52057960.0], [21.0, 51221940.0], [22.0, 47982212.0], [23.0, 43990576.0], [24.0, 39142900.0], [25.0, 34050208.0], [26.0, 35801800.0], [27.0, 30153656.0], [28.0, 24469736.0], [29.0, 22851396.0], [30.0, 18795930.0], [31.0, 13998440.0], [32.0, 10507871.0], [33.0, 7935697.5], [34.0, 4361280.0], [35.0, 4244791.5], [36.0, 5158538.0], [37.0, 6882363.5], [38.0, 9684877.0], [39.0, 8964578.0], [40.0, 14901296.0], [41.0, 15695732.0], [42.0, 14958071.0], [43.0, 8382245.5], [44.0, 193686.1875], [45.0, 9936792.0], [46.0, 4200287.0], [47.0, 6358880.5], [48.0, 5422820.0], [49.0, 8844138.0], [50.0, 4736439.0], [51.0, 5006656.0], [52.0, 5979388.5], [53.0, 6584547.0], [54.0, 4749366.0], [55.0, 9021951.0], [56.0, 5819072.0], [57.0, 8735802.0], [58.0, 6972522.5], [59.0, 3879719.5], [60.0, 7052715.5], [61.0, 6494408.0], [62.0, 5315475.5], [63.0, 6239349.0], [64.0, 3018891.25], [65.0, 5136334.0], [66.0, 4726486.0], [67.0, 7570416.0], [68.0, 3789977.5], [69.0, 4332035.0], [70.0, 4169722.5], [71.0, 3500140.5], [72.0, 3604841.0], [73.0, 2995745.25], [74.0, 16100890.0], [75.0, 2788522.5], [76.0, 3002256.75], [77.0, 3516901.75], [78.0, 2152108.5], [79.0, 2253938.0], [80.0, 3167274.5], [81.0, 3312028.5], [82.0, 3789028.5], [83.0, 2941713.5], [84.0, 2581870.75], [85.0, 1408471.5], [86.0, 3793426.0], [87.0, 3181424.25], [88.0, 4459592.0], [89.0, 647854.9375], [90.0, 3093578.0], [91.0, 3052009.0], [92.0, 3023115.75], [93.0, 3723547.75], [94.0, 2122325.0], [95.0, 1970188.0], [96.0, 3568587.5], [97.0, 2797765.5], [98.0, 3628722.0], [99.0, 4321491.0], [100.0, 2357374.0], [101.0, 2314138.0], [102.0, 1636040.5], [103.0, 2347355.75], [104.0, 1375528.875], [105.0, 2705442.0], [106.0, 2572380.5], [107.0, 3870945.25], [108.0, 3302355.0], [109.0, 1921096.25], [110.0, 2962043.75], [111.0, 2997656.0], [112.0, 2925659.0], [113.0, 2739280.5], [114.0, 2413455.5], [115.0, 2818586.75], [116.0, 2981253.25], [117.0, 2107489.0], [118.0, 2808419.0], [119.0, 427904.15625], [120.0, 2345670.5], [121.0, 1619955.375], [122.0, 2585990.25], [123.0, 2668157.75], [124.0, 2575916.0], [125.0, 3219512.5], [126.0, 1423550.875], [127.0, 4215199.0], [128.0, 2361907.5], [129.0, 3252018.0], [130.0, 3304958.5], [131.0, 3853722.5], [132.0, 2583544.25], [133.0, 2209324.5], [134.0, 12457704.0], [135.0, 2907208.0], [136.0, 3635391.0], [137.0, 2951652.0], [138.0, 1675200.75], [139.0, 2157828.0], [140.0, 2263997.5], [141.0, 2681148.5], [142.0, 2438555.5], [143.0, 2654136.25], [144.0, 2174794.0], [145.0, 3872747.0], [146.0, 4353341.5], [147.0, 3025608.0], [148.0, 2439950.75], [149.0, 4209410.0]]}, \"plugins\": [{\"type\": \"reset\"}, {\"type\": \"zoom\", \"button\": true, \"enabled\": false}, {\"type\": \"boxzoom\", \"button\": true, \"enabled\": false}], \"id\": \"el5828140203752309648\"});\n",
       "   }(mpld3);\n",
       "}else if(typeof define === \"function\" && define.amd){\n",
       "   // require.js is available: use it to load d3/mpld3\n",
       "   require.config({paths: {d3: \"https://mpld3.github.io/js/d3.v3.min\"}});\n",
       "   require([\"d3\"], function(d3){\n",
       "      window.d3 = d3;\n",
       "      mpld3_load_lib(\"https://mpld3.github.io/js/mpld3.v0.2.js\", function(){\n",
       "         \n",
       "         mpld3.draw_figure(\"fig_el58281402037523096483230292123\", {\"width\": 921.6, \"height\": 633.6, \"axes\": [{\"texts\": [{\"v_baseline\": \"auto\", \"text\": \"Loss per batch\", \"color\": \"#262626\", \"rotation\": -0.0, \"fontsize\": 19.200000000000003, \"position\": [0.5, 1.0125426449929762], \"zorder\": 3, \"h_anchor\": \"middle\", \"alpha\": 1, \"coordinates\": \"axes\", \"id\": \"el5828140203842530440\"}], \"zoomable\": true, \"ydomain\": [-3310525.903125, 73782140.090625], \"lines\": [{\"alpha\": 1, \"xindex\": 0, \"data\": \"data01\", \"dasharray\": \"10,0\", \"zorder\": 2, \"color\": \"#4C72B0\", \"yindex\": 1, \"coordinates\": \"data\", \"linewidth\": 2.8000000000000003, \"id\": \"el5828140203841895952\"}], \"sharey\": [], \"axesbg\": \"#EAEAF2\", \"bbox\": [0.125, 0.125, 0.775, 0.755], \"sharex\": [], \"axes\": [{\"scale\": \"linear\", \"tickvalues\": null, \"fontsize\": 16.0, \"grid\": {\"alpha\": 1.0, \"color\": \"#FFFFFF\", \"dasharray\": \"10,0\", \"gridOn\": true}, \"nticks\": 10, \"position\": \"bottom\", \"tickformat\": null}, {\"scale\": \"linear\", \"tickvalues\": null, \"fontsize\": 16.0, \"grid\": {\"alpha\": 1.0, \"color\": \"#FFFFFF\", \"dasharray\": \"10,0\", \"gridOn\": true}, \"nticks\": 10, \"position\": \"left\", \"tickformat\": null}], \"paths\": [], \"id\": \"el5828140203752546144\", \"images\": [], \"xlim\": [-7.45, 156.45], \"yscale\": \"linear\", \"markers\": [], \"ylim\": [-3310525.903125, 73782140.090625], \"axesbgalpha\": null, \"collections\": [], \"xdomain\": [-7.45, 156.45], \"xscale\": \"linear\"}], \"data\": {\"data01\": [[0.0, 70277928.0], [1.0, 64194952.0], [2.0, 68827824.0], [3.0, 68790480.0], [4.0, 67012220.0], [5.0, 62083624.0], [6.0, 66537104.0], [7.0, 68828416.0], [8.0, 67168648.0], [9.0, 68940512.0], [10.0, 66898372.0], [11.0, 67763864.0], [12.0, 61083188.0], [13.0, 62119676.0], [14.0, 63003608.0], [15.0, 63681328.0], [16.0, 62499920.0], [17.0, 60418896.0], [18.0, 54062384.0], [19.0, 56577196.0], [20.0, 52057960.0], [21.0, 51221940.0], [22.0, 47982212.0], [23.0, 43990576.0], [24.0, 39142900.0], [25.0, 34050208.0], [26.0, 35801800.0], [27.0, 30153656.0], [28.0, 24469736.0], [29.0, 22851396.0], [30.0, 18795930.0], [31.0, 13998440.0], [32.0, 10507871.0], [33.0, 7935697.5], [34.0, 4361280.0], [35.0, 4244791.5], [36.0, 5158538.0], [37.0, 6882363.5], [38.0, 9684877.0], [39.0, 8964578.0], [40.0, 14901296.0], [41.0, 15695732.0], [42.0, 14958071.0], [43.0, 8382245.5], [44.0, 193686.1875], [45.0, 9936792.0], [46.0, 4200287.0], [47.0, 6358880.5], [48.0, 5422820.0], [49.0, 8844138.0], [50.0, 4736439.0], [51.0, 5006656.0], [52.0, 5979388.5], [53.0, 6584547.0], [54.0, 4749366.0], [55.0, 9021951.0], [56.0, 5819072.0], [57.0, 8735802.0], [58.0, 6972522.5], [59.0, 3879719.5], [60.0, 7052715.5], [61.0, 6494408.0], [62.0, 5315475.5], [63.0, 6239349.0], [64.0, 3018891.25], [65.0, 5136334.0], [66.0, 4726486.0], [67.0, 7570416.0], [68.0, 3789977.5], [69.0, 4332035.0], [70.0, 4169722.5], [71.0, 3500140.5], [72.0, 3604841.0], [73.0, 2995745.25], [74.0, 16100890.0], [75.0, 2788522.5], [76.0, 3002256.75], [77.0, 3516901.75], [78.0, 2152108.5], [79.0, 2253938.0], [80.0, 3167274.5], [81.0, 3312028.5], [82.0, 3789028.5], [83.0, 2941713.5], [84.0, 2581870.75], [85.0, 1408471.5], [86.0, 3793426.0], [87.0, 3181424.25], [88.0, 4459592.0], [89.0, 647854.9375], [90.0, 3093578.0], [91.0, 3052009.0], [92.0, 3023115.75], [93.0, 3723547.75], [94.0, 2122325.0], [95.0, 1970188.0], [96.0, 3568587.5], [97.0, 2797765.5], [98.0, 3628722.0], [99.0, 4321491.0], [100.0, 2357374.0], [101.0, 2314138.0], [102.0, 1636040.5], [103.0, 2347355.75], [104.0, 1375528.875], [105.0, 2705442.0], [106.0, 2572380.5], [107.0, 3870945.25], [108.0, 3302355.0], [109.0, 1921096.25], [110.0, 2962043.75], [111.0, 2997656.0], [112.0, 2925659.0], [113.0, 2739280.5], [114.0, 2413455.5], [115.0, 2818586.75], [116.0, 2981253.25], [117.0, 2107489.0], [118.0, 2808419.0], [119.0, 427904.15625], [120.0, 2345670.5], [121.0, 1619955.375], [122.0, 2585990.25], [123.0, 2668157.75], [124.0, 2575916.0], [125.0, 3219512.5], [126.0, 1423550.875], [127.0, 4215199.0], [128.0, 2361907.5], [129.0, 3252018.0], [130.0, 3304958.5], [131.0, 3853722.5], [132.0, 2583544.25], [133.0, 2209324.5], [134.0, 12457704.0], [135.0, 2907208.0], [136.0, 3635391.0], [137.0, 2951652.0], [138.0, 1675200.75], [139.0, 2157828.0], [140.0, 2263997.5], [141.0, 2681148.5], [142.0, 2438555.5], [143.0, 2654136.25], [144.0, 2174794.0], [145.0, 3872747.0], [146.0, 4353341.5], [147.0, 3025608.0], [148.0, 2439950.75], [149.0, 4209410.0]]}, \"plugins\": [{\"type\": \"reset\"}, {\"type\": \"zoom\", \"button\": true, \"enabled\": false}, {\"type\": \"boxzoom\", \"button\": true, \"enabled\": false}], \"id\": \"el5828140203752309648\"});\n",
       "      });\n",
       "    });\n",
       "}else{\n",
       "    // require.js not available: dynamically load d3 & mpld3\n",
       "    mpld3_load_lib(\"https://mpld3.github.io/js/d3.v3.min.js\", function(){\n",
       "         mpld3_load_lib(\"https://mpld3.github.io/js/mpld3.v0.2.js\", function(){\n",
       "                 \n",
       "                 mpld3.draw_figure(\"fig_el58281402037523096483230292123\", {\"width\": 921.6, \"height\": 633.6, \"axes\": [{\"texts\": [{\"v_baseline\": \"auto\", \"text\": \"Loss per batch\", \"color\": \"#262626\", \"rotation\": -0.0, \"fontsize\": 19.200000000000003, \"position\": [0.5, 1.0125426449929762], \"zorder\": 3, \"h_anchor\": \"middle\", \"alpha\": 1, \"coordinates\": \"axes\", \"id\": \"el5828140203842530440\"}], \"zoomable\": true, \"ydomain\": [-3310525.903125, 73782140.090625], \"lines\": [{\"alpha\": 1, \"xindex\": 0, \"data\": \"data01\", \"dasharray\": \"10,0\", \"zorder\": 2, \"color\": \"#4C72B0\", \"yindex\": 1, \"coordinates\": \"data\", \"linewidth\": 2.8000000000000003, \"id\": \"el5828140203841895952\"}], \"sharey\": [], \"axesbg\": \"#EAEAF2\", \"bbox\": [0.125, 0.125, 0.775, 0.755], \"sharex\": [], \"axes\": [{\"scale\": \"linear\", \"tickvalues\": null, \"fontsize\": 16.0, \"grid\": {\"alpha\": 1.0, \"color\": \"#FFFFFF\", \"dasharray\": \"10,0\", \"gridOn\": true}, \"nticks\": 10, \"position\": \"bottom\", \"tickformat\": null}, {\"scale\": \"linear\", \"tickvalues\": null, \"fontsize\": 16.0, \"grid\": {\"alpha\": 1.0, \"color\": \"#FFFFFF\", \"dasharray\": \"10,0\", \"gridOn\": true}, \"nticks\": 10, \"position\": \"left\", \"tickformat\": null}], \"paths\": [], \"id\": \"el5828140203752546144\", \"images\": [], \"xlim\": [-7.45, 156.45], \"yscale\": \"linear\", \"markers\": [], \"ylim\": [-3310525.903125, 73782140.090625], \"axesbgalpha\": null, \"collections\": [], \"xdomain\": [-7.45, 156.45], \"xscale\": \"linear\"}], \"data\": {\"data01\": [[0.0, 70277928.0], [1.0, 64194952.0], [2.0, 68827824.0], [3.0, 68790480.0], [4.0, 67012220.0], [5.0, 62083624.0], [6.0, 66537104.0], [7.0, 68828416.0], [8.0, 67168648.0], [9.0, 68940512.0], [10.0, 66898372.0], [11.0, 67763864.0], [12.0, 61083188.0], [13.0, 62119676.0], [14.0, 63003608.0], [15.0, 63681328.0], [16.0, 62499920.0], [17.0, 60418896.0], [18.0, 54062384.0], [19.0, 56577196.0], [20.0, 52057960.0], [21.0, 51221940.0], [22.0, 47982212.0], [23.0, 43990576.0], [24.0, 39142900.0], [25.0, 34050208.0], [26.0, 35801800.0], [27.0, 30153656.0], [28.0, 24469736.0], [29.0, 22851396.0], [30.0, 18795930.0], [31.0, 13998440.0], [32.0, 10507871.0], [33.0, 7935697.5], [34.0, 4361280.0], [35.0, 4244791.5], [36.0, 5158538.0], [37.0, 6882363.5], [38.0, 9684877.0], [39.0, 8964578.0], [40.0, 14901296.0], [41.0, 15695732.0], [42.0, 14958071.0], [43.0, 8382245.5], [44.0, 193686.1875], [45.0, 9936792.0], [46.0, 4200287.0], [47.0, 6358880.5], [48.0, 5422820.0], [49.0, 8844138.0], [50.0, 4736439.0], [51.0, 5006656.0], [52.0, 5979388.5], [53.0, 6584547.0], [54.0, 4749366.0], [55.0, 9021951.0], [56.0, 5819072.0], [57.0, 8735802.0], [58.0, 6972522.5], [59.0, 3879719.5], [60.0, 7052715.5], [61.0, 6494408.0], [62.0, 5315475.5], [63.0, 6239349.0], [64.0, 3018891.25], [65.0, 5136334.0], [66.0, 4726486.0], [67.0, 7570416.0], [68.0, 3789977.5], [69.0, 4332035.0], [70.0, 4169722.5], [71.0, 3500140.5], [72.0, 3604841.0], [73.0, 2995745.25], [74.0, 16100890.0], [75.0, 2788522.5], [76.0, 3002256.75], [77.0, 3516901.75], [78.0, 2152108.5], [79.0, 2253938.0], [80.0, 3167274.5], [81.0, 3312028.5], [82.0, 3789028.5], [83.0, 2941713.5], [84.0, 2581870.75], [85.0, 1408471.5], [86.0, 3793426.0], [87.0, 3181424.25], [88.0, 4459592.0], [89.0, 647854.9375], [90.0, 3093578.0], [91.0, 3052009.0], [92.0, 3023115.75], [93.0, 3723547.75], [94.0, 2122325.0], [95.0, 1970188.0], [96.0, 3568587.5], [97.0, 2797765.5], [98.0, 3628722.0], [99.0, 4321491.0], [100.0, 2357374.0], [101.0, 2314138.0], [102.0, 1636040.5], [103.0, 2347355.75], [104.0, 1375528.875], [105.0, 2705442.0], [106.0, 2572380.5], [107.0, 3870945.25], [108.0, 3302355.0], [109.0, 1921096.25], [110.0, 2962043.75], [111.0, 2997656.0], [112.0, 2925659.0], [113.0, 2739280.5], [114.0, 2413455.5], [115.0, 2818586.75], [116.0, 2981253.25], [117.0, 2107489.0], [118.0, 2808419.0], [119.0, 427904.15625], [120.0, 2345670.5], [121.0, 1619955.375], [122.0, 2585990.25], [123.0, 2668157.75], [124.0, 2575916.0], [125.0, 3219512.5], [126.0, 1423550.875], [127.0, 4215199.0], [128.0, 2361907.5], [129.0, 3252018.0], [130.0, 3304958.5], [131.0, 3853722.5], [132.0, 2583544.25], [133.0, 2209324.5], [134.0, 12457704.0], [135.0, 2907208.0], [136.0, 3635391.0], [137.0, 2951652.0], [138.0, 1675200.75], [139.0, 2157828.0], [140.0, 2263997.5], [141.0, 2681148.5], [142.0, 2438555.5], [143.0, 2654136.25], [144.0, 2174794.0], [145.0, 3872747.0], [146.0, 4353341.5], [147.0, 3025608.0], [148.0, 2439950.75], [149.0, 4209410.0]]}, \"plugins\": [{\"type\": \"reset\"}, {\"type\": \"zoom\", \"button\": true, \"enabled\": false}, {\"type\": \"boxzoom\", \"button\": true, \"enabled\": false}], \"id\": \"el5828140203752309648\"});\n",
       "            })\n",
       "         });\n",
       "}\n",
       "</script>"
      ],
      "text/plain": [
       "<matplotlib.figure.Figure at 0x7f83bada4390>"
      ]
     },
     "metadata": {},
     "output_type": "display_data"
    }
   ],
   "source": [
    "model, losses = run_network(epochs= 10, batch=2048)\n",
    "plot_losses(losses)"
   ]
  },
  {
   "cell_type": "code",
   "execution_count": 103,
   "metadata": {
    "collapsed": false
   },
   "outputs": [
    {
     "name": "stdout",
     "output_type": "stream",
     "text": [
      "dict_keys(['val_loss', 'loss'])\n"
     ]
    }
   ],
   "source": [
    "print(training.history.keys())"
   ]
  },
  {
   "cell_type": "markdown",
   "metadata": {},
   "source": [
    "## Plotting the training and validation error"
   ]
  },
  {
   "cell_type": "code",
   "execution_count": 107,
   "metadata": {
    "collapsed": false
   },
   "outputs": [
    {
     "data": {
      "image/png": "[encoded data removed]",
      "text/html": [
       "\n",
       "\n",
       "<style>\n",
       "\n",
       "</style>\n",
       "\n",
       "<div id=\"fig_el58281402037324125125653605825\"></div>\n",
       "<script>\n",
       "function mpld3_load_lib(url, callback){\n",
       "  var s = document.createElement('script');\n",
       "  s.src = url;\n",
       "  s.async = true;\n",
       "  s.onreadystatechange = s.onload = callback;\n",
       "  s.onerror = function(){console.warn(\"failed to load library \" + url);};\n",
       "  document.getElementsByTagName(\"head\")[0].appendChild(s);\n",
       "}\n",
       "\n",
       "if(typeof(mpld3) !== \"undefined\" && mpld3._mpld3IsLoaded){\n",
       "   // already loaded: just create the figure\n",
       "   !function(mpld3){\n",
       "       \n",
       "       mpld3.draw_figure(\"fig_el58281402037324125125653605825\", {\"width\": 921.6, \"height\": 633.6, \"axes\": [{\"texts\": [{\"v_baseline\": \"hanging\", \"text\": \"epoch\", \"color\": \"#262626\", \"rotation\": -0.0, \"fontsize\": 17.6, \"position\": [0.5, -0.06313131313131314], \"zorder\": 3, \"h_anchor\": \"middle\", \"alpha\": 1, \"coordinates\": \"axes\", \"id\": \"el5828140203732608616\"}, {\"v_baseline\": \"auto\", \"text\": \"loss\", \"color\": \"#262626\", \"rotation\": -90.0, \"fontsize\": 17.6, \"position\": [-0.052433355734767026, 0.5], \"zorder\": 3, \"h_anchor\": \"middle\", \"alpha\": 1, \"coordinates\": \"axes\", \"id\": \"el5828140203732317296\"}, {\"v_baseline\": \"auto\", \"text\": \"model loss\", \"color\": \"#262626\", \"rotation\": -0.0, \"fontsize\": 19.200000000000003, \"position\": [0.5, 1.0125426449929762], \"zorder\": 3, \"h_anchor\": \"middle\", \"alpha\": 1, \"coordinates\": \"axes\", \"id\": \"el5828140203732074056\"}, {\"v_baseline\": \"auto\", \"text\": \"None\", \"color\": \"#262626\", \"rotation\": -0.0, \"fontsize\": 19.200000000000003, \"position\": [-0.16129032258064516, -0.16556291390728478], \"zorder\": 1000003.0, \"h_anchor\": \"start\", \"alpha\": 1, \"coordinates\": \"axes\", \"id\": \"el5828140203731757768\"}, {\"v_baseline\": \"auto\", \"text\": \"train\", \"color\": \"#262626\", \"rotation\": -0.0, \"fontsize\": 16.0, \"position\": [0.9024837589605735, 0.9448123620309052], \"zorder\": 1000003.0, \"h_anchor\": \"start\", \"alpha\": 1, \"coordinates\": \"axes\", \"id\": \"el5828140203731730504\"}, {\"v_baseline\": \"auto\", \"text\": \"validate\", \"color\": \"#262626\", \"rotation\": -0.0, \"fontsize\": 16.0, \"position\": [0.9024837589605735, 0.8967322228911634], \"zorder\": 1000003.0, \"h_anchor\": \"start\", \"alpha\": 1, \"coordinates\": \"axes\", \"id\": \"el5828140203731733696\"}], \"zoomable\": true, \"ydomain\": [-1378325.1856354168, 37343012.93709376], \"lines\": [{\"alpha\": 1, \"xindex\": 0, \"data\": \"data01\", \"dasharray\": \"10,0\", \"zorder\": 2, \"color\": \"#4C72B0\", \"yindex\": 1, \"coordinates\": \"data\", \"linewidth\": 2.8000000000000003, \"id\": \"el5828140203732219496\"}, {\"alpha\": 1, \"xindex\": 0, \"data\": \"data01\", \"dasharray\": \"10,0\", \"zorder\": 2, \"color\": \"#55A868\", \"yindex\": 2, \"coordinates\": \"data\", \"linewidth\": 2.8000000000000003, \"id\": \"el5828140203732412456\"}, {\"alpha\": 1, \"xindex\": 0, \"data\": \"data02\", \"dasharray\": \"10,0\", \"zorder\": 1000002.0, \"color\": \"#4C72B0\", \"yindex\": 1, \"coordinates\": \"axes\", \"linewidth\": 2.8000000000000003, \"id\": \"el5828140203731732016\"}, {\"alpha\": 1, \"xindex\": 0, \"data\": \"data02\", \"dasharray\": \"10,0\", \"zorder\": 1000002.0, \"color\": \"#55A868\", \"yindex\": 2, \"coordinates\": \"axes\", \"linewidth\": 2.8000000000000003, \"id\": \"el5828140203731755640\"}], \"sharey\": [], \"axesbg\": \"#EAEAF2\", \"bbox\": [0.125, 0.125, 0.775, 0.755], \"sharex\": [], \"axes\": [{\"scale\": \"linear\", \"tickvalues\": null, \"fontsize\": 16.0, \"grid\": {\"alpha\": 1.0, \"color\": \"#FFFFFF\", \"dasharray\": \"10,0\", \"gridOn\": true}, \"nticks\": 11, \"position\": \"bottom\", \"tickformat\": null}, {\"scale\": \"linear\", \"tickvalues\": null, \"fontsize\": 16.0, \"grid\": {\"alpha\": 1.0, \"color\": \"#FFFFFF\", \"dasharray\": \"10,0\", \"gridOn\": true}, \"nticks\": 10, \"position\": \"left\", \"tickformat\": null}], \"paths\": [{\"edgecolor\": \"#CCCCCC\", \"xindex\": 0, \"dasharray\": \"10,0\", \"id\": \"el5828140203731717088\", \"alpha\": 0.8, \"yindex\": 1, \"edgewidth\": 0.48, \"facecolor\": \"#EAEAF2\", \"zorder\": 1000001.0, \"pathcodes\": [\"M\", \"L\", \"S\", \"L\", \"S\", \"L\", \"S\", \"L\", \"S\", \"Z\"], \"data\": \"data03\", \"coordinates\": \"axes\"}], \"id\": \"el5828140203732330928\", \"images\": [], \"xlim\": [-0.2, 4.2], \"yscale\": \"linear\", \"markers\": [], \"ylim\": [-1378325.1856354168, 37343012.93709376], \"axesbgalpha\": null, \"collections\": [], \"xdomain\": [-0.2, 4.2], \"xscale\": \"linear\"}], \"data\": {\"data02\": [[0.8397597446236559, 0.9565188306910163, 0.9084386915512744], [0.8845626120071685, 0.9565188306910163, 0.9084386915512744]], \"data03\": [[0.8352794578853048, 0.8770820790688343], [0.9843189964157707, 0.8770820790688343], [0.988799283154122, 0.8770820790688343], [0.988799283154122, 0.8837714897317548], [0.988799283154122, 0.9765870626797779], [0.988799283154122, 0.9832764733426986], [0.9843189964157707, 0.9832764733426986], [0.8352794578853048, 0.9832764733426986], [0.8307991711469535, 0.9832764733426986], [0.8307991711469535, 0.9765870626797779], [0.8307991711469535, 0.8837714897317548], [0.8307991711469535, 0.8770820790688343], [0.8352794578853048, 0.8770820790688343]], \"data01\": [[0.0, 35582952.11333334, 7683605.34], [1.0, 3915529.532222222, 2039629.8075], [2.0, 1627460.6488194445, 1045545.5075], [3.0, 819423.7738888889, 381735.638125], [4.0, 506843.60777777777, 413644.6365625]]}, \"plugins\": [{\"type\": \"reset\"}, {\"type\": \"zoom\", \"button\": true, \"enabled\": false}, {\"type\": \"boxzoom\", \"button\": true, \"enabled\": false}], \"id\": \"el5828140203732412512\"});\n",
       "   }(mpld3);\n",
       "}else if(typeof define === \"function\" && define.amd){\n",
       "   // require.js is available: use it to load d3/mpld3\n",
       "   require.config({paths: {d3: \"https://mpld3.github.io/js/d3.v3.min\"}});\n",
       "   require([\"d3\"], function(d3){\n",
       "      window.d3 = d3;\n",
       "      mpld3_load_lib(\"https://mpld3.github.io/js/mpld3.v0.2.js\", function(){\n",
       "         \n",
       "         mpld3.draw_figure(\"fig_el58281402037324125125653605825\", {\"width\": 921.6, \"height\": 633.6, \"axes\": [{\"texts\": [{\"v_baseline\": \"hanging\", \"text\": \"epoch\", \"color\": \"#262626\", \"rotation\": -0.0, \"fontsize\": 17.6, \"position\": [0.5, -0.06313131313131314], \"zorder\": 3, \"h_anchor\": \"middle\", \"alpha\": 1, \"coordinates\": \"axes\", \"id\": \"el5828140203732608616\"}, {\"v_baseline\": \"auto\", \"text\": \"loss\", \"color\": \"#262626\", \"rotation\": -90.0, \"fontsize\": 17.6, \"position\": [-0.052433355734767026, 0.5], \"zorder\": 3, \"h_anchor\": \"middle\", \"alpha\": 1, \"coordinates\": \"axes\", \"id\": \"el5828140203732317296\"}, {\"v_baseline\": \"auto\", \"text\": \"model loss\", \"color\": \"#262626\", \"rotation\": -0.0, \"fontsize\": 19.200000000000003, \"position\": [0.5, 1.0125426449929762], \"zorder\": 3, \"h_anchor\": \"middle\", \"alpha\": 1, \"coordinates\": \"axes\", \"id\": \"el5828140203732074056\"}, {\"v_baseline\": \"auto\", \"text\": \"None\", \"color\": \"#262626\", \"rotation\": -0.0, \"fontsize\": 19.200000000000003, \"position\": [-0.16129032258064516, -0.16556291390728478], \"zorder\": 1000003.0, \"h_anchor\": \"start\", \"alpha\": 1, \"coordinates\": \"axes\", \"id\": \"el5828140203731757768\"}, {\"v_baseline\": \"auto\", \"text\": \"train\", \"color\": \"#262626\", \"rotation\": -0.0, \"fontsize\": 16.0, \"position\": [0.9024837589605735, 0.9448123620309052], \"zorder\": 1000003.0, \"h_anchor\": \"start\", \"alpha\": 1, \"coordinates\": \"axes\", \"id\": \"el5828140203731730504\"}, {\"v_baseline\": \"auto\", \"text\": \"validate\", \"color\": \"#262626\", \"rotation\": -0.0, \"fontsize\": 16.0, \"position\": [0.9024837589605735, 0.8967322228911634], \"zorder\": 1000003.0, \"h_anchor\": \"start\", \"alpha\": 1, \"coordinates\": \"axes\", \"id\": \"el5828140203731733696\"}], \"zoomable\": true, \"ydomain\": [-1378325.1856354168, 37343012.93709376], \"lines\": [{\"alpha\": 1, \"xindex\": 0, \"data\": \"data01\", \"dasharray\": \"10,0\", \"zorder\": 2, \"color\": \"#4C72B0\", \"yindex\": 1, \"coordinates\": \"data\", \"linewidth\": 2.8000000000000003, \"id\": \"el5828140203732219496\"}, {\"alpha\": 1, \"xindex\": 0, \"data\": \"data01\", \"dasharray\": \"10,0\", \"zorder\": 2, \"color\": \"#55A868\", \"yindex\": 2, \"coordinates\": \"data\", \"linewidth\": 2.8000000000000003, \"id\": \"el5828140203732412456\"}, {\"alpha\": 1, \"xindex\": 0, \"data\": \"data02\", \"dasharray\": \"10,0\", \"zorder\": 1000002.0, \"color\": \"#4C72B0\", \"yindex\": 1, \"coordinates\": \"axes\", \"linewidth\": 2.8000000000000003, \"id\": \"el5828140203731732016\"}, {\"alpha\": 1, \"xindex\": 0, \"data\": \"data02\", \"dasharray\": \"10,0\", \"zorder\": 1000002.0, \"color\": \"#55A868\", \"yindex\": 2, \"coordinates\": \"axes\", \"linewidth\": 2.8000000000000003, \"id\": \"el5828140203731755640\"}], \"sharey\": [], \"axesbg\": \"#EAEAF2\", \"bbox\": [0.125, 0.125, 0.775, 0.755], \"sharex\": [], \"axes\": [{\"scale\": \"linear\", \"tickvalues\": null, \"fontsize\": 16.0, \"grid\": {\"alpha\": 1.0, \"color\": \"#FFFFFF\", \"dasharray\": \"10,0\", \"gridOn\": true}, \"nticks\": 11, \"position\": \"bottom\", \"tickformat\": null}, {\"scale\": \"linear\", \"tickvalues\": null, \"fontsize\": 16.0, \"grid\": {\"alpha\": 1.0, \"color\": \"#FFFFFF\", \"dasharray\": \"10,0\", \"gridOn\": true}, \"nticks\": 10, \"position\": \"left\", \"tickformat\": null}], \"paths\": [{\"edgecolor\": \"#CCCCCC\", \"xindex\": 0, \"dasharray\": \"10,0\", \"id\": \"el5828140203731717088\", \"alpha\": 0.8, \"yindex\": 1, \"edgewidth\": 0.48, \"facecolor\": \"#EAEAF2\", \"zorder\": 1000001.0, \"pathcodes\": [\"M\", \"L\", \"S\", \"L\", \"S\", \"L\", \"S\", \"L\", \"S\", \"Z\"], \"data\": \"data03\", \"coordinates\": \"axes\"}], \"id\": \"el5828140203732330928\", \"images\": [], \"xlim\": [-0.2, 4.2], \"yscale\": \"linear\", \"markers\": [], \"ylim\": [-1378325.1856354168, 37343012.93709376], \"axesbgalpha\": null, \"collections\": [], \"xdomain\": [-0.2, 4.2], \"xscale\": \"linear\"}], \"data\": {\"data02\": [[0.8397597446236559, 0.9565188306910163, 0.9084386915512744], [0.8845626120071685, 0.9565188306910163, 0.9084386915512744]], \"data03\": [[0.8352794578853048, 0.8770820790688343], [0.9843189964157707, 0.8770820790688343], [0.988799283154122, 0.8770820790688343], [0.988799283154122, 0.8837714897317548], [0.988799283154122, 0.9765870626797779], [0.988799283154122, 0.9832764733426986], [0.9843189964157707, 0.9832764733426986], [0.8352794578853048, 0.9832764733426986], [0.8307991711469535, 0.9832764733426986], [0.8307991711469535, 0.9765870626797779], [0.8307991711469535, 0.8837714897317548], [0.8307991711469535, 0.8770820790688343], [0.8352794578853048, 0.8770820790688343]], \"data01\": [[0.0, 35582952.11333334, 7683605.34], [1.0, 3915529.532222222, 2039629.8075], [2.0, 1627460.6488194445, 1045545.5075], [3.0, 819423.7738888889, 381735.638125], [4.0, 506843.60777777777, 413644.6365625]]}, \"plugins\": [{\"type\": \"reset\"}, {\"type\": \"zoom\", \"button\": true, \"enabled\": false}, {\"type\": \"boxzoom\", \"button\": true, \"enabled\": false}], \"id\": \"el5828140203732412512\"});\n",
       "      });\n",
       "    });\n",
       "}else{\n",
       "    // require.js not available: dynamically load d3 & mpld3\n",
       "    mpld3_load_lib(\"https://mpld3.github.io/js/d3.v3.min.js\", function(){\n",
       "         mpld3_load_lib(\"https://mpld3.github.io/js/mpld3.v0.2.js\", function(){\n",
       "                 \n",
       "                 mpld3.draw_figure(\"fig_el58281402037324125125653605825\", {\"width\": 921.6, \"height\": 633.6, \"axes\": [{\"texts\": [{\"v_baseline\": \"hanging\", \"text\": \"epoch\", \"color\": \"#262626\", \"rotation\": -0.0, \"fontsize\": 17.6, \"position\": [0.5, -0.06313131313131314], \"zorder\": 3, \"h_anchor\": \"middle\", \"alpha\": 1, \"coordinates\": \"axes\", \"id\": \"el5828140203732608616\"}, {\"v_baseline\": \"auto\", \"text\": \"loss\", \"color\": \"#262626\", \"rotation\": -90.0, \"fontsize\": 17.6, \"position\": [-0.052433355734767026, 0.5], \"zorder\": 3, \"h_anchor\": \"middle\", \"alpha\": 1, \"coordinates\": \"axes\", \"id\": \"el5828140203732317296\"}, {\"v_baseline\": \"auto\", \"text\": \"model loss\", \"color\": \"#262626\", \"rotation\": -0.0, \"fontsize\": 19.200000000000003, \"position\": [0.5, 1.0125426449929762], \"zorder\": 3, \"h_anchor\": \"middle\", \"alpha\": 1, \"coordinates\": \"axes\", \"id\": \"el5828140203732074056\"}, {\"v_baseline\": \"auto\", \"text\": \"None\", \"color\": \"#262626\", \"rotation\": -0.0, \"fontsize\": 19.200000000000003, \"position\": [-0.16129032258064516, -0.16556291390728478], \"zorder\": 1000003.0, \"h_anchor\": \"start\", \"alpha\": 1, \"coordinates\": \"axes\", \"id\": \"el5828140203731757768\"}, {\"v_baseline\": \"auto\", \"text\": \"train\", \"color\": \"#262626\", \"rotation\": -0.0, \"fontsize\": 16.0, \"position\": [0.9024837589605735, 0.9448123620309052], \"zorder\": 1000003.0, \"h_anchor\": \"start\", \"alpha\": 1, \"coordinates\": \"axes\", \"id\": \"el5828140203731730504\"}, {\"v_baseline\": \"auto\", \"text\": \"validate\", \"color\": \"#262626\", \"rotation\": -0.0, \"fontsize\": 16.0, \"position\": [0.9024837589605735, 0.8967322228911634], \"zorder\": 1000003.0, \"h_anchor\": \"start\", \"alpha\": 1, \"coordinates\": \"axes\", \"id\": \"el5828140203731733696\"}], \"zoomable\": true, \"ydomain\": [-1378325.1856354168, 37343012.93709376], \"lines\": [{\"alpha\": 1, \"xindex\": 0, \"data\": \"data01\", \"dasharray\": \"10,0\", \"zorder\": 2, \"color\": \"#4C72B0\", \"yindex\": 1, \"coordinates\": \"data\", \"linewidth\": 2.8000000000000003, \"id\": \"el5828140203732219496\"}, {\"alpha\": 1, \"xindex\": 0, \"data\": \"data01\", \"dasharray\": \"10,0\", \"zorder\": 2, \"color\": \"#55A868\", \"yindex\": 2, \"coordinates\": \"data\", \"linewidth\": 2.8000000000000003, \"id\": \"el5828140203732412456\"}, {\"alpha\": 1, \"xindex\": 0, \"data\": \"data02\", \"dasharray\": \"10,0\", \"zorder\": 1000002.0, \"color\": \"#4C72B0\", \"yindex\": 1, \"coordinates\": \"axes\", \"linewidth\": 2.8000000000000003, \"id\": \"el5828140203731732016\"}, {\"alpha\": 1, \"xindex\": 0, \"data\": \"data02\", \"dasharray\": \"10,0\", \"zorder\": 1000002.0, \"color\": \"#55A868\", \"yindex\": 2, \"coordinates\": \"axes\", \"linewidth\": 2.8000000000000003, \"id\": \"el5828140203731755640\"}], \"sharey\": [], \"axesbg\": \"#EAEAF2\", \"bbox\": [0.125, 0.125, 0.775, 0.755], \"sharex\": [], \"axes\": [{\"scale\": \"linear\", \"tickvalues\": null, \"fontsize\": 16.0, \"grid\": {\"alpha\": 1.0, \"color\": \"#FFFFFF\", \"dasharray\": \"10,0\", \"gridOn\": true}, \"nticks\": 11, \"position\": \"bottom\", \"tickformat\": null}, {\"scale\": \"linear\", \"tickvalues\": null, \"fontsize\": 16.0, \"grid\": {\"alpha\": 1.0, \"color\": \"#FFFFFF\", \"dasharray\": \"10,0\", \"gridOn\": true}, \"nticks\": 10, \"position\": \"left\", \"tickformat\": null}], \"paths\": [{\"edgecolor\": \"#CCCCCC\", \"xindex\": 0, \"dasharray\": \"10,0\", \"id\": \"el5828140203731717088\", \"alpha\": 0.8, \"yindex\": 1, \"edgewidth\": 0.48, \"facecolor\": \"#EAEAF2\", \"zorder\": 1000001.0, \"pathcodes\": [\"M\", \"L\", \"S\", \"L\", \"S\", \"L\", \"S\", \"L\", \"S\", \"Z\"], \"data\": \"data03\", \"coordinates\": \"axes\"}], \"id\": \"el5828140203732330928\", \"images\": [], \"xlim\": [-0.2, 4.2], \"yscale\": \"linear\", \"markers\": [], \"ylim\": [-1378325.1856354168, 37343012.93709376], \"axesbgalpha\": null, \"collections\": [], \"xdomain\": [-0.2, 4.2], \"xscale\": \"linear\"}], \"data\": {\"data02\": [[0.8397597446236559, 0.9565188306910163, 0.9084386915512744], [0.8845626120071685, 0.9565188306910163, 0.9084386915512744]], \"data03\": [[0.8352794578853048, 0.8770820790688343], [0.9843189964157707, 0.8770820790688343], [0.988799283154122, 0.8770820790688343], [0.988799283154122, 0.8837714897317548], [0.988799283154122, 0.9765870626797779], [0.988799283154122, 0.9832764733426986], [0.9843189964157707, 0.9832764733426986], [0.8352794578853048, 0.9832764733426986], [0.8307991711469535, 0.9832764733426986], [0.8307991711469535, 0.9765870626797779], [0.8307991711469535, 0.8837714897317548], [0.8307991711469535, 0.8770820790688343], [0.8352794578853048, 0.8770820790688343]], \"data01\": [[0.0, 35582952.11333334, 7683605.34], [1.0, 3915529.532222222, 2039629.8075], [2.0, 1627460.6488194445, 1045545.5075], [3.0, 819423.7738888889, 381735.638125], [4.0, 506843.60777777777, 413644.6365625]]}, \"plugins\": [{\"type\": \"reset\"}, {\"type\": \"zoom\", \"button\": true, \"enabled\": false}, {\"type\": \"boxzoom\", \"button\": true, \"enabled\": false}], \"id\": \"el5828140203732412512\"});\n",
       "            })\n",
       "         });\n",
       "}\n",
       "</script>"
      ],
      "text/plain": [
       "<matplotlib.figure.Figure at 0x7f83b9aaa860>"
      ]
     },
     "metadata": {},
     "output_type": "display_data"
    }
   ],
   "source": [
    "sns.set_context('poster')\n",
    "\n",
    "plt.plot(training.history['loss'])\n",
    "plt.plot(training.history['val_loss'])\n",
    "plt.title('model loss')\n",
    "plt.ylabel('loss')\n",
    "plt.xlabel('epoch')\n",
    "plt.legend(['train', 'validate'], loc='upper right')\n",
    "plt.show()"
   ]
  },
  {
   "cell_type": "markdown",
   "metadata": {},
   "source": [
    "# Evaluating the model on unseen test data"
   ]
  },
  {
   "cell_type": "code",
   "execution_count": 108,
   "metadata": {
    "collapsed": false
   },
   "outputs": [
    {
     "ename": "KeyboardInterrupt",
     "evalue": "",
     "output_type": "error",
     "traceback": [
      "\u001b[0;31m---------------------------------------------------------------------------\u001b[0m",
      "\u001b[0;31mKeyboardInterrupt\u001b[0m                         Traceback (most recent call last)",
      "\u001b[0;32m<ipython-input-108-e3c0aeea5b1e>\u001b[0m in \u001b[0;36m<module>\u001b[0;34m()\u001b[0m\n\u001b[0;32m----> 1\u001b[0;31m \u001b[0mscore\u001b[0m \u001b[0;34m=\u001b[0m \u001b[0mmodel\u001b[0m\u001b[0;34m.\u001b[0m\u001b[0mevaluate\u001b[0m\u001b[0;34m(\u001b[0m\u001b[0mtestX\u001b[0m\u001b[0;34m,\u001b[0m \u001b[0mtestY\u001b[0m\u001b[0;34m,\u001b[0m \u001b[0mverbose\u001b[0m\u001b[0;34m=\u001b[0m\u001b[0;36m2\u001b[0m\u001b[0;34m)\u001b[0m\u001b[0;34m\u001b[0m\u001b[0m\n\u001b[0m",
      "\u001b[0;32m/home/vyom/anaconda3/envs/CERN/lib/python3.5/site-packages/keras/models.py\u001b[0m in \u001b[0;36mevaluate\u001b[0;34m(self, x, y, batch_size, verbose, sample_weight, **kwargs)\u001b[0m\n\u001b[1;32m    706\u001b[0m                                    \u001b[0mbatch_size\u001b[0m\u001b[0;34m=\u001b[0m\u001b[0mbatch_size\u001b[0m\u001b[0;34m,\u001b[0m\u001b[0;34m\u001b[0m\u001b[0m\n\u001b[1;32m    707\u001b[0m                                    \u001b[0mverbose\u001b[0m\u001b[0;34m=\u001b[0m\u001b[0mverbose\u001b[0m\u001b[0;34m,\u001b[0m\u001b[0;34m\u001b[0m\u001b[0m\n\u001b[0;32m--> 708\u001b[0;31m                                    sample_weight=sample_weight)\n\u001b[0m\u001b[1;32m    709\u001b[0m \u001b[0;34m\u001b[0m\u001b[0m\n\u001b[1;32m    710\u001b[0m     \u001b[0;32mdef\u001b[0m \u001b[0mpredict\u001b[0m\u001b[0;34m(\u001b[0m\u001b[0mself\u001b[0m\u001b[0;34m,\u001b[0m \u001b[0mx\u001b[0m\u001b[0;34m,\u001b[0m \u001b[0mbatch_size\u001b[0m\u001b[0;34m=\u001b[0m\u001b[0;36m32\u001b[0m\u001b[0;34m,\u001b[0m \u001b[0mverbose\u001b[0m\u001b[0;34m=\u001b[0m\u001b[0;36m0\u001b[0m\u001b[0;34m)\u001b[0m\u001b[0;34m:\u001b[0m\u001b[0;34m\u001b[0m\u001b[0m\n",
      "\u001b[0;32m/home/vyom/anaconda3/envs/CERN/lib/python3.5/site-packages/keras/engine/training.py\u001b[0m in \u001b[0;36mevaluate\u001b[0;34m(self, x, y, batch_size, verbose, sample_weight)\u001b[0m\n\u001b[1;32m   1234\u001b[0m         return self._test_loop(f, ins,\n\u001b[1;32m   1235\u001b[0m                                \u001b[0mbatch_size\u001b[0m\u001b[0;34m=\u001b[0m\u001b[0mbatch_size\u001b[0m\u001b[0;34m,\u001b[0m\u001b[0;34m\u001b[0m\u001b[0m\n\u001b[0;32m-> 1236\u001b[0;31m                                verbose=verbose)\n\u001b[0m\u001b[1;32m   1237\u001b[0m \u001b[0;34m\u001b[0m\u001b[0m\n\u001b[1;32m   1238\u001b[0m     \u001b[0;32mdef\u001b[0m \u001b[0mpredict\u001b[0m\u001b[0;34m(\u001b[0m\u001b[0mself\u001b[0m\u001b[0;34m,\u001b[0m \u001b[0mx\u001b[0m\u001b[0;34m,\u001b[0m \u001b[0mbatch_size\u001b[0m\u001b[0;34m=\u001b[0m\u001b[0;36m32\u001b[0m\u001b[0;34m,\u001b[0m \u001b[0mverbose\u001b[0m\u001b[0;34m=\u001b[0m\u001b[0;36m0\u001b[0m\u001b[0;34m)\u001b[0m\u001b[0;34m:\u001b[0m\u001b[0;34m\u001b[0m\u001b[0m\n",
      "\u001b[0;32m/home/vyom/anaconda3/envs/CERN/lib/python3.5/site-packages/keras/engine/training.py\u001b[0m in \u001b[0;36m_test_loop\u001b[0;34m(self, f, ins, batch_size, verbose)\u001b[0m\n\u001b[1;32m    988\u001b[0m                 \u001b[0mins_batch\u001b[0m \u001b[0;34m=\u001b[0m \u001b[0mslice_X\u001b[0m\u001b[0;34m(\u001b[0m\u001b[0mins\u001b[0m\u001b[0;34m,\u001b[0m \u001b[0mbatch_ids\u001b[0m\u001b[0;34m)\u001b[0m\u001b[0;34m\u001b[0m\u001b[0m\n\u001b[1;32m    989\u001b[0m \u001b[0;34m\u001b[0m\u001b[0m\n\u001b[0;32m--> 990\u001b[0;31m             \u001b[0mbatch_outs\u001b[0m \u001b[0;34m=\u001b[0m \u001b[0mf\u001b[0m\u001b[0;34m(\u001b[0m\u001b[0mins_batch\u001b[0m\u001b[0;34m)\u001b[0m\u001b[0;34m\u001b[0m\u001b[0m\n\u001b[0m\u001b[1;32m    991\u001b[0m             \u001b[0;32mif\u001b[0m \u001b[0misinstance\u001b[0m\u001b[0;34m(\u001b[0m\u001b[0mbatch_outs\u001b[0m\u001b[0;34m,\u001b[0m \u001b[0mlist\u001b[0m\u001b[0;34m)\u001b[0m\u001b[0;34m:\u001b[0m\u001b[0;34m\u001b[0m\u001b[0m\n\u001b[1;32m    992\u001b[0m                 \u001b[0;32mif\u001b[0m \u001b[0mbatch_index\u001b[0m \u001b[0;34m==\u001b[0m \u001b[0;36m0\u001b[0m\u001b[0;34m:\u001b[0m\u001b[0;34m\u001b[0m\u001b[0m\n",
      "\u001b[0;32m/home/vyom/anaconda3/envs/CERN/lib/python3.5/site-packages/keras/backend/tensorflow_backend.py\u001b[0m in \u001b[0;36m__call__\u001b[0;34m(self, inputs)\u001b[0m\n\u001b[1;32m   1941\u001b[0m         \u001b[0msession\u001b[0m \u001b[0;34m=\u001b[0m \u001b[0mget_session\u001b[0m\u001b[0;34m(\u001b[0m\u001b[0;34m)\u001b[0m\u001b[0;34m\u001b[0m\u001b[0m\n\u001b[1;32m   1942\u001b[0m         updated = session.run(self.outputs + [self.updates_op],\n\u001b[0;32m-> 1943\u001b[0;31m                               feed_dict=feed_dict)\n\u001b[0m\u001b[1;32m   1944\u001b[0m         \u001b[0;32mreturn\u001b[0m \u001b[0mupdated\u001b[0m\u001b[0;34m[\u001b[0m\u001b[0;34m:\u001b[0m\u001b[0mlen\u001b[0m\u001b[0;34m(\u001b[0m\u001b[0mself\u001b[0m\u001b[0;34m.\u001b[0m\u001b[0moutputs\u001b[0m\u001b[0;34m)\u001b[0m\u001b[0;34m]\u001b[0m\u001b[0;34m\u001b[0m\u001b[0m\n\u001b[1;32m   1945\u001b[0m \u001b[0;34m\u001b[0m\u001b[0m\n",
      "\u001b[0;32m/home/vyom/anaconda3/envs/CERN/lib/python3.5/site-packages/tensorflow/python/client/session.py\u001b[0m in \u001b[0;36mrun\u001b[0;34m(self, fetches, feed_dict, options, run_metadata)\u001b[0m\n\u001b[1;32m    765\u001b[0m     \u001b[0;32mtry\u001b[0m\u001b[0;34m:\u001b[0m\u001b[0;34m\u001b[0m\u001b[0m\n\u001b[1;32m    766\u001b[0m       result = self._run(None, fetches, feed_dict, options_ptr,\n\u001b[0;32m--> 767\u001b[0;31m                          run_metadata_ptr)\n\u001b[0m\u001b[1;32m    768\u001b[0m       \u001b[0;32mif\u001b[0m \u001b[0mrun_metadata\u001b[0m\u001b[0;34m:\u001b[0m\u001b[0;34m\u001b[0m\u001b[0m\n\u001b[1;32m    769\u001b[0m         \u001b[0mproto_data\u001b[0m \u001b[0;34m=\u001b[0m \u001b[0mtf_session\u001b[0m\u001b[0;34m.\u001b[0m\u001b[0mTF_GetBuffer\u001b[0m\u001b[0;34m(\u001b[0m\u001b[0mrun_metadata_ptr\u001b[0m\u001b[0;34m)\u001b[0m\u001b[0;34m\u001b[0m\u001b[0m\n",
      "\u001b[0;32m/home/vyom/anaconda3/envs/CERN/lib/python3.5/site-packages/tensorflow/python/client/session.py\u001b[0m in \u001b[0;36m_run\u001b[0;34m(self, handle, fetches, feed_dict, options, run_metadata)\u001b[0m\n\u001b[1;32m    945\u001b[0m           \u001b[0;32mif\u001b[0m \u001b[0;32mnot\u001b[0m \u001b[0mself\u001b[0m\u001b[0;34m.\u001b[0m\u001b[0mgraph\u001b[0m\u001b[0;34m.\u001b[0m\u001b[0mis_feedable\u001b[0m\u001b[0;34m(\u001b[0m\u001b[0msubfeed_t\u001b[0m\u001b[0;34m)\u001b[0m\u001b[0;34m:\u001b[0m\u001b[0;34m\u001b[0m\u001b[0m\n\u001b[1;32m    946\u001b[0m             \u001b[0;32mraise\u001b[0m \u001b[0mValueError\u001b[0m\u001b[0;34m(\u001b[0m\u001b[0;34m'Tensor %s may not be fed.'\u001b[0m \u001b[0;34m%\u001b[0m \u001b[0msubfeed_t\u001b[0m\u001b[0;34m)\u001b[0m\u001b[0;34m\u001b[0m\u001b[0m\n\u001b[0;32m--> 947\u001b[0;31m           \u001b[0msubfeed_name\u001b[0m \u001b[0;34m=\u001b[0m \u001b[0mcompat\u001b[0m\u001b[0;34m.\u001b[0m\u001b[0mas_bytes\u001b[0m\u001b[0;34m(\u001b[0m\u001b[0msubfeed_t\u001b[0m\u001b[0;34m.\u001b[0m\u001b[0mname\u001b[0m\u001b[0;34m)\u001b[0m\u001b[0;34m\u001b[0m\u001b[0m\n\u001b[0m\u001b[1;32m    948\u001b[0m           \u001b[0mfeed_dict_string\u001b[0m\u001b[0;34m[\u001b[0m\u001b[0msubfeed_name\u001b[0m\u001b[0;34m]\u001b[0m \u001b[0;34m=\u001b[0m \u001b[0mnp_val\u001b[0m\u001b[0;34m\u001b[0m\u001b[0m\n\u001b[1;32m    949\u001b[0m           \u001b[0mfeed_map\u001b[0m\u001b[0;34m[\u001b[0m\u001b[0msubfeed_name\u001b[0m\u001b[0;34m]\u001b[0m \u001b[0;34m=\u001b[0m \u001b[0;34m(\u001b[0m\u001b[0msubfeed_t\u001b[0m\u001b[0;34m,\u001b[0m \u001b[0msubfeed_val\u001b[0m\u001b[0;34m)\u001b[0m\u001b[0;34m\u001b[0m\u001b[0m\n",
      "\u001b[0;32m/home/vyom/anaconda3/envs/CERN/lib/python3.5/site-packages/tensorflow/python/framework/ops.py\u001b[0m in \u001b[0;36mname\u001b[0;34m(self)\u001b[0m\n\u001b[1;32m    315\u001b[0m     \u001b[0;32mif\u001b[0m \u001b[0;32mnot\u001b[0m \u001b[0mself\u001b[0m\u001b[0;34m.\u001b[0m\u001b[0m_op\u001b[0m\u001b[0;34m.\u001b[0m\u001b[0mname\u001b[0m\u001b[0;34m:\u001b[0m\u001b[0;34m\u001b[0m\u001b[0m\n\u001b[1;32m    316\u001b[0m       \u001b[0;32mraise\u001b[0m \u001b[0mValueError\u001b[0m\u001b[0;34m(\u001b[0m\u001b[0;34m\"Operation was not named: %s\"\u001b[0m \u001b[0;34m%\u001b[0m \u001b[0mself\u001b[0m\u001b[0;34m.\u001b[0m\u001b[0m_op\u001b[0m\u001b[0;34m)\u001b[0m\u001b[0;34m\u001b[0m\u001b[0m\n\u001b[0;32m--> 317\u001b[0;31m     \u001b[0;32mreturn\u001b[0m \u001b[0;34m\"%s:%d\"\u001b[0m \u001b[0;34m%\u001b[0m \u001b[0;34m(\u001b[0m\u001b[0mself\u001b[0m\u001b[0;34m.\u001b[0m\u001b[0m_op\u001b[0m\u001b[0;34m.\u001b[0m\u001b[0mname\u001b[0m\u001b[0;34m,\u001b[0m \u001b[0mself\u001b[0m\u001b[0;34m.\u001b[0m\u001b[0m_value_index\u001b[0m\u001b[0;34m)\u001b[0m\u001b[0;34m\u001b[0m\u001b[0m\n\u001b[0m\u001b[1;32m    318\u001b[0m \u001b[0;34m\u001b[0m\u001b[0m\n\u001b[1;32m    319\u001b[0m   \u001b[0;34m@\u001b[0m\u001b[0mproperty\u001b[0m\u001b[0;34m\u001b[0m\u001b[0m\n",
      "\u001b[0;31mKeyboardInterrupt\u001b[0m: "
     ]
    }
   ],
   "source": [
    "score = model.evaluate(testX, testY, verbose=2)"
   ]
  },
  {
   "cell_type": "markdown",
   "metadata": {},
   "source": [
    "### Model Test accuracy ( metric used : Mean Squared Error )"
   ]
  },
  {
   "cell_type": "code",
   "execution_count": null,
   "metadata": {
    "collapsed": false
   },
   "outputs": [],
   "source": [
    "print('Results: MSE - {:.6f}  ;  seconds = {:.3f}'.format(score, np.sqrt(score)))"
   ]
  },
  {
   "cell_type": "markdown",
   "metadata": {},
   "source": [
    "### Visualizing prediction values"
   ]
  },
  {
   "cell_type": "code",
   "execution_count": 92,
   "metadata": {
    "collapsed": false
   },
   "outputs": [],
   "source": [
    "predictions=model.predict(testX[:1000,:])"
   ]
  },
  {
   "cell_type": "code",
   "execution_count": 93,
   "metadata": {
    "collapsed": false,
    "scrolled": false
   },
   "outputs": [
    {
     "data": {
      "image/png": "[encoded data removed]",
      "text/html": [
       "\n",
       "\n",
       "<style>\n",
       "\n",
       "</style>\n",
       "\n",
       "<div id=\"fig_el58281402038584682569722788446\"></div>\n",
       "<script>\n",
       "function mpld3_load_lib(url, callback){\n",
       "  var s = document.createElement('script');\n",
       "  s.src = url;\n",
       "  s.async = true;\n",
       "  s.onreadystatechange = s.onload = callback;\n",
       "  s.onerror = function(){console.warn(\"failed to load library \" + url);};\n",
       "  document.getElementsByTagName(\"head\")[0].appendChild(s);\n",
       "}\n",
       "\n",
       "if(typeof(mpld3) !== \"undefined\" && mpld3._mpld3IsLoaded){\n",
       "   // already loaded: just create the figure\n",
       "   !function(mpld3){\n",
       "       \n",
       "       mpld3.draw_figure(\"fig_el58281402038584682569722788446\", {\"width\": 921.6, \"height\": 633.6, \"axes\": [{\"texts\": [], \"zoomable\": true, \"ydomain\": [-513.3155363559723, 10989.872168397904], \"lines\": [{\"alpha\": 1, \"xindex\": 0, \"data\": \"data01\", \"dasharray\": \"10,0\", \"zorder\": 2, \"color\": \"#BFBF00\", \"yindex\": 1, \"coordinates\": \"data\", \"linewidth\": 2.8000000000000003, \"id\": \"el5828140203842233680\"}, {\"alpha\": 1, \"xindex\": 0, \"data\": \"data01\", \"dasharray\": \"10,0\", \"zorder\": 2, \"color\": \"#007F00\", \"yindex\": 2, \"coordinates\": \"data\", \"linewidth\": 2.8000000000000003, \"id\": \"el5828140203858211224\"}], \"sharey\": [], \"axesbg\": \"#EAEAF2\", \"bbox\": [0.125, 0.125, 0.775, 0.755], \"sharex\": [], \"axes\": [{\"scale\": \"linear\", \"tickvalues\": null, \"fontsize\": 16.0, \"grid\": {\"alpha\": 1.0, \"color\": \"#FFFFFF\", \"dasharray\": \"10,0\", \"gridOn\": true}, \"nticks\": 9, \"position\": \"bottom\", \"tickformat\": null}, {\"scale\": \"linear\", \"tickvalues\": null, \"fontsize\": 16.0, \"grid\": {\"alpha\": 1.0, \"color\": \"#FFFFFF\", \"dasharray\": \"10,0\", \"gridOn\": true}, \"nticks\": 8, \"position\": \"left\", \"tickformat\": null}], \"paths\": [], \"id\": \"el5828140203858443288\", \"images\": [], \"xlim\": [-14.950000000000001, 313.95], \"yscale\": \"linear\", \"markers\": [], \"ylim\": [-513.3155363559723, 10989.872168397904], \"axesbgalpha\": null, \"collections\": [], \"xdomain\": [-14.950000000000001, 313.95], \"xscale\": \"linear\"}], \"data\": {\"data01\": [[0.0, 8233.8291015625, 8280.0], [1.0, 8232.87890625, 8639.0], [2.0, 9.611838340759277, 10.0], [3.0, 8233.6494140625, 8455.0], [4.0, 8233.9150390625, 8458.0], [5.0, 8232.392578125, 8684.0], [6.0, 8234.1982421875, 9603.0], [7.0, 8233.6513671875, 9436.0], [8.0, 8229.96875, 9775.0], [9.0, 8231.4248046875, 6113.0], [10.0, 8229.455078125, 3791.0], [11.0, 8233.7216796875, 9203.0], [12.0, 8230.6943359375, 9791.0], [13.0, 8234.1630859375, 8893.0], [14.0, 8231.9111328125, 8065.0], [15.0, 8233.5546875, 8535.0], [16.0, 8233.328125, 8309.0], [17.0, 8232.9501953125, 9532.0], [18.0, 8233.4462890625, 9756.0], [19.0, 8232.69140625, 3532.0], [20.0, 8233.22265625, 9250.0], [21.0, 8233.1064453125, 9677.0], [22.0, 8231.6943359375, 9438.0], [23.0, 8232.6337890625, 9354.0], [24.0, 8233.9560546875, 9069.0], [25.0, 8233.0556640625, 6726.0], [26.0, 8227.1884765625, 2754.0], [27.0, 8233.6767578125, 8794.0], [28.0, 8231.52734375, 9475.0], [29.0, 8232.9404296875, 3820.0], [30.0, 8233.7666015625, 7986.0], [31.0, 8233.310546875, 9088.0], [32.0, 8231.1474609375, 7413.0], [33.0, 8233.7939453125, 8326.0], [34.0, 8234.2587890625, 8228.0], [35.0, 8233.6337890625, 9492.0], [36.0, 8233.25390625, 8796.0], [37.0, 8234.03515625, 7607.0], [38.0, 8232.4658203125, 9501.0], [39.0, 8233.9853515625, 8480.0], [40.0, 8234.072265625, 10115.0], [41.0, 8233.7255859375, 5922.0], [42.0, 8233.3154296875, 9765.0], [43.0, 8231.3291015625, 9339.0], [44.0, 8233.125, 3274.0], [45.0, 8233.7734375, 8998.0], [46.0, 8234.0947265625, 9228.0], [47.0, 8224.35546875, 3684.0], [48.0, 8233.2841796875, 9750.0], [49.0, 9.990581512451172, 10.0], [50.0, 8233.2666015625, 9000.0], [51.0, 8232.8349609375, 8766.0], [52.0, 8233.498046875, 9484.0], [53.0, 8234.267578125, 9481.0], [54.0, 8231.8896484375, 6160.0], [55.0, 8233.486328125, 6473.0], [56.0, 8234.1865234375, 8875.0], [57.0, 8234.1201171875, 8796.0], [58.0, 8234.12109375, 8988.0], [59.0, 8234.0244140625, 8746.0], [60.0, 8231.8037109375, 4865.0], [61.0, 8233.8359375, 7884.0], [62.0, 8233.2333984375, 8964.0], [63.0, 8233.41015625, 9024.0], [64.0, 8233.9853515625, 8745.0], [65.0, 8233.6884765625, 8740.0], [66.0, 8232.5263671875, 9109.0], [67.0, 8232.3671875, 9214.0], [68.0, 8233.09375, 9054.0], [69.0, 8233.8974609375, 9338.0], [70.0, 8234.0732421875, 9277.0], [71.0, 8230.6689453125, 9488.0], [72.0, 8227.865234375, 3629.0], [73.0, 8233.2314453125, 9218.0], [74.0, 8234.1416015625, 10073.0], [75.0, 8232.1240234375, 4253.0], [76.0, 8232.41015625, 9647.0], [77.0, 8234.0048828125, 8950.0], [78.0, 8232.3564453125, 9369.0], [79.0, 8234.1767578125, 9486.0], [80.0, 8231.6416015625, 8566.0], [81.0, 9.949708938598633, 10.0], [82.0, 8233.8701171875, 7695.0], [83.0, 8233.1630859375, 7874.0], [84.0, 8234.0166015625, 9293.0], [85.0, 8233.3349609375, 9595.0], [86.0, 8234.1904296875, 8720.0], [87.0, 8233.166015625, 6426.0], [88.0, 8233.0556640625, 6454.0], [89.0, 8233.6572265625, 9771.0], [90.0, 8232.0390625, 9307.0], [91.0, 8232.2822265625, 9498.0], [92.0, 8233.5703125, 6055.0], [93.0, 8231.931640625, 6691.0], [94.0, 8231.8720703125, 9275.0], [95.0, 8234.1337890625, 8078.0], [96.0, 8232.431640625, 8819.0], [97.0, 8232.6318359375, 8648.0], [98.0, 8233.896484375, 8634.0], [99.0, 8233.1064453125, 6771.0], [100.0, 8233.48046875, 8619.0], [101.0, 8233.8369140625, 9595.0], [102.0, 8233.697265625, 7980.0], [103.0, 8233.6298828125, 9401.0], [104.0, 8232.6494140625, 9129.0], [105.0, 8232.8408203125, 8952.0], [106.0, 8233.5634765625, 5505.0], [107.0, 8231.4599609375, 4478.0], [108.0, 8232.9140625, 9117.0], [109.0, 8224.0615234375, 3656.0], [110.0, 8234.119140625, 9233.0], [111.0, 8234.0009765625, 8166.0], [112.0, 8232.9150390625, 6185.0], [113.0, 8231.9814453125, 6968.0], [114.0, 8234.3017578125, 7893.0], [115.0, 8231.3662109375, 8632.0], [116.0, 8232.0546875, 9829.0], [117.0, 8233.1455078125, 3675.0], [118.0, 8234.142578125, 9444.0], [119.0, 8232.1357421875, 9252.0], [120.0, 8233.7275390625, 9121.0], [121.0, 8233.9853515625, 8731.0], [122.0, 8233.4951171875, 9204.0], [123.0, 8233.146484375, 8834.0], [124.0, 8234.275390625, 8255.0], [125.0, 8233.474609375, 8456.0], [126.0, 8233.5703125, 9639.0], [127.0, 8232.9658203125, 9132.0], [128.0, 8232.2939453125, 9407.0], [129.0, 8230.75390625, 7100.0], [130.0, 8228.2705078125, 9046.0], [131.0, 8233.111328125, 9459.0], [132.0, 9.556632041931152, 10.0], [133.0, 8231.9833984375, 9454.0], [134.0, 8228.109375, 3551.0], [135.0, 8227.8662109375, 8867.0], [136.0, 8232.6357421875, 8119.0], [137.0, 8233.9951171875, 9728.0], [138.0, 8233.6923828125, 8920.0], [139.0, 8233.3486328125, 7284.0], [140.0, 8234.0478515625, 9405.0], [141.0, 8232.7890625, 8946.0], [142.0, 8231.1533203125, 5982.0], [143.0, 8233.818359375, 8938.0], [144.0, 8233.166015625, 9452.0], [145.0, 8234.16796875, 9276.0], [146.0, 8230.908203125, 8699.0], [147.0, 8232.271484375, 1232.0], [148.0, 8230.9716796875, 8477.0], [149.0, 8234.1748046875, 9241.0], [150.0, 8233.1064453125, 9184.0], [151.0, 8233.8505859375, 8701.0], [152.0, 8233.490234375, 7984.0], [153.0, 8231.87109375, 9088.0], [154.0, 8233.8857421875, 9648.0], [155.0, 8232.8759765625, 9641.0], [156.0, 8232.521484375, 8444.0], [157.0, 8233.521484375, 8488.0], [158.0, 8232.1513671875, 4721.0], [159.0, 8233.4794921875, 9071.0], [160.0, 8234.1015625, 8702.0], [161.0, 8232.3623046875, 9675.0], [162.0, 8232.8193359375, 8520.0], [163.0, 8232.677734375, 6983.0], [164.0, 8233.4150390625, 9082.0], [165.0, 8232.6396484375, 9215.0], [166.0, 8233.814453125, 9233.0], [167.0, 8233.751953125, 9222.0], [168.0, 8230.9033203125, 8336.0], [169.0, 8233.7333984375, 9982.0], [170.0, 8231.4609375, 10299.0], [171.0, 8227.5634765625, 9096.0], [172.0, 8233.7607421875, 8383.0], [173.0, 8234.2626953125, 9077.0], [174.0, 8234.0498046875, 9109.0], [175.0, 8234.2421875, 9559.0], [176.0, 8232.4521484375, 3156.0], [177.0, 8233.6728515625, 6207.0], [178.0, 8233.384765625, 8311.0], [179.0, 8233.3974609375, 9253.0], [180.0, 8233.9560546875, 8852.0], [181.0, 8233.6923828125, 9568.0], [182.0, 8234.1123046875, 9978.0], [183.0, 8231.0322265625, 6110.0], [184.0, 8233.1845703125, 8339.0], [185.0, 8233.55859375, 9447.0], [186.0, 8232.3740234375, 4072.0], [187.0, 10.262370109558105, 10.0], [188.0, 8234.2529296875, 8176.0], [189.0, 8231.32421875, 9653.0], [190.0, 8234.30859375, 9599.0], [191.0, 8234.0947265625, 9727.0], [192.0, 8233.4921875, 8785.0], [193.0, 8231.3349609375, 8339.0], [194.0, 8233.3759765625, 9246.0], [195.0, 8230.51171875, 9300.0], [196.0, 8234.0576171875, 9269.0], [197.0, 8233.849609375, 9359.0], [198.0, 8232.9736328125, 9689.0], [199.0, 8227.1767578125, 4098.0], [200.0, 9.91226577758789, 10.0], [201.0, 8234.0673828125, 8083.0], [202.0, 8229.025390625, 9206.0], [203.0, 8234.0439453125, 8588.0], [204.0, 8232.8447265625, 9045.0], [205.0, 8229.828125, 9607.0], [206.0, 8233.3271484375, 9824.0], [207.0, 8234.1806640625, 9756.0], [208.0, 8232.3466796875, 10467.0], [209.0, 8232.9208984375, 8929.0], [210.0, 8233.6728515625, 8717.0], [211.0, 8232.9716796875, 9457.0], [212.0, 8233.6962890625, 8877.0], [213.0, 8234.1005859375, 9026.0], [214.0, 8231.6787109375, 9530.0], [215.0, 8230.8134765625, 7457.0], [216.0, 8234.0732421875, 9305.0], [217.0, 8233.974609375, 9356.0], [218.0, 10.363909721374512, 10.0], [219.0, 8233.7099609375, 8676.0], [220.0, 8233.5771484375, 8619.0], [221.0, 8233.9912109375, 8170.0], [222.0, 8233.8125, 9561.0], [223.0, 8233.9951171875, 9696.0], [224.0, 8233.8759765625, 9734.0], [225.0, 8232.0986328125, 3850.0], [226.0, 8233.34765625, 9146.0], [227.0, 8232.072265625, 8622.0], [228.0, 8233.65625, 9199.0], [229.0, 8232.5859375, 10018.0], [230.0, 8231.5341796875, 4921.0], [231.0, 8227.1650390625, 3870.0], [232.0, 8232.6513671875, 3433.0], [233.0, 8233.3095703125, 8800.0], [234.0, 8233.3076171875, 9579.0], [235.0, 8233.9443359375, 8619.0], [236.0, 8233.9833984375, 9412.0], [237.0, 8233.8759765625, 8739.0], [238.0, 8230.32421875, 8360.0], [239.0, 8231.0126953125, 7313.0], [240.0, 8230.61328125, 8301.0], [241.0, 8233.8193359375, 9080.0], [242.0, 8232.798828125, 9078.0], [243.0, 8233.51953125, 8897.0], [244.0, 8232.4599609375, 9374.0], [245.0, 8232.5751953125, 3483.0], [246.0, 8228.5888671875, 8443.0], [247.0, 8234.1171875, 9268.0], [248.0, 8232.54296875, 8667.0], [249.0, 8233.947265625, 8381.0], [250.0, 8232.6904296875, 6067.0], [251.0, 8233.5908203125, 4299.0], [252.0, 8227.9404296875, 8951.0], [253.0, 8233.5068359375, 8529.0], [254.0, 8233.4208984375, 8939.0], [255.0, 8233.759765625, 9734.0], [256.0, 8233.7470703125, 8854.0], [257.0, 8234.0205078125, 9067.0], [258.0, 8234.0380859375, 8040.0], [259.0, 8233.3779296875, 9212.0], [260.0, 8233.9052734375, 9314.0], [261.0, 8234.1513671875, 8573.0], [262.0, 8232.7607421875, 9214.0], [263.0, 8228.6298828125, 8785.0], [264.0, 8232.0771484375, 6772.0], [265.0, 8229.84765625, 8866.0], [266.0, 8234.0576171875, 9212.0], [267.0, 8231.6318359375, 8649.0], [268.0, 8230.8466796875, 7585.0], [269.0, 8233.7080078125, 8409.0], [270.0, 8233.8310546875, 8754.0], [271.0, 8233.70703125, 9059.0], [272.0, 8233.6923828125, 9846.0], [273.0, 8232.34765625, 9462.0], [274.0, 8233.9794921875, 9233.0], [275.0, 8233.2783203125, 8931.0], [276.0, 8233.4931640625, 9511.0], [277.0, 8234.0966796875, 9811.0], [278.0, 8231.8271484375, 8789.0], [279.0, 10.106104850769043, 10.0], [280.0, 8233.3701171875, 9273.0], [281.0, 8232.3203125, 8883.0], [282.0, 8233.6630859375, 9316.0], [283.0, 8233.5224609375, 8872.0], [284.0, 8232.0400390625, 3305.0], [285.0, 8231.525390625, 9159.0], [286.0, 8228.7802734375, 3566.0], [287.0, 8234.083984375, 8188.0], [288.0, 8234.2587890625, 9341.0], [289.0, 8233.5517578125, 7877.0], [290.0, 8233.9130859375, 8769.0], [291.0, 8231.3447265625, 1469.0], [292.0, 8233.3427734375, 8973.0], [293.0, 10.122344017028809, 10.0], [294.0, 8228.365234375, 6408.0], [295.0, 8232.859375, 6320.0], [296.0, 9.626538276672363, 10.0], [297.0, 8233.2431640625, 10240.0], [298.0, 8232.2822265625, 9090.0], [299.0, 8233.0380859375, 7771.0]]}, \"plugins\": [{\"type\": \"reset\"}, {\"type\": \"zoom\", \"button\": true, \"enabled\": false}, {\"type\": \"boxzoom\", \"button\": true, \"enabled\": false}], \"id\": \"el5828140203858468256\"});\n",
       "   }(mpld3);\n",
       "}else if(typeof define === \"function\" && define.amd){\n",
       "   // require.js is available: use it to load d3/mpld3\n",
       "   require.config({paths: {d3: \"https://mpld3.github.io/js/d3.v3.min\"}});\n",
       "   require([\"d3\"], function(d3){\n",
       "      window.d3 = d3;\n",
       "      mpld3_load_lib(\"https://mpld3.github.io/js/mpld3.v0.2.js\", function(){\n",
       "         \n",
       "         mpld3.draw_figure(\"fig_el58281402038584682569722788446\", {\"width\": 921.6, \"height\": 633.6, \"axes\": [{\"texts\": [], \"zoomable\": true, \"ydomain\": [-513.3155363559723, 10989.872168397904], \"lines\": [{\"alpha\": 1, \"xindex\": 0, \"data\": \"data01\", \"dasharray\": \"10,0\", \"zorder\": 2, \"color\": \"#BFBF00\", \"yindex\": 1, \"coordinates\": \"data\", \"linewidth\": 2.8000000000000003, \"id\": \"el5828140203842233680\"}, {\"alpha\": 1, \"xindex\": 0, \"data\": \"data01\", \"dasharray\": \"10,0\", \"zorder\": 2, \"color\": \"#007F00\", \"yindex\": 2, \"coordinates\": \"data\", \"linewidth\": 2.8000000000000003, \"id\": \"el5828140203858211224\"}], \"sharey\": [], \"axesbg\": \"#EAEAF2\", \"bbox\": [0.125, 0.125, 0.775, 0.755], \"sharex\": [], \"axes\": [{\"scale\": \"linear\", \"tickvalues\": null, \"fontsize\": 16.0, \"grid\": {\"alpha\": 1.0, \"color\": \"#FFFFFF\", \"dasharray\": \"10,0\", \"gridOn\": true}, \"nticks\": 9, \"position\": \"bottom\", \"tickformat\": null}, {\"scale\": \"linear\", \"tickvalues\": null, \"fontsize\": 16.0, \"grid\": {\"alpha\": 1.0, \"color\": \"#FFFFFF\", \"dasharray\": \"10,0\", \"gridOn\": true}, \"nticks\": 8, \"position\": \"left\", \"tickformat\": null}], \"paths\": [], \"id\": \"el5828140203858443288\", \"images\": [], \"xlim\": [-14.950000000000001, 313.95], \"yscale\": \"linear\", \"markers\": [], \"ylim\": [-513.3155363559723, 10989.872168397904], \"axesbgalpha\": null, \"collections\": [], \"xdomain\": [-14.950000000000001, 313.95], \"xscale\": \"linear\"}], \"data\": {\"data01\": [[0.0, 8233.8291015625, 8280.0], [1.0, 8232.87890625, 8639.0], [2.0, 9.611838340759277, 10.0], [3.0, 8233.6494140625, 8455.0], [4.0, 8233.9150390625, 8458.0], [5.0, 8232.392578125, 8684.0], [6.0, 8234.1982421875, 9603.0], [7.0, 8233.6513671875, 9436.0], [8.0, 8229.96875, 9775.0], [9.0, 8231.4248046875, 6113.0], [10.0, 8229.455078125, 3791.0], [11.0, 8233.7216796875, 9203.0], [12.0, 8230.6943359375, 9791.0], [13.0, 8234.1630859375, 8893.0], [14.0, 8231.9111328125, 8065.0], [15.0, 8233.5546875, 8535.0], [16.0, 8233.328125, 8309.0], [17.0, 8232.9501953125, 9532.0], [18.0, 8233.4462890625, 9756.0], [19.0, 8232.69140625, 3532.0], [20.0, 8233.22265625, 9250.0], [21.0, 8233.1064453125, 9677.0], [22.0, 8231.6943359375, 9438.0], [23.0, 8232.6337890625, 9354.0], [24.0, 8233.9560546875, 9069.0], [25.0, 8233.0556640625, 6726.0], [26.0, 8227.1884765625, 2754.0], [27.0, 8233.6767578125, 8794.0], [28.0, 8231.52734375, 9475.0], [29.0, 8232.9404296875, 3820.0], [30.0, 8233.7666015625, 7986.0], [31.0, 8233.310546875, 9088.0], [32.0, 8231.1474609375, 7413.0], [33.0, 8233.7939453125, 8326.0], [34.0, 8234.2587890625, 8228.0], [35.0, 8233.6337890625, 9492.0], [36.0, 8233.25390625, 8796.0], [37.0, 8234.03515625, 7607.0], [38.0, 8232.4658203125, 9501.0], [39.0, 8233.9853515625, 8480.0], [40.0, 8234.072265625, 10115.0], [41.0, 8233.7255859375, 5922.0], [42.0, 8233.3154296875, 9765.0], [43.0, 8231.3291015625, 9339.0], [44.0, 8233.125, 3274.0], [45.0, 8233.7734375, 8998.0], [46.0, 8234.0947265625, 9228.0], [47.0, 8224.35546875, 3684.0], [48.0, 8233.2841796875, 9750.0], [49.0, 9.990581512451172, 10.0], [50.0, 8233.2666015625, 9000.0], [51.0, 8232.8349609375, 8766.0], [52.0, 8233.498046875, 9484.0], [53.0, 8234.267578125, 9481.0], [54.0, 8231.8896484375, 6160.0], [55.0, 8233.486328125, 6473.0], [56.0, 8234.1865234375, 8875.0], [57.0, 8234.1201171875, 8796.0], [58.0, 8234.12109375, 8988.0], [59.0, 8234.0244140625, 8746.0], [60.0, 8231.8037109375, 4865.0], [61.0, 8233.8359375, 7884.0], [62.0, 8233.2333984375, 8964.0], [63.0, 8233.41015625, 9024.0], [64.0, 8233.9853515625, 8745.0], [65.0, 8233.6884765625, 8740.0], [66.0, 8232.5263671875, 9109.0], [67.0, 8232.3671875, 9214.0], [68.0, 8233.09375, 9054.0], [69.0, 8233.8974609375, 9338.0], [70.0, 8234.0732421875, 9277.0], [71.0, 8230.6689453125, 9488.0], [72.0, 8227.865234375, 3629.0], [73.0, 8233.2314453125, 9218.0], [74.0, 8234.1416015625, 10073.0], [75.0, 8232.1240234375, 4253.0], [76.0, 8232.41015625, 9647.0], [77.0, 8234.0048828125, 8950.0], [78.0, 8232.3564453125, 9369.0], [79.0, 8234.1767578125, 9486.0], [80.0, 8231.6416015625, 8566.0], [81.0, 9.949708938598633, 10.0], [82.0, 8233.8701171875, 7695.0], [83.0, 8233.1630859375, 7874.0], [84.0, 8234.0166015625, 9293.0], [85.0, 8233.3349609375, 9595.0], [86.0, 8234.1904296875, 8720.0], [87.0, 8233.166015625, 6426.0], [88.0, 8233.0556640625, 6454.0], [89.0, 8233.6572265625, 9771.0], [90.0, 8232.0390625, 9307.0], [91.0, 8232.2822265625, 9498.0], [92.0, 8233.5703125, 6055.0], [93.0, 8231.931640625, 6691.0], [94.0, 8231.8720703125, 9275.0], [95.0, 8234.1337890625, 8078.0], [96.0, 8232.431640625, 8819.0], [97.0, 8232.6318359375, 8648.0], [98.0, 8233.896484375, 8634.0], [99.0, 8233.1064453125, 6771.0], [100.0, 8233.48046875, 8619.0], [101.0, 8233.8369140625, 9595.0], [102.0, 8233.697265625, 7980.0], [103.0, 8233.6298828125, 9401.0], [104.0, 8232.6494140625, 9129.0], [105.0, 8232.8408203125, 8952.0], [106.0, 8233.5634765625, 5505.0], [107.0, 8231.4599609375, 4478.0], [108.0, 8232.9140625, 9117.0], [109.0, 8224.0615234375, 3656.0], [110.0, 8234.119140625, 9233.0], [111.0, 8234.0009765625, 8166.0], [112.0, 8232.9150390625, 6185.0], [113.0, 8231.9814453125, 6968.0], [114.0, 8234.3017578125, 7893.0], [115.0, 8231.3662109375, 8632.0], [116.0, 8232.0546875, 9829.0], [117.0, 8233.1455078125, 3675.0], [118.0, 8234.142578125, 9444.0], [119.0, 8232.1357421875, 9252.0], [120.0, 8233.7275390625, 9121.0], [121.0, 8233.9853515625, 8731.0], [122.0, 8233.4951171875, 9204.0], [123.0, 8233.146484375, 8834.0], [124.0, 8234.275390625, 8255.0], [125.0, 8233.474609375, 8456.0], [126.0, 8233.5703125, 9639.0], [127.0, 8232.9658203125, 9132.0], [128.0, 8232.2939453125, 9407.0], [129.0, 8230.75390625, 7100.0], [130.0, 8228.2705078125, 9046.0], [131.0, 8233.111328125, 9459.0], [132.0, 9.556632041931152, 10.0], [133.0, 8231.9833984375, 9454.0], [134.0, 8228.109375, 3551.0], [135.0, 8227.8662109375, 8867.0], [136.0, 8232.6357421875, 8119.0], [137.0, 8233.9951171875, 9728.0], [138.0, 8233.6923828125, 8920.0], [139.0, 8233.3486328125, 7284.0], [140.0, 8234.0478515625, 9405.0], [141.0, 8232.7890625, 8946.0], [142.0, 8231.1533203125, 5982.0], [143.0, 8233.818359375, 8938.0], [144.0, 8233.166015625, 9452.0], [145.0, 8234.16796875, 9276.0], [146.0, 8230.908203125, 8699.0], [147.0, 8232.271484375, 1232.0], [148.0, 8230.9716796875, 8477.0], [149.0, 8234.1748046875, 9241.0], [150.0, 8233.1064453125, 9184.0], [151.0, 8233.8505859375, 8701.0], [152.0, 8233.490234375, 7984.0], [153.0, 8231.87109375, 9088.0], [154.0, 8233.8857421875, 9648.0], [155.0, 8232.8759765625, 9641.0], [156.0, 8232.521484375, 8444.0], [157.0, 8233.521484375, 8488.0], [158.0, 8232.1513671875, 4721.0], [159.0, 8233.4794921875, 9071.0], [160.0, 8234.1015625, 8702.0], [161.0, 8232.3623046875, 9675.0], [162.0, 8232.8193359375, 8520.0], [163.0, 8232.677734375, 6983.0], [164.0, 8233.4150390625, 9082.0], [165.0, 8232.6396484375, 9215.0], [166.0, 8233.814453125, 9233.0], [167.0, 8233.751953125, 9222.0], [168.0, 8230.9033203125, 8336.0], [169.0, 8233.7333984375, 9982.0], [170.0, 8231.4609375, 10299.0], [171.0, 8227.5634765625, 9096.0], [172.0, 8233.7607421875, 8383.0], [173.0, 8234.2626953125, 9077.0], [174.0, 8234.0498046875, 9109.0], [175.0, 8234.2421875, 9559.0], [176.0, 8232.4521484375, 3156.0], [177.0, 8233.6728515625, 6207.0], [178.0, 8233.384765625, 8311.0], [179.0, 8233.3974609375, 9253.0], [180.0, 8233.9560546875, 8852.0], [181.0, 8233.6923828125, 9568.0], [182.0, 8234.1123046875, 9978.0], [183.0, 8231.0322265625, 6110.0], [184.0, 8233.1845703125, 8339.0], [185.0, 8233.55859375, 9447.0], [186.0, 8232.3740234375, 4072.0], [187.0, 10.262370109558105, 10.0], [188.0, 8234.2529296875, 8176.0], [189.0, 8231.32421875, 9653.0], [190.0, 8234.30859375, 9599.0], [191.0, 8234.0947265625, 9727.0], [192.0, 8233.4921875, 8785.0], [193.0, 8231.3349609375, 8339.0], [194.0, 8233.3759765625, 9246.0], [195.0, 8230.51171875, 9300.0], [196.0, 8234.0576171875, 9269.0], [197.0, 8233.849609375, 9359.0], [198.0, 8232.9736328125, 9689.0], [199.0, 8227.1767578125, 4098.0], [200.0, 9.91226577758789, 10.0], [201.0, 8234.0673828125, 8083.0], [202.0, 8229.025390625, 9206.0], [203.0, 8234.0439453125, 8588.0], [204.0, 8232.8447265625, 9045.0], [205.0, 8229.828125, 9607.0], [206.0, 8233.3271484375, 9824.0], [207.0, 8234.1806640625, 9756.0], [208.0, 8232.3466796875, 10467.0], [209.0, 8232.9208984375, 8929.0], [210.0, 8233.6728515625, 8717.0], [211.0, 8232.9716796875, 9457.0], [212.0, 8233.6962890625, 8877.0], [213.0, 8234.1005859375, 9026.0], [214.0, 8231.6787109375, 9530.0], [215.0, 8230.8134765625, 7457.0], [216.0, 8234.0732421875, 9305.0], [217.0, 8233.974609375, 9356.0], [218.0, 10.363909721374512, 10.0], [219.0, 8233.7099609375, 8676.0], [220.0, 8233.5771484375, 8619.0], [221.0, 8233.9912109375, 8170.0], [222.0, 8233.8125, 9561.0], [223.0, 8233.9951171875, 9696.0], [224.0, 8233.8759765625, 9734.0], [225.0, 8232.0986328125, 3850.0], [226.0, 8233.34765625, 9146.0], [227.0, 8232.072265625, 8622.0], [228.0, 8233.65625, 9199.0], [229.0, 8232.5859375, 10018.0], [230.0, 8231.5341796875, 4921.0], [231.0, 8227.1650390625, 3870.0], [232.0, 8232.6513671875, 3433.0], [233.0, 8233.3095703125, 8800.0], [234.0, 8233.3076171875, 9579.0], [235.0, 8233.9443359375, 8619.0], [236.0, 8233.9833984375, 9412.0], [237.0, 8233.8759765625, 8739.0], [238.0, 8230.32421875, 8360.0], [239.0, 8231.0126953125, 7313.0], [240.0, 8230.61328125, 8301.0], [241.0, 8233.8193359375, 9080.0], [242.0, 8232.798828125, 9078.0], [243.0, 8233.51953125, 8897.0], [244.0, 8232.4599609375, 9374.0], [245.0, 8232.5751953125, 3483.0], [246.0, 8228.5888671875, 8443.0], [247.0, 8234.1171875, 9268.0], [248.0, 8232.54296875, 8667.0], [249.0, 8233.947265625, 8381.0], [250.0, 8232.6904296875, 6067.0], [251.0, 8233.5908203125, 4299.0], [252.0, 8227.9404296875, 8951.0], [253.0, 8233.5068359375, 8529.0], [254.0, 8233.4208984375, 8939.0], [255.0, 8233.759765625, 9734.0], [256.0, 8233.7470703125, 8854.0], [257.0, 8234.0205078125, 9067.0], [258.0, 8234.0380859375, 8040.0], [259.0, 8233.3779296875, 9212.0], [260.0, 8233.9052734375, 9314.0], [261.0, 8234.1513671875, 8573.0], [262.0, 8232.7607421875, 9214.0], [263.0, 8228.6298828125, 8785.0], [264.0, 8232.0771484375, 6772.0], [265.0, 8229.84765625, 8866.0], [266.0, 8234.0576171875, 9212.0], [267.0, 8231.6318359375, 8649.0], [268.0, 8230.8466796875, 7585.0], [269.0, 8233.7080078125, 8409.0], [270.0, 8233.8310546875, 8754.0], [271.0, 8233.70703125, 9059.0], [272.0, 8233.6923828125, 9846.0], [273.0, 8232.34765625, 9462.0], [274.0, 8233.9794921875, 9233.0], [275.0, 8233.2783203125, 8931.0], [276.0, 8233.4931640625, 9511.0], [277.0, 8234.0966796875, 9811.0], [278.0, 8231.8271484375, 8789.0], [279.0, 10.106104850769043, 10.0], [280.0, 8233.3701171875, 9273.0], [281.0, 8232.3203125, 8883.0], [282.0, 8233.6630859375, 9316.0], [283.0, 8233.5224609375, 8872.0], [284.0, 8232.0400390625, 3305.0], [285.0, 8231.525390625, 9159.0], [286.0, 8228.7802734375, 3566.0], [287.0, 8234.083984375, 8188.0], [288.0, 8234.2587890625, 9341.0], [289.0, 8233.5517578125, 7877.0], [290.0, 8233.9130859375, 8769.0], [291.0, 8231.3447265625, 1469.0], [292.0, 8233.3427734375, 8973.0], [293.0, 10.122344017028809, 10.0], [294.0, 8228.365234375, 6408.0], [295.0, 8232.859375, 6320.0], [296.0, 9.626538276672363, 10.0], [297.0, 8233.2431640625, 10240.0], [298.0, 8232.2822265625, 9090.0], [299.0, 8233.0380859375, 7771.0]]}, \"plugins\": [{\"type\": \"reset\"}, {\"type\": \"zoom\", \"button\": true, \"enabled\": false}, {\"type\": \"boxzoom\", \"button\": true, \"enabled\": false}], \"id\": \"el5828140203858468256\"});\n",
       "      });\n",
       "    });\n",
       "}else{\n",
       "    // require.js not available: dynamically load d3 & mpld3\n",
       "    mpld3_load_lib(\"https://mpld3.github.io/js/d3.v3.min.js\", function(){\n",
       "         mpld3_load_lib(\"https://mpld3.github.io/js/mpld3.v0.2.js\", function(){\n",
       "                 \n",
       "                 mpld3.draw_figure(\"fig_el58281402038584682569722788446\", {\"width\": 921.6, \"height\": 633.6, \"axes\": [{\"texts\": [], \"zoomable\": true, \"ydomain\": [-513.3155363559723, 10989.872168397904], \"lines\": [{\"alpha\": 1, \"xindex\": 0, \"data\": \"data01\", \"dasharray\": \"10,0\", \"zorder\": 2, \"color\": \"#BFBF00\", \"yindex\": 1, \"coordinates\": \"data\", \"linewidth\": 2.8000000000000003, \"id\": \"el5828140203842233680\"}, {\"alpha\": 1, \"xindex\": 0, \"data\": \"data01\", \"dasharray\": \"10,0\", \"zorder\": 2, \"color\": \"#007F00\", \"yindex\": 2, \"coordinates\": \"data\", \"linewidth\": 2.8000000000000003, \"id\": \"el5828140203858211224\"}], \"sharey\": [], \"axesbg\": \"#EAEAF2\", \"bbox\": [0.125, 0.125, 0.775, 0.755], \"sharex\": [], \"axes\": [{\"scale\": \"linear\", \"tickvalues\": null, \"fontsize\": 16.0, \"grid\": {\"alpha\": 1.0, \"color\": \"#FFFFFF\", \"dasharray\": \"10,0\", \"gridOn\": true}, \"nticks\": 9, \"position\": \"bottom\", \"tickformat\": null}, {\"scale\": \"linear\", \"tickvalues\": null, \"fontsize\": 16.0, \"grid\": {\"alpha\": 1.0, \"color\": \"#FFFFFF\", \"dasharray\": \"10,0\", \"gridOn\": true}, \"nticks\": 8, \"position\": \"left\", \"tickformat\": null}], \"paths\": [], \"id\": \"el5828140203858443288\", \"images\": [], \"xlim\": [-14.950000000000001, 313.95], \"yscale\": \"linear\", \"markers\": [], \"ylim\": [-513.3155363559723, 10989.872168397904], \"axesbgalpha\": null, \"collections\": [], \"xdomain\": [-14.950000000000001, 313.95], \"xscale\": \"linear\"}], \"data\": {\"data01\": [[0.0, 8233.8291015625, 8280.0], [1.0, 8232.87890625, 8639.0], [2.0, 9.611838340759277, 10.0], [3.0, 8233.6494140625, 8455.0], [4.0, 8233.9150390625, 8458.0], [5.0, 8232.392578125, 8684.0], [6.0, 8234.1982421875, 9603.0], [7.0, 8233.6513671875, 9436.0], [8.0, 8229.96875, 9775.0], [9.0, 8231.4248046875, 6113.0], [10.0, 8229.455078125, 3791.0], [11.0, 8233.7216796875, 9203.0], [12.0, 8230.6943359375, 9791.0], [13.0, 8234.1630859375, 8893.0], [14.0, 8231.9111328125, 8065.0], [15.0, 8233.5546875, 8535.0], [16.0, 8233.328125, 8309.0], [17.0, 8232.9501953125, 9532.0], [18.0, 8233.4462890625, 9756.0], [19.0, 8232.69140625, 3532.0], [20.0, 8233.22265625, 9250.0], [21.0, 8233.1064453125, 9677.0], [22.0, 8231.6943359375, 9438.0], [23.0, 8232.6337890625, 9354.0], [24.0, 8233.9560546875, 9069.0], [25.0, 8233.0556640625, 6726.0], [26.0, 8227.1884765625, 2754.0], [27.0, 8233.6767578125, 8794.0], [28.0, 8231.52734375, 9475.0], [29.0, 8232.9404296875, 3820.0], [30.0, 8233.7666015625, 7986.0], [31.0, 8233.310546875, 9088.0], [32.0, 8231.1474609375, 7413.0], [33.0, 8233.7939453125, 8326.0], [34.0, 8234.2587890625, 8228.0], [35.0, 8233.6337890625, 9492.0], [36.0, 8233.25390625, 8796.0], [37.0, 8234.03515625, 7607.0], [38.0, 8232.4658203125, 9501.0], [39.0, 8233.9853515625, 8480.0], [40.0, 8234.072265625, 10115.0], [41.0, 8233.7255859375, 5922.0], [42.0, 8233.3154296875, 9765.0], [43.0, 8231.3291015625, 9339.0], [44.0, 8233.125, 3274.0], [45.0, 8233.7734375, 8998.0], [46.0, 8234.0947265625, 9228.0], [47.0, 8224.35546875, 3684.0], [48.0, 8233.2841796875, 9750.0], [49.0, 9.990581512451172, 10.0], [50.0, 8233.2666015625, 9000.0], [51.0, 8232.8349609375, 8766.0], [52.0, 8233.498046875, 9484.0], [53.0, 8234.267578125, 9481.0], [54.0, 8231.8896484375, 6160.0], [55.0, 8233.486328125, 6473.0], [56.0, 8234.1865234375, 8875.0], [57.0, 8234.1201171875, 8796.0], [58.0, 8234.12109375, 8988.0], [59.0, 8234.0244140625, 8746.0], [60.0, 8231.8037109375, 4865.0], [61.0, 8233.8359375, 7884.0], [62.0, 8233.2333984375, 8964.0], [63.0, 8233.41015625, 9024.0], [64.0, 8233.9853515625, 8745.0], [65.0, 8233.6884765625, 8740.0], [66.0, 8232.5263671875, 9109.0], [67.0, 8232.3671875, 9214.0], [68.0, 8233.09375, 9054.0], [69.0, 8233.8974609375, 9338.0], [70.0, 8234.0732421875, 9277.0], [71.0, 8230.6689453125, 9488.0], [72.0, 8227.865234375, 3629.0], [73.0, 8233.2314453125, 9218.0], [74.0, 8234.1416015625, 10073.0], [75.0, 8232.1240234375, 4253.0], [76.0, 8232.41015625, 9647.0], [77.0, 8234.0048828125, 8950.0], [78.0, 8232.3564453125, 9369.0], [79.0, 8234.1767578125, 9486.0], [80.0, 8231.6416015625, 8566.0], [81.0, 9.949708938598633, 10.0], [82.0, 8233.8701171875, 7695.0], [83.0, 8233.1630859375, 7874.0], [84.0, 8234.0166015625, 9293.0], [85.0, 8233.3349609375, 9595.0], [86.0, 8234.1904296875, 8720.0], [87.0, 8233.166015625, 6426.0], [88.0, 8233.0556640625, 6454.0], [89.0, 8233.6572265625, 9771.0], [90.0, 8232.0390625, 9307.0], [91.0, 8232.2822265625, 9498.0], [92.0, 8233.5703125, 6055.0], [93.0, 8231.931640625, 6691.0], [94.0, 8231.8720703125, 9275.0], [95.0, 8234.1337890625, 8078.0], [96.0, 8232.431640625, 8819.0], [97.0, 8232.6318359375, 8648.0], [98.0, 8233.896484375, 8634.0], [99.0, 8233.1064453125, 6771.0], [100.0, 8233.48046875, 8619.0], [101.0, 8233.8369140625, 9595.0], [102.0, 8233.697265625, 7980.0], [103.0, 8233.6298828125, 9401.0], [104.0, 8232.6494140625, 9129.0], [105.0, 8232.8408203125, 8952.0], [106.0, 8233.5634765625, 5505.0], [107.0, 8231.4599609375, 4478.0], [108.0, 8232.9140625, 9117.0], [109.0, 8224.0615234375, 3656.0], [110.0, 8234.119140625, 9233.0], [111.0, 8234.0009765625, 8166.0], [112.0, 8232.9150390625, 6185.0], [113.0, 8231.9814453125, 6968.0], [114.0, 8234.3017578125, 7893.0], [115.0, 8231.3662109375, 8632.0], [116.0, 8232.0546875, 9829.0], [117.0, 8233.1455078125, 3675.0], [118.0, 8234.142578125, 9444.0], [119.0, 8232.1357421875, 9252.0], [120.0, 8233.7275390625, 9121.0], [121.0, 8233.9853515625, 8731.0], [122.0, 8233.4951171875, 9204.0], [123.0, 8233.146484375, 8834.0], [124.0, 8234.275390625, 8255.0], [125.0, 8233.474609375, 8456.0], [126.0, 8233.5703125, 9639.0], [127.0, 8232.9658203125, 9132.0], [128.0, 8232.2939453125, 9407.0], [129.0, 8230.75390625, 7100.0], [130.0, 8228.2705078125, 9046.0], [131.0, 8233.111328125, 9459.0], [132.0, 9.556632041931152, 10.0], [133.0, 8231.9833984375, 9454.0], [134.0, 8228.109375, 3551.0], [135.0, 8227.8662109375, 8867.0], [136.0, 8232.6357421875, 8119.0], [137.0, 8233.9951171875, 9728.0], [138.0, 8233.6923828125, 8920.0], [139.0, 8233.3486328125, 7284.0], [140.0, 8234.0478515625, 9405.0], [141.0, 8232.7890625, 8946.0], [142.0, 8231.1533203125, 5982.0], [143.0, 8233.818359375, 8938.0], [144.0, 8233.166015625, 9452.0], [145.0, 8234.16796875, 9276.0], [146.0, 8230.908203125, 8699.0], [147.0, 8232.271484375, 1232.0], [148.0, 8230.9716796875, 8477.0], [149.0, 8234.1748046875, 9241.0], [150.0, 8233.1064453125, 9184.0], [151.0, 8233.8505859375, 8701.0], [152.0, 8233.490234375, 7984.0], [153.0, 8231.87109375, 9088.0], [154.0, 8233.8857421875, 9648.0], [155.0, 8232.8759765625, 9641.0], [156.0, 8232.521484375, 8444.0], [157.0, 8233.521484375, 8488.0], [158.0, 8232.1513671875, 4721.0], [159.0, 8233.4794921875, 9071.0], [160.0, 8234.1015625, 8702.0], [161.0, 8232.3623046875, 9675.0], [162.0, 8232.8193359375, 8520.0], [163.0, 8232.677734375, 6983.0], [164.0, 8233.4150390625, 9082.0], [165.0, 8232.6396484375, 9215.0], [166.0, 8233.814453125, 9233.0], [167.0, 8233.751953125, 9222.0], [168.0, 8230.9033203125, 8336.0], [169.0, 8233.7333984375, 9982.0], [170.0, 8231.4609375, 10299.0], [171.0, 8227.5634765625, 9096.0], [172.0, 8233.7607421875, 8383.0], [173.0, 8234.2626953125, 9077.0], [174.0, 8234.0498046875, 9109.0], [175.0, 8234.2421875, 9559.0], [176.0, 8232.4521484375, 3156.0], [177.0, 8233.6728515625, 6207.0], [178.0, 8233.384765625, 8311.0], [179.0, 8233.3974609375, 9253.0], [180.0, 8233.9560546875, 8852.0], [181.0, 8233.6923828125, 9568.0], [182.0, 8234.1123046875, 9978.0], [183.0, 8231.0322265625, 6110.0], [184.0, 8233.1845703125, 8339.0], [185.0, 8233.55859375, 9447.0], [186.0, 8232.3740234375, 4072.0], [187.0, 10.262370109558105, 10.0], [188.0, 8234.2529296875, 8176.0], [189.0, 8231.32421875, 9653.0], [190.0, 8234.30859375, 9599.0], [191.0, 8234.0947265625, 9727.0], [192.0, 8233.4921875, 8785.0], [193.0, 8231.3349609375, 8339.0], [194.0, 8233.3759765625, 9246.0], [195.0, 8230.51171875, 9300.0], [196.0, 8234.0576171875, 9269.0], [197.0, 8233.849609375, 9359.0], [198.0, 8232.9736328125, 9689.0], [199.0, 8227.1767578125, 4098.0], [200.0, 9.91226577758789, 10.0], [201.0, 8234.0673828125, 8083.0], [202.0, 8229.025390625, 9206.0], [203.0, 8234.0439453125, 8588.0], [204.0, 8232.8447265625, 9045.0], [205.0, 8229.828125, 9607.0], [206.0, 8233.3271484375, 9824.0], [207.0, 8234.1806640625, 9756.0], [208.0, 8232.3466796875, 10467.0], [209.0, 8232.9208984375, 8929.0], [210.0, 8233.6728515625, 8717.0], [211.0, 8232.9716796875, 9457.0], [212.0, 8233.6962890625, 8877.0], [213.0, 8234.1005859375, 9026.0], [214.0, 8231.6787109375, 9530.0], [215.0, 8230.8134765625, 7457.0], [216.0, 8234.0732421875, 9305.0], [217.0, 8233.974609375, 9356.0], [218.0, 10.363909721374512, 10.0], [219.0, 8233.7099609375, 8676.0], [220.0, 8233.5771484375, 8619.0], [221.0, 8233.9912109375, 8170.0], [222.0, 8233.8125, 9561.0], [223.0, 8233.9951171875, 9696.0], [224.0, 8233.8759765625, 9734.0], [225.0, 8232.0986328125, 3850.0], [226.0, 8233.34765625, 9146.0], [227.0, 8232.072265625, 8622.0], [228.0, 8233.65625, 9199.0], [229.0, 8232.5859375, 10018.0], [230.0, 8231.5341796875, 4921.0], [231.0, 8227.1650390625, 3870.0], [232.0, 8232.6513671875, 3433.0], [233.0, 8233.3095703125, 8800.0], [234.0, 8233.3076171875, 9579.0], [235.0, 8233.9443359375, 8619.0], [236.0, 8233.9833984375, 9412.0], [237.0, 8233.8759765625, 8739.0], [238.0, 8230.32421875, 8360.0], [239.0, 8231.0126953125, 7313.0], [240.0, 8230.61328125, 8301.0], [241.0, 8233.8193359375, 9080.0], [242.0, 8232.798828125, 9078.0], [243.0, 8233.51953125, 8897.0], [244.0, 8232.4599609375, 9374.0], [245.0, 8232.5751953125, 3483.0], [246.0, 8228.5888671875, 8443.0], [247.0, 8234.1171875, 9268.0], [248.0, 8232.54296875, 8667.0], [249.0, 8233.947265625, 8381.0], [250.0, 8232.6904296875, 6067.0], [251.0, 8233.5908203125, 4299.0], [252.0, 8227.9404296875, 8951.0], [253.0, 8233.5068359375, 8529.0], [254.0, 8233.4208984375, 8939.0], [255.0, 8233.759765625, 9734.0], [256.0, 8233.7470703125, 8854.0], [257.0, 8234.0205078125, 9067.0], [258.0, 8234.0380859375, 8040.0], [259.0, 8233.3779296875, 9212.0], [260.0, 8233.9052734375, 9314.0], [261.0, 8234.1513671875, 8573.0], [262.0, 8232.7607421875, 9214.0], [263.0, 8228.6298828125, 8785.0], [264.0, 8232.0771484375, 6772.0], [265.0, 8229.84765625, 8866.0], [266.0, 8234.0576171875, 9212.0], [267.0, 8231.6318359375, 8649.0], [268.0, 8230.8466796875, 7585.0], [269.0, 8233.7080078125, 8409.0], [270.0, 8233.8310546875, 8754.0], [271.0, 8233.70703125, 9059.0], [272.0, 8233.6923828125, 9846.0], [273.0, 8232.34765625, 9462.0], [274.0, 8233.9794921875, 9233.0], [275.0, 8233.2783203125, 8931.0], [276.0, 8233.4931640625, 9511.0], [277.0, 8234.0966796875, 9811.0], [278.0, 8231.8271484375, 8789.0], [279.0, 10.106104850769043, 10.0], [280.0, 8233.3701171875, 9273.0], [281.0, 8232.3203125, 8883.0], [282.0, 8233.6630859375, 9316.0], [283.0, 8233.5224609375, 8872.0], [284.0, 8232.0400390625, 3305.0], [285.0, 8231.525390625, 9159.0], [286.0, 8228.7802734375, 3566.0], [287.0, 8234.083984375, 8188.0], [288.0, 8234.2587890625, 9341.0], [289.0, 8233.5517578125, 7877.0], [290.0, 8233.9130859375, 8769.0], [291.0, 8231.3447265625, 1469.0], [292.0, 8233.3427734375, 8973.0], [293.0, 10.122344017028809, 10.0], [294.0, 8228.365234375, 6408.0], [295.0, 8232.859375, 6320.0], [296.0, 9.626538276672363, 10.0], [297.0, 8233.2431640625, 10240.0], [298.0, 8232.2822265625, 9090.0], [299.0, 8233.0380859375, 7771.0]]}, \"plugins\": [{\"type\": \"reset\"}, {\"type\": \"zoom\", \"button\": true, \"enabled\": false}, {\"type\": \"boxzoom\", \"button\": true, \"enabled\": false}], \"id\": \"el5828140203858468256\"});\n",
       "            })\n",
       "         });\n",
       "}\n",
       "</script>"
      ],
      "text/plain": [
       "<matplotlib.figure.Figure at 0x7f83c12e1da0>"
      ]
     },
     "metadata": {},
     "output_type": "display_data"
    }
   ],
   "source": [
    "sns.set_context('poster')\n",
    "\n",
    "# plotting a portion of the test values against the predicted output\n",
    "\n",
    "plt.plot(predictions[:300,0],'y' )\n",
    "plt.plot(testY[:300], 'g')\n",
    "\n",
    "plt.show()"
   ]
  },
  {
   "cell_type": "markdown",
   "metadata": {
    "collapsed": false
   },
   "source": [
    "### Isolating the output and test to compare"
   ]
  },
  {
   "cell_type": "code",
   "execution_count": 94,
   "metadata": {
    "collapsed": false,
    "scrolled": false
   },
   "outputs": [
    {
     "data": {
      "text/html": [
       "\n",
       "\n",
       "    <div class=\"bk-root\">\n",
       "        <div class=\"bk-plotdiv\" id=\"cc9fea28-438b-438a-8f14-a1ef317161af\"></div>\n",
       "    </div>\n",
       "<script type=\"text/javascript\">\n",
       "  \n",
       "  (function(global) {\n",
       "    function now() {\n",
       "      return new Date();\n",
       "    }\n",
       "  \n",
       "    var force = false;\n",
       "  \n",
       "    if (typeof (window._bokeh_onload_callbacks) === \"undefined\" || force === true) {\n",
       "      window._bokeh_onload_callbacks = [];\n",
       "      window._bokeh_is_loading = undefined;\n",
       "    }\n",
       "  \n",
       "  \n",
       "    \n",
       "    if (typeof (window._bokeh_timeout) === \"undefined\" || force === true) {\n",
       "      window._bokeh_timeout = Date.now() + 0;\n",
       "      window._bokeh_failed_load = false;\n",
       "    }\n",
       "  \n",
       "    var NB_LOAD_WARNING = {'data': {'text/html':\n",
       "       \"<div style='background-color: #fdd'>\\n\"+\n",
       "       \"<p>\\n\"+\n",
       "       \"BokehJS does not appear to have successfully loaded. If loading BokehJS from CDN, this \\n\"+\n",
       "       \"may be due to a slow or bad network connection. Possible fixes:\\n\"+\n",
       "       \"</p>\\n\"+\n",
       "       \"<ul>\\n\"+\n",
       "       \"<li>re-rerun `output_notebook()` to attempt to load from CDN again, or</li>\\n\"+\n",
       "       \"<li>use INLINE resources instead, as so:</li>\\n\"+\n",
       "       \"</ul>\\n\"+\n",
       "       \"<code>\\n\"+\n",
       "       \"from bokeh.resources import INLINE\\n\"+\n",
       "       \"output_notebook(resources=INLINE)\\n\"+\n",
       "       \"</code>\\n\"+\n",
       "       \"</div>\"}};\n",
       "  \n",
       "    function display_loaded() {\n",
       "      if (window.Bokeh !== undefined) {\n",
       "        document.getElementById(\"cc9fea28-438b-438a-8f14-a1ef317161af\").textContent = \"BokehJS successfully loaded.\";\n",
       "      } else if (Date.now() < window._bokeh_timeout) {\n",
       "        setTimeout(display_loaded, 100)\n",
       "      }\n",
       "    }\n",
       "  \n",
       "    function run_callbacks() {\n",
       "      window._bokeh_onload_callbacks.forEach(function(callback) { callback() });\n",
       "      delete window._bokeh_onload_callbacks\n",
       "      console.info(\"Bokeh: all callbacks have finished\");\n",
       "    }\n",
       "  \n",
       "    function load_libs(js_urls, callback) {\n",
       "      window._bokeh_onload_callbacks.push(callback);\n",
       "      if (window._bokeh_is_loading > 0) {\n",
       "        console.log(\"Bokeh: BokehJS is being loaded, scheduling callback at\", now());\n",
       "        return null;\n",
       "      }\n",
       "      if (js_urls == null || js_urls.length === 0) {\n",
       "        run_callbacks();\n",
       "        return null;\n",
       "      }\n",
       "      console.log(\"Bokeh: BokehJS not loaded, scheduling load and callback at\", now());\n",
       "      window._bokeh_is_loading = js_urls.length;\n",
       "      for (var i = 0; i < js_urls.length; i++) {\n",
       "        var url = js_urls[i];\n",
       "        var s = document.createElement('script');\n",
       "        s.src = url;\n",
       "        s.async = false;\n",
       "        s.onreadystatechange = s.onload = function() {\n",
       "          window._bokeh_is_loading--;\n",
       "          if (window._bokeh_is_loading === 0) {\n",
       "            console.log(\"Bokeh: all BokehJS libraries loaded\");\n",
       "            run_callbacks()\n",
       "          }\n",
       "        };\n",
       "        s.onerror = function() {\n",
       "          console.warn(\"failed to load library \" + url);\n",
       "        };\n",
       "        console.log(\"Bokeh: injecting script tag for BokehJS library: \", url);\n",
       "        document.getElementsByTagName(\"head\")[0].appendChild(s);\n",
       "      }\n",
       "    };var element = document.getElementById(\"cc9fea28-438b-438a-8f14-a1ef317161af\");\n",
       "    if (element == null) {\n",
       "      console.log(\"Bokeh: ERROR: autoload.js configured with elementid 'cc9fea28-438b-438a-8f14-a1ef317161af' but no matching script tag was found. \")\n",
       "      return false;\n",
       "    }\n",
       "  \n",
       "    var js_urls = [];\n",
       "  \n",
       "    var inline_js = [\n",
       "      function(Bokeh) {\n",
       "        (function() {\n",
       "          var fn = function() {\n",
       "            var docs_json = {\"4b07b87d-f857-433e-aa44-6cea3c3c77f6\":{\"roots\":{\"references\":[{\"attributes\":{\"plot\":{\"id\":\"476d25c3-c5d8-47d1-b662-87ac6281cb92\",\"subtype\":\"Figure\",\"type\":\"Plot\"}},\"id\":\"f7c265eb-1bb1-4137-a999-4f6f30cb6d10\",\"type\":\"WheelZoomTool\"},{\"attributes\":{\"data_source\":{\"id\":\"e22563c3-dc6e-4519-8746-94651a14c487\",\"type\":\"ColumnDataSource\"},\"glyph\":{\"id\":\"f9308923-054a-4898-b818-148526595514\",\"type\":\"Line\"},\"hover_glyph\":null,\"nonselection_glyph\":{\"id\":\"b6146b7a-0889-4583-b1fa-945f94a52d8c\",\"type\":\"Line\"},\"selection_glyph\":null},\"id\":\"c5f3ea39-5957-4258-b064-a4a896450d78\",\"type\":\"GlyphRenderer\"},{\"attributes\":{\"plot\":{\"id\":\"476d25c3-c5d8-47d1-b662-87ac6281cb92\",\"subtype\":\"Figure\",\"type\":\"Plot\"}},\"id\":\"79de449f-01c0-4340-9368-63d5ed81b7fc\",\"type\":\"HelpTool\"},{\"attributes\":{\"overlay\":{\"id\":\"89de942a-2ba0-4bc9-bc17-fdd1ce7c4e33\",\"type\":\"BoxAnnotation\"},\"plot\":{\"id\":\"476d25c3-c5d8-47d1-b662-87ac6281cb92\",\"subtype\":\"Figure\",\"type\":\"Plot\"}},\"id\":\"ccc074bd-adcf-4a90-936f-4cc486ad6757\",\"type\":\"BoxZoomTool\"},{\"attributes\":{\"bottom_units\":\"screen\",\"fill_alpha\":{\"value\":0.5},\"fill_color\":{\"value\":\"lightgrey\"},\"left_units\":\"screen\",\"level\":\"overlay\",\"line_alpha\":{\"value\":1.0},\"line_color\":{\"value\":\"black\"},\"line_dash\":[4,4],\"line_width\":{\"value\":2},\"plot\":null,\"render_mode\":\"css\",\"right_units\":\"screen\",\"top_units\":\"screen\"},\"id\":\"89de942a-2ba0-4bc9-bc17-fdd1ce7c4e33\",\"type\":\"BoxAnnotation\"},{\"attributes\":{\"plot\":{\"id\":\"476d25c3-c5d8-47d1-b662-87ac6281cb92\",\"subtype\":\"Figure\",\"type\":\"Plot\"}},\"id\":\"f739fa8e-c64c-4551-9d42-3d7635087111\",\"type\":\"PanTool\"},{\"attributes\":{\"plot\":{\"id\":\"476d25c3-c5d8-47d1-b662-87ac6281cb92\",\"subtype\":\"Figure\",\"type\":\"Plot\"}},\"id\":\"e13a05e4-d08d-4d36-94d5-f2e9bfcad39d\",\"type\":\"ResetTool\"},{\"attributes\":{\"below\":[{\"id\":\"b7a01f0c-3f46-4a44-b517-3671a8c6ac78\",\"type\":\"LinearAxis\"}],\"left\":[{\"id\":\"72d148ce-da26-4865-8e0d-40116b1a3ea2\",\"type\":\"LinearAxis\"}],\"plot_height\":500,\"plot_width\":950,\"renderers\":[{\"id\":\"b7a01f0c-3f46-4a44-b517-3671a8c6ac78\",\"type\":\"LinearAxis\"},{\"id\":\"98954151-fb17-4178-acfb-f388f3d53a26\",\"type\":\"Grid\"},{\"id\":\"72d148ce-da26-4865-8e0d-40116b1a3ea2\",\"type\":\"LinearAxis\"},{\"id\":\"b59358fc-a92f-4486-8cda-73d00b93cefb\",\"type\":\"Grid\"},{\"id\":\"89de942a-2ba0-4bc9-bc17-fdd1ce7c4e33\",\"type\":\"BoxAnnotation\"},{\"id\":\"c5f3ea39-5957-4258-b064-a4a896450d78\",\"type\":\"GlyphRenderer\"}],\"title\":{\"id\":\"15f2de05-16e5-49bd-9130-edd3481b536f\",\"type\":\"Title\"},\"tool_events\":{\"id\":\"2c1f4e7c-3169-48b2-abff-b99bb590986b\",\"type\":\"ToolEvents\"},\"toolbar\":{\"id\":\"38fc2fbc-9abe-4b6d-916e-cb915ade24d6\",\"type\":\"Toolbar\"},\"x_range\":{\"id\":\"003d4d71-38b4-405f-beea-de0de47dd77b\",\"type\":\"DataRange1d\"},\"y_range\":{\"id\":\"ce479470-2b0f-41a6-9835-f3c4c92a9769\",\"type\":\"DataRange1d\"}},\"id\":\"476d25c3-c5d8-47d1-b662-87ac6281cb92\",\"subtype\":\"Figure\",\"type\":\"Plot\"},{\"attributes\":{\"plot\":{\"id\":\"476d25c3-c5d8-47d1-b662-87ac6281cb92\",\"subtype\":\"Figure\",\"type\":\"Plot\"}},\"id\":\"b399c367-5c53-4886-8d65-9ba080d85134\",\"type\":\"SaveTool\"},{\"attributes\":{\"plot\":{\"id\":\"476d25c3-c5d8-47d1-b662-87ac6281cb92\",\"subtype\":\"Figure\",\"type\":\"Plot\"},\"ticker\":{\"id\":\"b3c1eea5-24f0-4fc6-8cc5-eb2764fe5f41\",\"type\":\"BasicTicker\"}},\"id\":\"98954151-fb17-4178-acfb-f388f3d53a26\",\"type\":\"Grid\"},{\"attributes\":{\"callback\":null},\"id\":\"003d4d71-38b4-405f-beea-de0de47dd77b\",\"type\":\"DataRange1d\"},{\"attributes\":{},\"id\":\"5bc4a4bf-ae18-441a-962f-7cec00d84774\",\"type\":\"BasicTickFormatter\"},{\"attributes\":{\"callback\":null},\"id\":\"ce479470-2b0f-41a6-9835-f3c4c92a9769\",\"type\":\"DataRange1d\"},{\"attributes\":{\"formatter\":{\"id\":\"5bc4a4bf-ae18-441a-962f-7cec00d84774\",\"type\":\"BasicTickFormatter\"},\"plot\":{\"id\":\"476d25c3-c5d8-47d1-b662-87ac6281cb92\",\"subtype\":\"Figure\",\"type\":\"Plot\"},\"ticker\":{\"id\":\"b3c1eea5-24f0-4fc6-8cc5-eb2764fe5f41\",\"type\":\"BasicTicker\"}},\"id\":\"b7a01f0c-3f46-4a44-b517-3671a8c6ac78\",\"type\":\"LinearAxis\"},{\"attributes\":{},\"id\":\"1438a1c8-b225-40a2-b51a-f0e08b045e43\",\"type\":\"BasicTickFormatter\"},{\"attributes\":{},\"id\":\"b3c1eea5-24f0-4fc6-8cc5-eb2764fe5f41\",\"type\":\"BasicTicker\"},{\"attributes\":{\"plot\":null,\"text\":\"\"},\"id\":\"15f2de05-16e5-49bd-9130-edd3481b536f\",\"type\":\"Title\"},{\"attributes\":{\"line_alpha\":{\"value\":0.1},\"line_color\":{\"value\":\"#1f77b4\"},\"x\":{\"field\":\"x\"},\"y\":{\"field\":\"y\"}},\"id\":\"b6146b7a-0889-4583-b1fa-945f94a52d8c\",\"type\":\"Line\"},{\"attributes\":{\"dimension\":1,\"plot\":{\"id\":\"476d25c3-c5d8-47d1-b662-87ac6281cb92\",\"subtype\":\"Figure\",\"type\":\"Plot\"},\"ticker\":{\"id\":\"506b5cfe-5028-473f-aa44-7ff5fd3bef46\",\"type\":\"BasicTicker\"}},\"id\":\"b59358fc-a92f-4486-8cda-73d00b93cefb\",\"type\":\"Grid\"},{\"attributes\":{\"callback\":null,\"column_names\":[\"x\",\"y\"],\"data\":{\"x\":[0,1,2,3,4,5,6,7,8,9,10,11,12,13,14,15,16,17,18,19,20,21,22,23,24,25,26,27,28,29,30,31,32,33,34,35,36,37,38,39,40,41,42,43,44,45,46,47,48,49,50,51,52,53,54,55,56,57,58,59,60,61,62,63,64,65,66,67,68,69,70,71,72,73,74,75,76,77,78,79,80,81,82,83,84,85,86,87,88,89,90,91,92,93,94,95,96,97,98,99,100,101,102,103,104,105,106,107,108,109,110,111,112,113,114,115,116,117,118,119,120,121,122,123,124,125,126,127,128,129,130,131,132,133,134,135,136,137,138,139,140,141,142,143,144,145,146,147,148,149,150,151,152,153,154,155,156,157,158,159,160,161,162,163,164,165,166,167,168,169,170,171,172,173,174,175,176,177,178,179,180,181,182,183,184,185,186,187,188,189,190,191,192,193,194,195,196,197,198,199],\"y\":{\"__ndarray__\":\"UacARoSjAEYXyhlBmaYARqmnAEaSoQBGy6gARpumAEbglwBGs50ARtKVAEbjpgBGx5oARqeoAEalnwBGOKYARlClAEbNowBGyaUARsSiAEbkpABGbaQARseeAEaJogBG06cARjmkAEbBjABGtaYARhyeAEbDowBGEacARj6lAEaXnABGLacARgmpAEaJpgBGBKUARiSoAEbdoQBG8acARkqoAEbnpgBGQ6UARlGdAEaApABGGKcARmGoAEZsgQBGI6UARmzZH0ERpQBGV6MARv6lAEYSqQBGj58ARvKlAEa/qABGe6gARnyoAEYZqABGN58ARlinAEbvpABGpKUARvGnAEbBpgBGG6IARnihAEZgpABGl6cARkuoAEatmgBGdo8ARu2kAEaRqABGf6AARqShAEYFqABGbaEARrWoAEaRngBGAjIfQXunAEanpABGEagARlelAEbDqABGqqQARjmkAEahpgBGKKAARiGhAEZIpgBGup8ARn2fAEaJqABGuqEARoeiAEaWpwBGbaQARuylAEZZpwBGyqYARoWmAEaZogBGXaMARkGmAEbXnQBGqKMARj+AAEZ6qABGAagARqmjAEbtnwBGNakARnedAEY4oABGlaQARpKoAEaLoABG6aYARvGnAEb7pQBGlqQARhqpAEbmpQBGSKYARt2jAEYtoQBGBJsARhWRAEZypABG9+cYQe+fAEZwkABGd48ARouiAEb7pwBGxaYARmWlAEYxqABGKKMARp2cAEZGpwBGqqQARqyoAEaimwBGFqEARuObAEazqABGbaQARmenAEb2pQBGfJ8ARounAEaBowBGFqIARhamAEaboABG66UARmioAEZzoQBGR6MARraiAEappQBGj6IARkKnAEYCpwBGnZsARu+mAEbYnQBGQY4ARgunAEYNqQBGM6gARvioAEbPoQBGsaYARoqlAEaXpQBG06cARsWmAEZzqABGIZwARr2kAEY8pgBGf6EARqsyJEEDqQBGTJ0ARjypAEZhqABG+KUARledAEaBpQBGDJoARjuoAEZmpwBG5aMARrWMAEY=\",\"dtype\":\"float32\",\"shape\":[200]}}},\"id\":\"e22563c3-dc6e-4519-8746-94651a14c487\",\"type\":\"ColumnDataSource\"},{\"attributes\":{\"active_drag\":\"auto\",\"active_scroll\":\"auto\",\"active_tap\":\"auto\",\"tools\":[{\"id\":\"f739fa8e-c64c-4551-9d42-3d7635087111\",\"type\":\"PanTool\"},{\"id\":\"f7c265eb-1bb1-4137-a999-4f6f30cb6d10\",\"type\":\"WheelZoomTool\"},{\"id\":\"ccc074bd-adcf-4a90-936f-4cc486ad6757\",\"type\":\"BoxZoomTool\"},{\"id\":\"b399c367-5c53-4886-8d65-9ba080d85134\",\"type\":\"SaveTool\"},{\"id\":\"e13a05e4-d08d-4d36-94d5-f2e9bfcad39d\",\"type\":\"ResetTool\"},{\"id\":\"79de449f-01c0-4340-9368-63d5ed81b7fc\",\"type\":\"HelpTool\"}]},\"id\":\"38fc2fbc-9abe-4b6d-916e-cb915ade24d6\",\"type\":\"Toolbar\"},{\"attributes\":{},\"id\":\"2c1f4e7c-3169-48b2-abff-b99bb590986b\",\"type\":\"ToolEvents\"},{\"attributes\":{},\"id\":\"506b5cfe-5028-473f-aa44-7ff5fd3bef46\",\"type\":\"BasicTicker\"},{\"attributes\":{\"formatter\":{\"id\":\"1438a1c8-b225-40a2-b51a-f0e08b045e43\",\"type\":\"BasicTickFormatter\"},\"plot\":{\"id\":\"476d25c3-c5d8-47d1-b662-87ac6281cb92\",\"subtype\":\"Figure\",\"type\":\"Plot\"},\"ticker\":{\"id\":\"506b5cfe-5028-473f-aa44-7ff5fd3bef46\",\"type\":\"BasicTicker\"}},\"id\":\"72d148ce-da26-4865-8e0d-40116b1a3ea2\",\"type\":\"LinearAxis\"},{\"attributes\":{\"line_color\":{\"value\":\"#008000\"},\"x\":{\"field\":\"x\"},\"y\":{\"field\":\"y\"}},\"id\":\"f9308923-054a-4898-b818-148526595514\",\"type\":\"Line\"}],\"root_ids\":[\"476d25c3-c5d8-47d1-b662-87ac6281cb92\"]},\"title\":\"Bokeh Application\",\"version\":\"0.12.4\"}};\n",
       "            var render_items = [{\"docid\":\"4b07b87d-f857-433e-aa44-6cea3c3c77f6\",\"elementid\":\"cc9fea28-438b-438a-8f14-a1ef317161af\",\"modelid\":\"476d25c3-c5d8-47d1-b662-87ac6281cb92\"}];\n",
       "            \n",
       "            Bokeh.embed.embed_items(docs_json, render_items);\n",
       "          };\n",
       "          if (document.readyState != \"loading\") fn();\n",
       "          else document.addEventListener(\"DOMContentLoaded\", fn);\n",
       "        })();\n",
       "      },\n",
       "      function(Bokeh) {\n",
       "      }\n",
       "    ];\n",
       "  \n",
       "    function run_inline_js() {\n",
       "      \n",
       "      if ((window.Bokeh !== undefined) || (force === true)) {\n",
       "        for (var i = 0; i < inline_js.length; i++) {\n",
       "          inline_js[i](window.Bokeh);\n",
       "        }if (force === true) {\n",
       "          display_loaded();\n",
       "        }} else if (Date.now() < window._bokeh_timeout) {\n",
       "        setTimeout(run_inline_js, 100);\n",
       "      } else if (!window._bokeh_failed_load) {\n",
       "        console.log(\"Bokeh: BokehJS failed to load within specified timeout.\");\n",
       "        window._bokeh_failed_load = true;\n",
       "      } else if (force !== true) {\n",
       "        var cell = $(document.getElementById(\"cc9fea28-438b-438a-8f14-a1ef317161af\")).parents('.cell').data().cell;\n",
       "        cell.output_area.append_execute_result(NB_LOAD_WARNING)\n",
       "      }\n",
       "  \n",
       "    }\n",
       "  \n",
       "    if (window._bokeh_is_loading === 0) {\n",
       "      console.log(\"Bokeh: BokehJS loaded, going straight to plotting\");\n",
       "      run_inline_js();\n",
       "    } else {\n",
       "      load_libs(js_urls, function() {\n",
       "        console.log(\"Bokeh: BokehJS plotting callback run at\", now());\n",
       "        run_inline_js();\n",
       "      });\n",
       "    }\n",
       "  }(this));\n",
       "</script>"
      ]
     },
     "metadata": {},
     "output_type": "display_data"
    },
    {
     "data": {
      "text/html": [
       "\n",
       "\n",
       "    <div class=\"bk-root\">\n",
       "        <div class=\"bk-plotdiv\" id=\"5281eb20-6d82-4cab-8b32-55b92ac382aa\"></div>\n",
       "    </div>\n",
       "<script type=\"text/javascript\">\n",
       "  \n",
       "  (function(global) {\n",
       "    function now() {\n",
       "      return new Date();\n",
       "    }\n",
       "  \n",
       "    var force = false;\n",
       "  \n",
       "    if (typeof (window._bokeh_onload_callbacks) === \"undefined\" || force === true) {\n",
       "      window._bokeh_onload_callbacks = [];\n",
       "      window._bokeh_is_loading = undefined;\n",
       "    }\n",
       "  \n",
       "  \n",
       "    \n",
       "    if (typeof (window._bokeh_timeout) === \"undefined\" || force === true) {\n",
       "      window._bokeh_timeout = Date.now() + 0;\n",
       "      window._bokeh_failed_load = false;\n",
       "    }\n",
       "  \n",
       "    var NB_LOAD_WARNING = {'data': {'text/html':\n",
       "       \"<div style='background-color: #fdd'>\\n\"+\n",
       "       \"<p>\\n\"+\n",
       "       \"BokehJS does not appear to have successfully loaded. If loading BokehJS from CDN, this \\n\"+\n",
       "       \"may be due to a slow or bad network connection. Possible fixes:\\n\"+\n",
       "       \"</p>\\n\"+\n",
       "       \"<ul>\\n\"+\n",
       "       \"<li>re-rerun `output_notebook()` to attempt to load from CDN again, or</li>\\n\"+\n",
       "       \"<li>use INLINE resources instead, as so:</li>\\n\"+\n",
       "       \"</ul>\\n\"+\n",
       "       \"<code>\\n\"+\n",
       "       \"from bokeh.resources import INLINE\\n\"+\n",
       "       \"output_notebook(resources=INLINE)\\n\"+\n",
       "       \"</code>\\n\"+\n",
       "       \"</div>\"}};\n",
       "  \n",
       "    function display_loaded() {\n",
       "      if (window.Bokeh !== undefined) {\n",
       "        document.getElementById(\"5281eb20-6d82-4cab-8b32-55b92ac382aa\").textContent = \"BokehJS successfully loaded.\";\n",
       "      } else if (Date.now() < window._bokeh_timeout) {\n",
       "        setTimeout(display_loaded, 100)\n",
       "      }\n",
       "    }\n",
       "  \n",
       "    function run_callbacks() {\n",
       "      window._bokeh_onload_callbacks.forEach(function(callback) { callback() });\n",
       "      delete window._bokeh_onload_callbacks\n",
       "      console.info(\"Bokeh: all callbacks have finished\");\n",
       "    }\n",
       "  \n",
       "    function load_libs(js_urls, callback) {\n",
       "      window._bokeh_onload_callbacks.push(callback);\n",
       "      if (window._bokeh_is_loading > 0) {\n",
       "        console.log(\"Bokeh: BokehJS is being loaded, scheduling callback at\", now());\n",
       "        return null;\n",
       "      }\n",
       "      if (js_urls == null || js_urls.length === 0) {\n",
       "        run_callbacks();\n",
       "        return null;\n",
       "      }\n",
       "      console.log(\"Bokeh: BokehJS not loaded, scheduling load and callback at\", now());\n",
       "      window._bokeh_is_loading = js_urls.length;\n",
       "      for (var i = 0; i < js_urls.length; i++) {\n",
       "        var url = js_urls[i];\n",
       "        var s = document.createElement('script');\n",
       "        s.src = url;\n",
       "        s.async = false;\n",
       "        s.onreadystatechange = s.onload = function() {\n",
       "          window._bokeh_is_loading--;\n",
       "          if (window._bokeh_is_loading === 0) {\n",
       "            console.log(\"Bokeh: all BokehJS libraries loaded\");\n",
       "            run_callbacks()\n",
       "          }\n",
       "        };\n",
       "        s.onerror = function() {\n",
       "          console.warn(\"failed to load library \" + url);\n",
       "        };\n",
       "        console.log(\"Bokeh: injecting script tag for BokehJS library: \", url);\n",
       "        document.getElementsByTagName(\"head\")[0].appendChild(s);\n",
       "      }\n",
       "    };var element = document.getElementById(\"5281eb20-6d82-4cab-8b32-55b92ac382aa\");\n",
       "    if (element == null) {\n",
       "      console.log(\"Bokeh: ERROR: autoload.js configured with elementid '5281eb20-6d82-4cab-8b32-55b92ac382aa' but no matching script tag was found. \")\n",
       "      return false;\n",
       "    }\n",
       "  \n",
       "    var js_urls = [];\n",
       "  \n",
       "    var inline_js = [\n",
       "      function(Bokeh) {\n",
       "        (function() {\n",
       "          var fn = function() {\n",
       "            var docs_json = {\"c0e73a56-62bf-4fd9-a999-90464eea678a\":{\"roots\":{\"references\":[{\"attributes\":{\"plot\":{\"id\":\"693f6b8a-a1b0-4353-8521-69373a7b5b32\",\"subtype\":\"Figure\",\"type\":\"Plot\"},\"ticker\":{\"id\":\"6232d42d-ca56-464e-907a-dda14b22e110\",\"type\":\"BasicTicker\"}},\"id\":\"ffbce336-720f-4077-a53b-981997ce0fab\",\"type\":\"Grid\"},{\"attributes\":{\"plot\":{\"id\":\"693f6b8a-a1b0-4353-8521-69373a7b5b32\",\"subtype\":\"Figure\",\"type\":\"Plot\"}},\"id\":\"9062efe0-da13-49f1-b1c2-b9793e6c528f\",\"type\":\"HelpTool\"},{\"attributes\":{\"dimension\":1,\"plot\":{\"id\":\"693f6b8a-a1b0-4353-8521-69373a7b5b32\",\"subtype\":\"Figure\",\"type\":\"Plot\"},\"ticker\":{\"id\":\"20b9deed-4e8c-4e9d-8326-2f03b5f0069a\",\"type\":\"BasicTicker\"}},\"id\":\"0db64f3e-b4df-4ffb-aa35-7f9e28468dac\",\"type\":\"Grid\"},{\"attributes\":{\"plot\":{\"id\":\"693f6b8a-a1b0-4353-8521-69373a7b5b32\",\"subtype\":\"Figure\",\"type\":\"Plot\"}},\"id\":\"9570defd-2cce-4273-ba86-a8c24c868962\",\"type\":\"ResetTool\"},{\"attributes\":{\"plot\":null,\"text\":\"\"},\"id\":\"8558f8e4-da77-46e3-ac0f-dfdc11fcda9e\",\"type\":\"Title\"},{\"attributes\":{\"formatter\":{\"id\":\"d4da75cb-137a-489a-b0d6-f9724ee2b44f\",\"type\":\"BasicTickFormatter\"},\"plot\":{\"id\":\"693f6b8a-a1b0-4353-8521-69373a7b5b32\",\"subtype\":\"Figure\",\"type\":\"Plot\"},\"ticker\":{\"id\":\"20b9deed-4e8c-4e9d-8326-2f03b5f0069a\",\"type\":\"BasicTicker\"}},\"id\":\"2651e8ca-9673-452f-9d64-6a44a859eed8\",\"type\":\"LinearAxis\"},{\"attributes\":{\"plot\":{\"id\":\"693f6b8a-a1b0-4353-8521-69373a7b5b32\",\"subtype\":\"Figure\",\"type\":\"Plot\"}},\"id\":\"c0f90350-2076-4dc9-bdc9-344ada5bef19\",\"type\":\"PanTool\"},{\"attributes\":{},\"id\":\"d15deaf5-b969-4de4-b28a-dfb4ac498c6e\",\"type\":\"ToolEvents\"},{\"attributes\":{},\"id\":\"bfc1ae9c-ff4b-4d4e-a910-090b09a5825a\",\"type\":\"BasicTickFormatter\"},{\"attributes\":{\"callback\":null},\"id\":\"2ffcd37e-e333-4ea0-892c-2eeaf64541bf\",\"type\":\"DataRange1d\"},{\"attributes\":{\"bottom_units\":\"screen\",\"fill_alpha\":{\"value\":0.5},\"fill_color\":{\"value\":\"lightgrey\"},\"left_units\":\"screen\",\"level\":\"overlay\",\"line_alpha\":{\"value\":1.0},\"line_color\":{\"value\":\"black\"},\"line_dash\":[4,4],\"line_width\":{\"value\":2},\"plot\":null,\"render_mode\":\"css\",\"right_units\":\"screen\",\"top_units\":\"screen\"},\"id\":\"d330e50d-1e2c-4965-823b-f844a37c07f8\",\"type\":\"BoxAnnotation\"},{\"attributes\":{\"callback\":null},\"id\":\"859696f3-6315-4eb3-8e59-5d9470ae8d6e\",\"type\":\"DataRange1d\"},{\"attributes\":{},\"id\":\"6232d42d-ca56-464e-907a-dda14b22e110\",\"type\":\"BasicTicker\"},{\"attributes\":{\"plot\":{\"id\":\"693f6b8a-a1b0-4353-8521-69373a7b5b32\",\"subtype\":\"Figure\",\"type\":\"Plot\"}},\"id\":\"2a8b018a-be19-488e-8bea-f81d65d9b809\",\"type\":\"WheelZoomTool\"},{\"attributes\":{\"plot\":{\"id\":\"693f6b8a-a1b0-4353-8521-69373a7b5b32\",\"subtype\":\"Figure\",\"type\":\"Plot\"}},\"id\":\"da1d18a3-4b69-4677-9c3e-139ccb0b1d88\",\"type\":\"SaveTool\"},{\"attributes\":{\"data_source\":{\"id\":\"bd5a0317-fbaa-4285-8b2b-533bf7341219\",\"type\":\"ColumnDataSource\"},\"glyph\":{\"id\":\"af8c2d57-6ed3-4817-a305-ea6ef63fed7a\",\"type\":\"Line\"},\"hover_glyph\":null,\"nonselection_glyph\":{\"id\":\"cf54660b-cbb2-4b70-94c0-9c372475a6d8\",\"type\":\"Line\"},\"selection_glyph\":null},\"id\":\"b7996e57-d556-4dda-a10b-fefc6c4732db\",\"type\":\"GlyphRenderer\"},{\"attributes\":{\"active_drag\":\"auto\",\"active_scroll\":\"auto\",\"active_tap\":\"auto\",\"tools\":[{\"id\":\"c0f90350-2076-4dc9-bdc9-344ada5bef19\",\"type\":\"PanTool\"},{\"id\":\"2a8b018a-be19-488e-8bea-f81d65d9b809\",\"type\":\"WheelZoomTool\"},{\"id\":\"bfad44d0-d1a8-4875-b8c9-d21d3ffeda3a\",\"type\":\"BoxZoomTool\"},{\"id\":\"da1d18a3-4b69-4677-9c3e-139ccb0b1d88\",\"type\":\"SaveTool\"},{\"id\":\"9570defd-2cce-4273-ba86-a8c24c868962\",\"type\":\"ResetTool\"},{\"id\":\"9062efe0-da13-49f1-b1c2-b9793e6c528f\",\"type\":\"HelpTool\"}]},\"id\":\"29bf83aa-f9bb-4b6b-9aab-e737e3373bbe\",\"type\":\"Toolbar\"},{\"attributes\":{\"formatter\":{\"id\":\"bfc1ae9c-ff4b-4d4e-a910-090b09a5825a\",\"type\":\"BasicTickFormatter\"},\"plot\":{\"id\":\"693f6b8a-a1b0-4353-8521-69373a7b5b32\",\"subtype\":\"Figure\",\"type\":\"Plot\"},\"ticker\":{\"id\":\"6232d42d-ca56-464e-907a-dda14b22e110\",\"type\":\"BasicTicker\"}},\"id\":\"8451f0b7-3b79-4110-a257-be0b21aea600\",\"type\":\"LinearAxis\"},{\"attributes\":{\"overlay\":{\"id\":\"d330e50d-1e2c-4965-823b-f844a37c07f8\",\"type\":\"BoxAnnotation\"},\"plot\":{\"id\":\"693f6b8a-a1b0-4353-8521-69373a7b5b32\",\"subtype\":\"Figure\",\"type\":\"Plot\"}},\"id\":\"bfad44d0-d1a8-4875-b8c9-d21d3ffeda3a\",\"type\":\"BoxZoomTool\"},{\"attributes\":{\"line_color\":{\"value\":\"#1f77b4\"},\"x\":{\"field\":\"x\"},\"y\":{\"field\":\"y\"}},\"id\":\"af8c2d57-6ed3-4817-a305-ea6ef63fed7a\",\"type\":\"Line\"},{\"attributes\":{\"line_alpha\":{\"value\":0.1},\"line_color\":{\"value\":\"#1f77b4\"},\"x\":{\"field\":\"x\"},\"y\":{\"field\":\"y\"}},\"id\":\"cf54660b-cbb2-4b70-94c0-9c372475a6d8\",\"type\":\"Line\"},{\"attributes\":{},\"id\":\"20b9deed-4e8c-4e9d-8326-2f03b5f0069a\",\"type\":\"BasicTicker\"},{\"attributes\":{\"below\":[{\"id\":\"8451f0b7-3b79-4110-a257-be0b21aea600\",\"type\":\"LinearAxis\"}],\"left\":[{\"id\":\"2651e8ca-9673-452f-9d64-6a44a859eed8\",\"type\":\"LinearAxis\"}],\"plot_height\":500,\"plot_width\":950,\"renderers\":[{\"id\":\"8451f0b7-3b79-4110-a257-be0b21aea600\",\"type\":\"LinearAxis\"},{\"id\":\"ffbce336-720f-4077-a53b-981997ce0fab\",\"type\":\"Grid\"},{\"id\":\"2651e8ca-9673-452f-9d64-6a44a859eed8\",\"type\":\"LinearAxis\"},{\"id\":\"0db64f3e-b4df-4ffb-aa35-7f9e28468dac\",\"type\":\"Grid\"},{\"id\":\"d330e50d-1e2c-4965-823b-f844a37c07f8\",\"type\":\"BoxAnnotation\"},{\"id\":\"b7996e57-d556-4dda-a10b-fefc6c4732db\",\"type\":\"GlyphRenderer\"}],\"title\":{\"id\":\"8558f8e4-da77-46e3-ac0f-dfdc11fcda9e\",\"type\":\"Title\"},\"tool_events\":{\"id\":\"d15deaf5-b969-4de4-b28a-dfb4ac498c6e\",\"type\":\"ToolEvents\"},\"toolbar\":{\"id\":\"29bf83aa-f9bb-4b6b-9aab-e737e3373bbe\",\"type\":\"Toolbar\"},\"x_range\":{\"id\":\"2ffcd37e-e333-4ea0-892c-2eeaf64541bf\",\"type\":\"DataRange1d\"},\"y_range\":{\"id\":\"859696f3-6315-4eb3-8e59-5d9470ae8d6e\",\"type\":\"DataRange1d\"}},\"id\":\"693f6b8a-a1b0-4353-8521-69373a7b5b32\",\"subtype\":\"Figure\",\"type\":\"Plot\"},{\"attributes\":{\"callback\":null,\"column_names\":[\"x\",\"y\"],\"data\":{\"x\":[0,1,2,3,4,5,6,7,8,9,10,11,12,13,14,15,16,17,18,19,20,21,22,23,24,25,26,27,28,29,30,31,32,33,34,35,36,37,38,39,40,41,42,43,44,45,46,47,48,49,50,51,52,53,54,55,56,57,58,59,60,61,62,63,64,65,66,67,68,69,70,71,72,73,74,75,76,77,78,79,80,81,82,83,84,85,86,87,88,89,90,91,92,93,94,95,96,97,98,99,100,101,102,103,104,105,106,107,108,109,110,111,112,113,114,115,116,117,118,119,120,121,122,123,124,125,126,127,128,129,130,131,132,133,134,135,136,137,138,139,140,141,142,143,144,145,146,147,148,149,150,151,152,153,154,155,156,157,158,159,160,161,162,163,164,165,166,167,168,169,170,171,172,173,174,175,176,177,178,179,180,181,182,183,184,185,186,187,188,189,190,191,192,193,194,195,196,197,198,199],\"y\":{\"__ndarray__\":\"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\",\"dtype\":\"float64\",\"shape\":[200]}}},\"id\":\"bd5a0317-fbaa-4285-8b2b-533bf7341219\",\"type\":\"ColumnDataSource\"},{\"attributes\":{},\"id\":\"d4da75cb-137a-489a-b0d6-f9724ee2b44f\",\"type\":\"BasicTickFormatter\"}],\"root_ids\":[\"693f6b8a-a1b0-4353-8521-69373a7b5b32\"]},\"title\":\"Bokeh Application\",\"version\":\"0.12.4\"}};\n",
       "            var render_items = [{\"docid\":\"c0e73a56-62bf-4fd9-a999-90464eea678a\",\"elementid\":\"5281eb20-6d82-4cab-8b32-55b92ac382aa\",\"modelid\":\"693f6b8a-a1b0-4353-8521-69373a7b5b32\"}];\n",
       "            \n",
       "            Bokeh.embed.embed_items(docs_json, render_items);\n",
       "          };\n",
       "          if (document.readyState != \"loading\") fn();\n",
       "          else document.addEventListener(\"DOMContentLoaded\", fn);\n",
       "        })();\n",
       "      },\n",
       "      function(Bokeh) {\n",
       "      }\n",
       "    ];\n",
       "  \n",
       "    function run_inline_js() {\n",
       "      \n",
       "      if ((window.Bokeh !== undefined) || (force === true)) {\n",
       "        for (var i = 0; i < inline_js.length; i++) {\n",
       "          inline_js[i](window.Bokeh);\n",
       "        }if (force === true) {\n",
       "          display_loaded();\n",
       "        }} else if (Date.now() < window._bokeh_timeout) {\n",
       "        setTimeout(run_inline_js, 100);\n",
       "      } else if (!window._bokeh_failed_load) {\n",
       "        console.log(\"Bokeh: BokehJS failed to load within specified timeout.\");\n",
       "        window._bokeh_failed_load = true;\n",
       "      } else if (force !== true) {\n",
       "        var cell = $(document.getElementById(\"5281eb20-6d82-4cab-8b32-55b92ac382aa\")).parents('.cell').data().cell;\n",
       "        cell.output_area.append_execute_result(NB_LOAD_WARNING)\n",
       "      }\n",
       "  \n",
       "    }\n",
       "  \n",
       "    if (window._bokeh_is_loading === 0) {\n",
       "      console.log(\"Bokeh: BokehJS loaded, going straight to plotting\");\n",
       "      run_inline_js();\n",
       "    } else {\n",
       "      load_libs(js_urls, function() {\n",
       "        console.log(\"Bokeh: BokehJS plotting callback run at\", now());\n",
       "        run_inline_js();\n",
       "      });\n",
       "    }\n",
       "  }(this));\n",
       "</script>"
      ]
     },
     "metadata": {},
     "output_type": "display_data"
    }
   ],
   "source": [
    "p = figure(plot_width=950, plot_height=500)\n",
    "p.line(x=list(range(len(predictions[:200,0]))), y=predictions[:200,0], color='#008000')\n",
    "show(p)\n",
    "\n",
    "q = figure(plot_width=950, plot_height=500)\n",
    "q.line(x=list(range(len(predictions[:200,0]))), y=testY[:200])\n",
    "show(q)"
   ]
  },
  {
   "cell_type": "markdown",
   "metadata": {
    "collapsed": false
   },
   "source": [
    "## Conclusion"
   ]
  },
  {
   "cell_type": "markdown",
   "metadata": {
    "collapsed": true
   },
   "source": []
  }
 ],
 "metadata": {
  "kernelspec": {
   "display_name": "Python 3",
   "language": "python",
   "name": "python3"
  },
  "language_info": {
   "codemirror_mode": {
    "name": "ipython",
    "version": 3
   },
   "file_extension": ".py",
   "mimetype": "text/x-python",
   "name": "python",
   "nbconvert_exporter": "python",
   "pygments_lexer": "ipython3",
   "version": "3.5.3"
  },
  "widgets": {
   "state": {
    "0aba5d72f8fb4d96a47e232c2d69eb49": {
     "views": [
      {
       "cell_index": 19
      }
     ]
    },
    "0ae6880849714fc7928883b6355fb728": {
     "views": [
      {
       "cell_index": 19
      }
     ]
    },
    "18e86675588e480a8734194637ad5753": {
     "views": [
      {
       "cell_index": 19
      }
     ]
    },
    "1d52c21593e04f50a92d72fc0bf31f81": {
     "views": [
      {
       "cell_index": 19
      }
     ]
    },
    "24e1a11d30564bcd917448c785d0b2fe": {
     "views": [
      {
       "cell_index": 19
      }
     ]
    },
    "26ce83a596644e17beb3c891f1dc6982": {
     "views": [
      {
       "cell_index": 19
      }
     ]
    },
    "309a0bcddd404538be75431aa0a53106": {
     "views": [
      {
       "cell_index": 19
      }
     ]
    },
    "30cd60cfa9824e0bb431bd902d26f45c": {
     "views": [
      {
       "cell_index": 16
      }
     ]
    },
    "34c08524a9bf4bbda97bc4f4429f0cad": {
     "views": [
      {
       "cell_index": 19
      }
     ]
    },
    "3ad674d3ab1b48589473f10feeff4f53": {
     "views": [
      {
       "cell_index": 19
      }
     ]
    },
    "3b6a1baf996a4762b291278f09a3f545": {
     "views": [
      {
       "cell_index": 19
      }
     ]
    },
    "3f8b9e787c874b51b3c32df49066fba3": {
     "views": [
      {
       "cell_index": 19
      }
     ]
    },
    "41b42a32d8984a458dba65d837204cfa": {
     "views": [
      {
       "cell_index": 19
      }
     ]
    },
    "43178ec7f24646e09ccb3f7871595b92": {
     "views": [
      {
       "cell_index": 19
      }
     ]
    },
    "444f93ac2f934e4eb50e552e08e61e20": {
     "views": [
      {
       "cell_index": 19
      }
     ]
    },
    "44ad6eec6b634651a921f04e8303846f": {
     "views": [
      {
       "cell_index": 19
      }
     ]
    },
    "50bd36cb55ff4d3d8dabfaff051efe9f": {
     "views": [
      {
       "cell_index": 19
      }
     ]
    },
    "551f58e403544e97a1240614a06a3a59": {
     "views": [
      {
       "cell_index": 19
      }
     ]
    },
    "5d1d6048680f4c8b999f9cd399c6236d": {
     "views": [
      {
       "cell_index": 19
      }
     ]
    },
    "6491a7c3f6aa412eaa2be4061e672cac": {
     "views": [
      {
       "cell_index": 19
      }
     ]
    },
    "7c79e67889ec49f5b0462798e3eeff84": {
     "views": [
      {
       "cell_index": 19
      }
     ]
    },
    "7d7a51b09b4e48b9bc1c08e2a1aeff9e": {
     "views": [
      {
       "cell_index": 19
      }
     ]
    },
    "83a1a350db31450b8e7ee6d13381ab64": {
     "views": [
      {
       "cell_index": 19
      }
     ]
    },
    "83a98bbf5dca44579fe0916c1d67bc73": {
     "views": [
      {
       "cell_index": 19
      }
     ]
    },
    "86cbefd5ae744796adce1670952a2111": {
     "views": [
      {
       "cell_index": 19
      }
     ]
    },
    "8fb196ebf66b4b35a1ff62db5d201eb0": {
     "views": [
      {
       "cell_index": 19
      }
     ]
    },
    "974c037547e348cfb062e82192897038": {
     "views": [
      {
       "cell_index": 18
      }
     ]
    },
    "998361a5b6cd49fcab3981f648b594ce": {
     "views": [
      {
       "cell_index": 19
      }
     ]
    },
    "9ac52d5b036d4c9eb58d47683b6c078a": {
     "views": [
      {
       "cell_index": 19
      }
     ]
    },
    "9af86fef558f4827ae25786ea41dd27f": {
     "views": [
      {
       "cell_index": 19
      }
     ]
    },
    "9cc6141c566e4fa9ac31c9b84f475a9e": {
     "views": [
      {
       "cell_index": 19
      }
     ]
    },
    "9cc68b2321584a8ababd0a8110167f7d": {
     "views": [
      {
       "cell_index": 19
      }
     ]
    },
    "9e5e5eb637014489adaf9eba0d07fbfe": {
     "views": [
      {
       "cell_index": 19
      }
     ]
    },
    "a24941b1e09b4c2387f2318e0c4e77b9": {
     "views": [
      {
       "cell_index": 19
      }
     ]
    },
    "a9f06d24e392440e92b2262ca6fec36e": {
     "views": [
      {
       "cell_index": 16
      }
     ]
    },
    "aa648b8be14d469ab5dd3b6dec1064b4": {
     "views": [
      {
       "cell_index": 19
      }
     ]
    },
    "b3966928e8e346d095a1039abd53b13d": {
     "views": [
      {
       "cell_index": 19
      }
     ]
    },
    "badcc1d9065644798dba87beb1940486": {
     "views": [
      {
       "cell_index": 19
      }
     ]
    },
    "bd435e244fcc4490bb8aecbfe0dc6258": {
     "views": [
      {
       "cell_index": 19
      }
     ]
    },
    "bee824a743d447629ce301f62b2fe09c": {
     "views": [
      {
       "cell_index": 19
      }
     ]
    },
    "bf896d6499bf487f881f3f56857c8c29": {
     "views": [
      {
       "cell_index": 19
      }
     ]
    },
    "c1cc9a90c7db449a801790b527c5088c": {
     "views": [
      {
       "cell_index": 19
      }
     ]
    },
    "c537911fa9f74d119d964f006ece2fb0": {
     "views": [
      {
       "cell_index": 19
      }
     ]
    },
    "cd8b907105304393a42e6cec1fa62ecf": {
     "views": [
      {
       "cell_index": 18
      }
     ]
    },
    "d85ce3518bbf467ca04aae99c5a808ac": {
     "views": [
      {
       "cell_index": 19
      }
     ]
    },
    "da8314cc7c5544108cb138f8e61e7ff8": {
     "views": [
      {
       "cell_index": 19
      }
     ]
    },
    "e8b4bc33dfcf49f7ad207fcfbb481d55": {
     "views": [
      {
       "cell_index": 19
      }
     ]
    },
    "e9d41c3d32c64449ad1c8b741f98be00": {
     "views": [
      {
       "cell_index": 19
      }
     ]
    },
    "ead08d64e2994056b597f41b7d4e5318": {
     "views": [
      {
       "cell_index": 19
      }
     ]
    },
    "eb460ea7f7ba45c7a690858abfcc70cf": {
     "views": [
      {
       "cell_index": 19
      }
     ]
    },
    "ec58e705c0b144248067b15c050705aa": {
     "views": [
      {
       "cell_index": 19
      }
     ]
    },
    "ec5a359311a040959ef537f693920e59": {
     "views": [
      {
       "cell_index": 19
      }
     ]
    },
    "f064479529e141f1872389c709fb15e9": {
     "views": [
      {
       "cell_index": 19
      }
     ]
    },
    "f0bac16ce82049a5b29cf751db1a9680": {
     "views": [
      {
       "cell_index": 19
      }
     ]
    },
    "f249e94c93cf4ec79ff04a1db35c85ca": {
     "views": [
      {
       "cell_index": 19
      }
     ]
    },
    "fcc0e8fa248b49198226ab282102437e": {
     "views": [
      {
       "cell_index": 16
      }
     ]
    },
    "fdb00a24b2ca463aa23fb29f1be7e85d": {
     "views": [
      {
       "cell_index": 19
      }
     ]
    }
   },
   "version": "1.2.0"
  }
 },
 "nbformat": 4,
 "nbformat_minor": 2
}
