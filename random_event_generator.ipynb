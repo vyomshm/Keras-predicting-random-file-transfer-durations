{
 "cells": [
  {
   "cell_type": "markdown",
   "metadata": {
    "deletable": true,
    "editable": true
   },
   "source": [
    "# This notebook contains code which writes fictional 1 million file transfer details, across 5 data-centers, on to a cloud hosted ElasticSearch"
   ]
  },
  {
   "cell_type": "markdown",
   "metadata": {
    "deletable": true,
    "editable": true
   },
   "source": [
    "### Assumptions about the data:\n",
    "\n",
    "* 5 data centers from 'a'-'e'.\n",
    "* Data center a is better i.e. more transfers originate there\n",
    "* File transfer sizes range from 1kb to 10Gb\n",
    "* 5 clusters have been made based on file sizes(0-100MB, 100MB-1Gb, 1gb-2gb, 2gb-10gb) which determine the time delay during transfer\n",
    "* All failed transfers have an automatic delay of 10 seconds\n"
   ]
  },
  {
   "cell_type": "code",
   "execution_count": 1,
   "metadata": {
    "collapsed": true,
    "deletable": true,
    "editable": true
   },
   "outputs": [],
   "source": [
    "#  Dependencies\n",
    "import requests\n",
    "from elasticsearch import Elasticsearch,helpers\n",
    "import certifi\n",
    "from datetime import datetime,timedelta\n",
    "import radar\n",
    "import numpy as np\n",
    "import uuid\n",
    "import random"
   ]
  },
  {
   "cell_type": "code",
   "execution_count": 2,
   "metadata": {
    "collapsed": true,
    "deletable": true,
    "editable": true
   },
   "outputs": [],
   "source": [
    "host_name ='https://9e2a4b7052bdf8fd2685a0f5a35ae274.ap-southeast-1.aws.found.io'"
   ]
  },
  {
   "cell_type": "code",
   "execution_count": 3,
   "metadata": {
    "collapsed": false,
    "deletable": true,
    "editable": true
   },
   "outputs": [],
   "source": [
    "# initialise elastic search with authorisation\n",
    "es = Elasticsearch(\n",
    "        [host_name],\n",
    "        port=9243,\n",
    "        http_auth=(\"gsoc\",\"vyom@gsoc\"),\n",
    "        use_ssl=True,\n",
    "        verify_certs=True,\n",
    "        ca_certs=certifi.where(),\n",
    "    )"
   ]
  },
  {
   "cell_type": "code",
   "execution_count": 4,
   "metadata": {
    "collapsed": false,
    "deletable": true,
    "editable": true
   },
   "outputs": [
    {
     "data": {
      "text/plain": [
       "200"
      ]
     },
     "execution_count": 4,
     "metadata": {},
     "output_type": "execute_result"
    }
   ],
   "source": [
    "r= requests.get(host_name, auth=('gsoc','vyom@gsoc'))\n",
    "r.status_code"
   ]
  },
  {
   "cell_type": "code",
   "execution_count": 5,
   "metadata": {
    "collapsed": true,
    "deletable": true,
    "editable": true
   },
   "outputs": [],
   "source": [
    "def generate_timestamp():\n",
    "    \n",
    "    start= '2017-01-01T00:00:00'\n",
    "    end = '2017-03-01T00:00:00'\n",
    "    timestamp= radar.random_datetime(start, end)\n",
    "    return timestamp"
   ]
  },
  {
   "cell_type": "code",
   "execution_count": 6,
   "metadata": {
    "collapsed": false,
    "deletable": true,
    "editable": true
   },
   "outputs": [
    {
     "name": "stdout",
     "output_type": "stream",
     "text": [
      "original time:2017-01-14 01:05:28 final_time:2017-01-14 01:16:51 time_delay:683\n"
     ]
    }
   ],
   "source": [
    "random.seed(1)\n",
    "def transfer_time(file_size):\n",
    "    if file_size>0 and file_size<=100000000:     # less than 100 MB\n",
    "        return random.gauss(1500, 500)\n",
    "    elif file_size<= 1000000000:                 # b/w 100MB and 1GB\n",
    "        return random.gauss(4000, 500)\n",
    "    elif file_size<= 2000000000:                 # b/w 1GB and 2GB\n",
    "        return random.gauss(6500, 500)\n",
    "    elif file_size <= 10000000000:               # b/w 2GB and 10GB\n",
    "        return random.gauss(9000, 500)\n",
    "    else :                                       # any anomalous value\n",
    "        return 100\n",
    "\n",
    "z= generate_timestamp()\n",
    "delay = int(transfer_time(10000000))\n",
    "w= z + timedelta(seconds=delay) \n",
    "print('original time:{} final_time:{} time_delay:{}'.format(z,w,delay))"
   ]
  },
  {
   "cell_type": "code",
   "execution_count": 15,
   "metadata": {
    "collapsed": false,
    "deletable": true,
    "editable": true
   },
   "outputs": [],
   "source": [
    "bulk_initial=[]\n",
    "bulk_final=[]\n",
    "\n",
    "random.seed(1)\n",
    "np.random.seed(1)\n",
    "\n",
    "for i in range(0,1000000):\n",
    "    src_centers=['data center a','data center b','data center c','data center d','data center e']\n",
    "    transfer_src = np.random.choice(src_centers, p=[0.3, 0.175, 0.175, 0.175, 0.175])\n",
    "\n",
    "    dst_centers = [x for x in src_centers if x != transfer_src]\n",
    "    transfer_dst = np.random.choice(dst_centers)\n",
    "\n",
    "    final_transfer_status = ['transfer-success','transfer-failure']\n",
    "\n",
    "    transfer_starttime = generate_timestamp()\n",
    "    file_size=random.choice(range(1024,10000000000))\n",
    "\n",
    "    ftp={\n",
    "        'event_type': 'transfer-queued',\n",
    "        'uuid': uuid.uuid4(),\n",
    "        'src_site' : transfer_src,\n",
    "        'dst_site' : transfer_dst,\n",
    "        'timestamp': transfer_starttime,\n",
    "        'bytes' : file_size\n",
    "    }\n",
    "    z={\n",
    "        '_index': 'ftp_initial',\n",
    "        '_type': 'transfer',\n",
    "        '_id': (i+1),\n",
    "        '_source': ftp\n",
    "    }\n",
    "\n",
    "    bulk_initial.append(z)\n",
    "        \n",
    "    ftp2 = ftp.copy()\n",
    "    transfer_status = ['transfer-success', 'transfer-failure']\n",
    "    final_status = np.random.choice(transfer_status, p=[0.95,0.05])\n",
    "    ftp2['event_type'] = final_status\n",
    "    \n",
    "    if (final_status=='transfer-failure'):\n",
    "        time_delay = 10\n",
    "    else :\n",
    "        time_delay = int(transfer_time(file_size))   # ranges roughly from 0-10000 s \n",
    "    \n",
    "    ftp2['timestamp'] = transfer_starttime + timedelta(seconds=time_delay)\n",
    "    z={\n",
    "        '_index': 'ft_final',\n",
    "        '_type': 'transfer',\n",
    "        '_id': (i+1),\n",
    "        '_source': ftp2\n",
    "    }\n",
    "    \n",
    "    bulk_final.append(z)"
   ]
  },
  {
   "cell_type": "code",
   "execution_count": 16,
   "metadata": {
    "collapsed": false,
    "deletable": true,
    "editable": true
   },
   "outputs": [
    {
     "data": {
      "text/plain": [
       "1000000"
      ]
     },
     "execution_count": 16,
     "metadata": {},
     "output_type": "execute_result"
    }
   ],
   "source": [
    "len(bulk_final)"
   ]
  },
  {
   "cell_type": "code",
   "execution_count": 17,
   "metadata": {
    "collapsed": false,
    "deletable": true,
    "editable": true,
    "scrolled": true
   },
   "outputs": [
    {
     "data": {
      "text/plain": [
       "1000000"
      ]
     },
     "execution_count": 17,
     "metadata": {},
     "output_type": "execute_result"
    }
   ],
   "source": [
    "len(bulk_initial)"
   ]
  },
  {
   "cell_type": "code",
   "execution_count": 18,
   "metadata": {
    "collapsed": false,
    "deletable": true,
    "editable": true
   },
   "outputs": [
    {
     "data": {
      "text/plain": [
       "(1000000, [])"
      ]
     },
     "execution_count": 18,
     "metadata": {},
     "output_type": "execute_result"
    }
   ],
   "source": [
    "helpers.bulk(es,bulk_initial)"
   ]
  },
  {
   "cell_type": "code",
   "execution_count": 19,
   "metadata": {
    "collapsed": false,
    "deletable": true,
    "editable": true
   },
   "outputs": [
    {
     "data": {
      "text/plain": [
       "(1000000, [])"
      ]
     },
     "execution_count": 19,
     "metadata": {},
     "output_type": "execute_result"
    }
   ],
   "source": [
    "helpers.bulk(es,bulk_final)"
   ]
  },
  {
   "cell_type": "code",
   "execution_count": 20,
   "metadata": {
    "collapsed": false,
    "deletable": true,
    "editable": true,
    "scrolled": true
   },
   "outputs": [
    {
     "data": {
      "text/plain": [
       "{'_shards': {'failed': 0, 'successful': 1, 'total': 1},\n",
       " 'hits': {'hits': [{'_id': '2501',\n",
       "    '_index': 'ft_final',\n",
       "    '_score': 1.0,\n",
       "    '_source': {'bytes': 4518277978,\n",
       "     'dst_site': 'data center d',\n",
       "     'event_type': 'transfer-success',\n",
       "     'src_site': 'data center b',\n",
       "     'timestamp': '2017-01-30T23:54:55',\n",
       "     'uuid': '34abc5bf-a7ef-40c9-b29a-f5b665f9dc04'},\n",
       "    '_type': 'transfer'},\n",
       "   {'_id': '2502',\n",
       "    '_index': 'ft_final',\n",
       "    '_score': 1.0,\n",
       "    '_source': {'bytes': 1398247840,\n",
       "     'dst_site': 'data center d',\n",
       "     'event_type': 'transfer-success',\n",
       "     'src_site': 'data center a',\n",
       "     'timestamp': '2017-02-13T09:21:39',\n",
       "     'uuid': 'e9d349e7-032c-4adf-beb6-35d9570cb79a'},\n",
       "    '_type': 'transfer'},\n",
       "   {'_id': '2503',\n",
       "    '_index': 'ft_final',\n",
       "    '_score': 1.0,\n",
       "    '_source': {'bytes': 8745659753,\n",
       "     'dst_site': 'data center d',\n",
       "     'event_type': 'transfer-success',\n",
       "     'src_site': 'data center c',\n",
       "     'timestamp': '2017-02-14T09:49:00',\n",
       "     'uuid': '7dc8a5e4-2998-4d8d-ba91-631ec7a8c811'},\n",
       "    '_type': 'transfer'},\n",
       "   {'_id': '2504',\n",
       "    '_index': 'ft_final',\n",
       "    '_score': 1.0,\n",
       "    '_source': {'bytes': 1732771812,\n",
       "     'dst_site': 'data center e',\n",
       "     'event_type': 'transfer-success',\n",
       "     'src_site': 'data center a',\n",
       "     'timestamp': '2017-01-06T10:00:41',\n",
       "     'uuid': '437579fe-ecf0-4ea7-bcd0-97aebfe507df'},\n",
       "    '_type': 'transfer'},\n",
       "   {'_id': '2505',\n",
       "    '_index': 'ft_final',\n",
       "    '_score': 1.0,\n",
       "    '_source': {'bytes': 9013969670,\n",
       "     'dst_site': 'data center b',\n",
       "     'event_type': 'transfer-success',\n",
       "     'src_site': 'data center d',\n",
       "     'timestamp': '2017-02-11T02:05:39',\n",
       "     'uuid': 'f2b10acd-90aa-41cd-89fb-a930e35f60e3'},\n",
       "    '_type': 'transfer'},\n",
       "   {'_id': '2506',\n",
       "    '_index': 'ft_final',\n",
       "    '_score': 1.0,\n",
       "    '_source': {'bytes': 4916457343,\n",
       "     'dst_site': 'data center d',\n",
       "     'event_type': 'transfer-success',\n",
       "     'src_site': 'data center c',\n",
       "     'timestamp': '2017-01-10T23:32:36',\n",
       "     'uuid': '0fa0e989-e4ce-40d9-b5a3-6a4ecf67a088'},\n",
       "    '_type': 'transfer'},\n",
       "   {'_id': '2507',\n",
       "    '_index': 'ft_final',\n",
       "    '_score': 1.0,\n",
       "    '_source': {'bytes': 8522026888,\n",
       "     'dst_site': 'data center d',\n",
       "     'event_type': 'transfer-success',\n",
       "     'src_site': 'data center a',\n",
       "     'timestamp': '2017-02-07T06:56:14',\n",
       "     'uuid': '06a7448e-920d-460b-bcec-a9388c952cbb'},\n",
       "    '_type': 'transfer'},\n",
       "   {'_id': '2508',\n",
       "    '_index': 'ft_final',\n",
       "    '_score': 1.0,\n",
       "    '_source': {'bytes': 6641797475,\n",
       "     'dst_site': 'data center a',\n",
       "     'event_type': 'transfer-success',\n",
       "     'src_site': 'data center d',\n",
       "     'timestamp': '2017-02-27T04:50:32',\n",
       "     'uuid': 'eff6f79e-5c64-4bf9-aee3-be8b327398bc'},\n",
       "    '_type': 'transfer'},\n",
       "   {'_id': '2509',\n",
       "    '_index': 'ft_final',\n",
       "    '_score': 1.0,\n",
       "    '_source': {'bytes': 711466322,\n",
       "     'dst_site': 'data center b',\n",
       "     'event_type': 'transfer-success',\n",
       "     'src_site': 'data center c',\n",
       "     'timestamp': '2017-02-10T04:10:16',\n",
       "     'uuid': '6c11a6ad-1038-4679-9476-96426a7fdce8'},\n",
       "    '_type': 'transfer'},\n",
       "   {'_id': '2510',\n",
       "    '_index': 'ft_final',\n",
       "    '_score': 1.0,\n",
       "    '_source': {'bytes': 523666351,\n",
       "     'dst_site': 'data center c',\n",
       "     'event_type': 'transfer-success',\n",
       "     'src_site': 'data center d',\n",
       "     'timestamp': '2017-01-22T06:50:24',\n",
       "     'uuid': 'c6a455c9-e736-4210-aa14-2b123c8c4673'},\n",
       "    '_type': 'transfer'}],\n",
       "  'max_score': 1.0,\n",
       "  'total': 1000000},\n",
       " 'timed_out': False,\n",
       " 'took': 4}"
      ]
     },
     "execution_count": 20,
     "metadata": {},
     "output_type": "execute_result"
    }
   ],
   "source": [
    "es.search(index='ft_final')"
   ]
  },
  {
   "cell_type": "code",
   "execution_count": 21,
   "metadata": {
    "collapsed": false,
    "deletable": true,
    "editable": true
   },
   "outputs": [
    {
     "data": {
      "text/plain": [
       "{'_shards': {'failed': 0, 'successful': 1, 'total': 1},\n",
       " 'hits': {'hits': [{'_id': '2501',\n",
       "    '_index': 'ftp_initial',\n",
       "    '_score': 1.0,\n",
       "    '_source': {'bytes': 4518277978,\n",
       "     'dst_site': 'data center d',\n",
       "     'event_type': 'transfer-success',\n",
       "     'src_site': 'data center b',\n",
       "     'timestamp': '2017-01-30T23:54:55',\n",
       "     'uuid': '34abc5bf-a7ef-40c9-b29a-f5b665f9dc04'},\n",
       "    '_type': 'transfer'},\n",
       "   {'_id': '2502',\n",
       "    '_index': 'ftp_initial',\n",
       "    '_score': 1.0,\n",
       "    '_source': {'bytes': 1398247840,\n",
       "     'dst_site': 'data center d',\n",
       "     'event_type': 'transfer-success',\n",
       "     'src_site': 'data center a',\n",
       "     'timestamp': '2017-02-13T09:21:39',\n",
       "     'uuid': 'e9d349e7-032c-4adf-beb6-35d9570cb79a'},\n",
       "    '_type': 'transfer'},\n",
       "   {'_id': '2503',\n",
       "    '_index': 'ftp_initial',\n",
       "    '_score': 1.0,\n",
       "    '_source': {'bytes': 8745659753,\n",
       "     'dst_site': 'data center d',\n",
       "     'event_type': 'transfer-success',\n",
       "     'src_site': 'data center c',\n",
       "     'timestamp': '2017-02-14T09:49:00',\n",
       "     'uuid': '7dc8a5e4-2998-4d8d-ba91-631ec7a8c811'},\n",
       "    '_type': 'transfer'},\n",
       "   {'_id': '2504',\n",
       "    '_index': 'ftp_initial',\n",
       "    '_score': 1.0,\n",
       "    '_source': {'bytes': 1732771812,\n",
       "     'dst_site': 'data center e',\n",
       "     'event_type': 'transfer-success',\n",
       "     'src_site': 'data center a',\n",
       "     'timestamp': '2017-01-06T10:00:41',\n",
       "     'uuid': '437579fe-ecf0-4ea7-bcd0-97aebfe507df'},\n",
       "    '_type': 'transfer'},\n",
       "   {'_id': '2505',\n",
       "    '_index': 'ftp_initial',\n",
       "    '_score': 1.0,\n",
       "    '_source': {'bytes': 9013969670,\n",
       "     'dst_site': 'data center b',\n",
       "     'event_type': 'transfer-success',\n",
       "     'src_site': 'data center d',\n",
       "     'timestamp': '2017-02-11T02:05:39',\n",
       "     'uuid': 'f2b10acd-90aa-41cd-89fb-a930e35f60e3'},\n",
       "    '_type': 'transfer'},\n",
       "   {'_id': '2506',\n",
       "    '_index': 'ftp_initial',\n",
       "    '_score': 1.0,\n",
       "    '_source': {'bytes': 4916457343,\n",
       "     'dst_site': 'data center d',\n",
       "     'event_type': 'transfer-success',\n",
       "     'src_site': 'data center c',\n",
       "     'timestamp': '2017-01-10T23:32:36',\n",
       "     'uuid': '0fa0e989-e4ce-40d9-b5a3-6a4ecf67a088'},\n",
       "    '_type': 'transfer'},\n",
       "   {'_id': '2507',\n",
       "    '_index': 'ftp_initial',\n",
       "    '_score': 1.0,\n",
       "    '_source': {'bytes': 8522026888,\n",
       "     'dst_site': 'data center d',\n",
       "     'event_type': 'transfer-success',\n",
       "     'src_site': 'data center a',\n",
       "     'timestamp': '2017-02-07T06:56:14',\n",
       "     'uuid': '06a7448e-920d-460b-bcec-a9388c952cbb'},\n",
       "    '_type': 'transfer'},\n",
       "   {'_id': '2508',\n",
       "    '_index': 'ftp_initial',\n",
       "    '_score': 1.0,\n",
       "    '_source': {'bytes': 6641797475,\n",
       "     'dst_site': 'data center a',\n",
       "     'event_type': 'transfer-success',\n",
       "     'src_site': 'data center d',\n",
       "     'timestamp': '2017-02-27T04:50:32',\n",
       "     'uuid': 'eff6f79e-5c64-4bf9-aee3-be8b327398bc'},\n",
       "    '_type': 'transfer'},\n",
       "   {'_id': '2509',\n",
       "    '_index': 'ftp_initial',\n",
       "    '_score': 1.0,\n",
       "    '_source': {'bytes': 711466322,\n",
       "     'dst_site': 'data center b',\n",
       "     'event_type': 'transfer-success',\n",
       "     'src_site': 'data center c',\n",
       "     'timestamp': '2017-02-10T04:10:16',\n",
       "     'uuid': '6c11a6ad-1038-4679-9476-96426a7fdce8'},\n",
       "    '_type': 'transfer'},\n",
       "   {'_id': '2510',\n",
       "    '_index': 'ftp_initial',\n",
       "    '_score': 1.0,\n",
       "    '_source': {'bytes': 523666351,\n",
       "     'dst_site': 'data center c',\n",
       "     'event_type': 'transfer-success',\n",
       "     'src_site': 'data center d',\n",
       "     'timestamp': '2017-01-22T06:50:24',\n",
       "     'uuid': 'c6a455c9-e736-4210-aa14-2b123c8c4673'},\n",
       "    '_type': 'transfer'}],\n",
       "  'max_score': 1.0,\n",
       "  'total': 1000000},\n",
       " 'timed_out': False,\n",
       " 'took': 4}"
      ]
     },
     "execution_count": 21,
     "metadata": {},
     "output_type": "execute_result"
    }
   ],
   "source": [
    "es.search(index='ftp_initial')"
   ]
  },
  {
   "cell_type": "code",
   "execution_count": 14,
   "metadata": {
    "collapsed": false,
    "deletable": true,
    "editable": true
   },
   "outputs": [
    {
     "data": {
      "text/plain": [
       "{'acknowledged': True}"
      ]
     },
     "execution_count": 14,
     "metadata": {},
     "output_type": "execute_result"
    }
   ],
   "source": [
    "# es.indices.delete(index=['ftp_initial','ft_final'])"
   ]
  },
  {
   "cell_type": "code",
   "execution_count": null,
   "metadata": {
    "collapsed": true,
    "deletable": true,
    "editable": true
   },
   "outputs": [],
   "source": []
  }
 ],
 "metadata": {
  "kernelspec": {
   "display_name": "Python 3",
   "language": "python",
   "name": "python3"
  },
  "language_info": {
   "codemirror_mode": {
    "name": "ipython",
    "version": 3
   },
   "file_extension": ".py",
   "mimetype": "text/x-python",
   "name": "python",
   "nbconvert_exporter": "python",
   "pygments_lexer": "ipython3",
   "version": "3.5.3"
  }
 },
 "nbformat": 4,
 "nbformat_minor": 2
}
