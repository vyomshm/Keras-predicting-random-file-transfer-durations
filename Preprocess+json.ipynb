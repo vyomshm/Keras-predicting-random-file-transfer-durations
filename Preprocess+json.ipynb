{
 "cells": [
  {
   "cell_type": "code",
   "execution_count": 1,
   "metadata": {
    "collapsed": true,
    "deletable": true,
    "editable": true
   },
   "outputs": [],
   "source": [
    "#  Dependencies\n",
    "import pandas as pd\n",
    "import numpy as np\n",
    "import requests\n",
    "from elasticsearch import Elasticsearch,helpers\n",
    "import certifi\n",
    "from datetime import datetime,timedelta\n",
    "import radar\n",
    "import numpy as np\n",
    "import uuid\n",
    "import random\n",
    "import seaborn as sns\n",
    "import matplotlib.pyplot as plt"
   ]
  },
  {
   "cell_type": "markdown",
   "metadata": {
    "deletable": true,
    "editable": true
   },
   "source": [
    "# Initializing Elasticsearch"
   ]
  },
  {
   "cell_type": "code",
   "execution_count": 2,
   "metadata": {
    "collapsed": false,
    "deletable": true,
    "editable": true
   },
   "outputs": [],
   "source": [
    "\n",
    "host_name ='https://9e2a4b7052bdf8fd2685a0f5a35ae274.ap-southeast-1.aws.found.io'"
   ]
  },
  {
   "cell_type": "code",
   "execution_count": 3,
   "metadata": {
    "collapsed": true,
    "deletable": true,
    "editable": true
   },
   "outputs": [],
   "source": [
    "# initialise elastic search with authorisation\n",
    "es = Elasticsearch(\n",
    "        [host_name],\n",
    "        port=9243,\n",
    "        http_auth=(\"gsoc\",\"vyom@gsoc\"),\n",
    "        use_ssl=True,\n",
    "        verify_certs=True,\n",
    "        ca_certs=certifi.where(),\n",
    "    )"
   ]
  },
  {
   "cell_type": "code",
   "execution_count": 4,
   "metadata": {
    "collapsed": false,
    "deletable": true,
    "editable": true
   },
   "outputs": [
    {
     "data": {
      "text/plain": [
       "True"
      ]
     },
     "execution_count": 4,
     "metadata": {},
     "output_type": "execute_result"
    }
   ],
   "source": [
    "es.ping()"
   ]
  },
  {
   "cell_type": "code",
   "execution_count": 5,
   "metadata": {
    "collapsed": false,
    "deletable": true,
    "editable": true
   },
   "outputs": [
    {
     "name": "stdout",
     "output_type": "stream",
     "text": [
      "Everthing is working fine. Status code is 200\n"
     ]
    }
   ],
   "source": [
    "r= requests.get(host_name, auth=('gsoc','vyom@gsoc'))\n",
    "if r.status_code ==200:\n",
    "    print('Everthing is working fine. Status code is {}'.format(r.status_code))\n",
    "else:\n",
    "    print('Something went wrong , get status is {}'.format(r.status_code))"
   ]
  },
  {
   "cell_type": "code",
   "execution_count": 6,
   "metadata": {
    "collapsed": false,
    "deletable": true,
    "editable": true
   },
   "outputs": [
    {
     "data": {
      "text/plain": [
       "{'cluster_name': '9e2a4b7052bdf8fd2685a0f5a35ae274',\n",
       " 'name': 'instance-0000000000',\n",
       " 'status': 200,\n",
       " 'tagline': 'You Know, for Search',\n",
       " 'version': {'build_hash': 'c730b59357f8ebc555286794dcd90b3411f517c9',\n",
       "  'build_snapshot': False,\n",
       "  'build_timestamp': '2016-11-18T15:21:16Z',\n",
       "  'lucene_version': '4.10.4',\n",
       "  'number': '1.7.6'}}"
      ]
     },
     "execution_count": 6,
     "metadata": {},
     "output_type": "execute_result"
    }
   ],
   "source": [
    "es.info()"
   ]
  },
  {
   "cell_type": "code",
   "execution_count": 7,
   "metadata": {
    "collapsed": false,
    "deletable": true,
    "editable": true
   },
   "outputs": [
    {
     "data": {
      "text/plain": [
       "{'bytes': 4566010065,\n",
       " 'dst_site': 'data center a',\n",
       " 'event_type': 'transfer-queued',\n",
       " 'src_site': 'data center b',\n",
       " 'timestamp': '2017-01-14T01:05:28',\n",
       " 'uuid': '3b416acc-af8b-44f9-af2a-e98f33cb52fa'}"
      ]
     },
     "execution_count": 7,
     "metadata": {},
     "output_type": "execute_result"
    }
   ],
   "source": [
    "es.get_source(index='ft_initial', id=1, doc_type='transfer')"
   ]
  },
  {
   "cell_type": "code",
   "execution_count": 8,
   "metadata": {
    "collapsed": false,
    "deletable": true,
    "editable": true
   },
   "outputs": [
    {
     "data": {
      "text/plain": [
       "{'bytes': 4566010065,\n",
       " 'dst_site': 'data center a',\n",
       " 'event_type': 'transfer-success',\n",
       " 'src_site': 'data center b',\n",
       " 'timestamp': '2017-01-14T03:45:52',\n",
       " 'uuid': '3b416acc-af8b-44f9-af2a-e98f33cb52fa'}"
      ]
     },
     "execution_count": 8,
     "metadata": {},
     "output_type": "execute_result"
    }
   ],
   "source": [
    "es.get_source(index='ft_final', id=1, doc_type='transfer')"
   ]
  },
  {
   "cell_type": "markdown",
   "metadata": {
    "deletable": true,
    "editable": true
   },
   "source": [
    "# Exploring Cluster Data"
   ]
  },
  {
   "cell_type": "code",
   "execution_count": 9,
   "metadata": {
    "collapsed": false,
    "deletable": true,
    "editable": true
   },
   "outputs": [],
   "source": [
    "# query={\"query\": {\"match_all\": {}}}\n",
    "query={\"query\": {\"match\": {'src_site' : 'data center b'}}}"
   ]
  },
  {
   "cell_type": "code",
   "execution_count": 10,
   "metadata": {
    "collapsed": false,
    "deletable": true,
    "editable": true
   },
   "outputs": [
    {
     "data": {
      "text/plain": [
       "{'_shards': {'failed': 0, 'successful': 1, 'total': 1},\n",
       " 'hits': {'hits': [{'_id': '10016',\n",
       "    '_index': 'ft_initial',\n",
       "    '_score': 1.5428205,\n",
       "    '_source': {'bytes': 5705969060,\n",
       "     'dst_site': 'data center d',\n",
       "     'event_type': 'transfer-queued',\n",
       "     'src_site': 'data center b',\n",
       "     'timestamp': '2017-02-03T19:28:52',\n",
       "     'uuid': '3d07d3ea-a655-4d17-8730-4646a89d513b'},\n",
       "    '_type': 'transfer'},\n",
       "   {'_id': '10018',\n",
       "    '_index': 'ft_initial',\n",
       "    '_score': 1.5428205,\n",
       "    '_source': {'bytes': 7245765330,\n",
       "     'dst_site': 'data center d',\n",
       "     'event_type': 'transfer-queued',\n",
       "     'src_site': 'data center b',\n",
       "     'timestamp': '2017-01-06T15:27:45',\n",
       "     'uuid': 'e88fc723-d435-420c-988d-52a2e6c3dbf4'},\n",
       "    '_type': 'transfer'},\n",
       "   {'_id': '10020',\n",
       "    '_index': 'ft_initial',\n",
       "    '_score': 1.5428205,\n",
       "    '_source': {'bytes': 9985157536,\n",
       "     'dst_site': 'data center a',\n",
       "     'event_type': 'transfer-queued',\n",
       "     'src_site': 'data center b',\n",
       "     'timestamp': '2017-02-26T11:29:54',\n",
       "     'uuid': '8109ef7b-4173-4097-ba8b-6e8a824753c9'},\n",
       "    '_type': 'transfer'},\n",
       "   {'_id': '10026',\n",
       "    '_index': 'ft_initial',\n",
       "    '_score': 1.5428205,\n",
       "    '_source': {'bytes': 7566225187,\n",
       "     'dst_site': 'data center e',\n",
       "     'event_type': 'transfer-queued',\n",
       "     'src_site': 'data center b',\n",
       "     'timestamp': '2017-01-25T13:19:16',\n",
       "     'uuid': '519c6a91-efbd-4431-b291-22da786b6cf6'},\n",
       "    '_type': 'transfer'},\n",
       "   {'_id': '10030',\n",
       "    '_index': 'ft_initial',\n",
       "    '_score': 1.5428205,\n",
       "    '_source': {'bytes': 7396815913,\n",
       "     'dst_site': 'data center a',\n",
       "     'event_type': 'transfer-queued',\n",
       "     'src_site': 'data center b',\n",
       "     'timestamp': '2017-02-11T23:52:52',\n",
       "     'uuid': 'c2dc9eca-10ae-4256-9ad4-d5eff6c2d10f'},\n",
       "    '_type': 'transfer'}],\n",
       "  'max_score': 1.5428205,\n",
       "  'total': 1000000},\n",
       " 'timed_out': False,\n",
       " 'took': 126}"
      ]
     },
     "execution_count": 10,
     "metadata": {},
     "output_type": "execute_result"
    }
   ],
   "source": [
    "es.search(index='ft_initial', doc_type='transfer', body=query, size=5)"
   ]
  },
  {
   "cell_type": "markdown",
   "metadata": {
    "deletable": true,
    "editable": true
   },
   "source": [
    "# Retrieving a portion of data using iterative scanning\n"
   ]
  },
  {
   "cell_type": "code",
   "execution_count": 11,
   "metadata": {
    "collapsed": true,
    "deletable": true,
    "editable": true
   },
   "outputs": [],
   "source": [
    "query={\"query\": {\"match_all\": {}}}\n",
    "sns.set_context('poster')"
   ]
  },
  {
   "cell_type": "code",
   "execution_count": 12,
   "metadata": {
    "collapsed": false,
    "deletable": true,
    "editable": true
   },
   "outputs": [],
   "source": [
    "# implementing scan and scroll\n",
    "def center_plots(scan_size, scan_step):\n",
    "    \n",
    "    # Initialize the scroll\n",
    "    page = es.search(\n",
    "    index = 'ft_final',\n",
    "    doc_type = 'transfer',\n",
    "    scroll = '20m',\n",
    "    search_type = 'scan',\n",
    "    size = scan_step,\n",
    "    body = query\n",
    "    )\n",
    "    sid = page['_scroll_id']\n",
    "    scroll_size = page['hits']['total']\n",
    "    results=[]\n",
    "    steps = int(scan_size / scan_step)\n",
    "\n",
    "    # Start scrolling\n",
    "\n",
    "    for i in range(steps):\n",
    "        print(\"Scrolling ft_final ...\")\n",
    "        page = es.scroll(scroll_id = sid, scroll = '20m')\n",
    "        # Update the scroll ID\n",
    "        sid = page['_scroll_id']\n",
    "        # Get the number of results that we returned in the last scroll\n",
    "        scroll_size = len(page['hits']['hits'])\n",
    "        print(\"scroll size: \" + str(scroll_size))\n",
    "        for hit in page['hits']['hits']:\n",
    "            results.append(hit['_source'])\n",
    "        \n",
    "    results = pd.DataFrame(results)\n",
    "    num_rows= results.shape[0]\n",
    "#     plt.figure(figsize=(12,8))\n",
    "    print('plotting basic data info.....\\n')\n",
    "    ax = sns.countplot(x='src_site',data= results)\n",
    "    plt.show()\n",
    "    gx= sns.countplot(x='dst_site', data = results)\n",
    "    plt.show()\n",
    "    vx = sns.countplot(x='event_type', data = results)\n",
    "    plt.show()\n",
    "    \n",
    "    return results  "
   ]
  },
  {
   "cell_type": "code",
   "execution_count": 13,
   "metadata": {
    "collapsed": false,
    "deletable": true,
    "editable": true,
    "scrolled": false
   },
   "outputs": [
    {
     "name": "stdout",
     "output_type": "stream",
     "text": [
      "Scrolling ft_final ...\n",
      "scroll size: 100\n",
      "Scrolling ft_final ...\n",
      "scroll size: 100\n",
      "Scrolling ft_final ...\n",
      "scroll size: 100\n",
      "Scrolling ft_final ...\n",
      "scroll size: 100\n",
      "Scrolling ft_final ...\n",
      "scroll size: 100\n",
      "Scrolling ft_final ...\n",
      "scroll size: 100\n",
      "Scrolling ft_final ...\n",
      "scroll size: 100\n",
      "Scrolling ft_final ...\n",
      "scroll size: 100\n",
      "Scrolling ft_final ...\n",
      "scroll size: 100\n",
      "Scrolling ft_final ...\n",
      "scroll size: 100\n",
      "plotting basic data info.....\n",
      "\n"
     ]
    },
    {
     "name": "stderr",
     "output_type": "stream",
     "text": [
      "/home/carnd/anaconda3/envs/dl/lib/python3.5/site-packages/matplotlib/font_manager.py:1297: UserWarning: findfont: Font family ['sans-serif'] not found. Falling back to DejaVu Sans\n",
      "  (prop.get_family(), self.defaultFamily[fontext]))\n"
     ]
    },
    {
     "data": {
      "image/png": "[encoded data removed]",
      "text/plain": [
       "<matplotlib.figure.Figure at 0x7f33dbb88e10>"
      ]
     },
     "metadata": {},
     "output_type": "display_data"
    },
    {
     "data": {
      "image/png": "[encoded data removed]",
      "text/plain": [
       "<matplotlib.figure.Figure at 0x7f33d7dbbfd0>"
      ]
     },
     "metadata": {},
     "output_type": "display_data"
    },
    {
     "data": {
      "image/png": "[encoded data removed]",
      "text/plain": [
       "<matplotlib.figure.Figure at 0x7f33d7bdd860>"
      ]
     },
     "metadata": {},
     "output_type": "display_data"
    }
   ],
   "source": [
    "data_slice = center_plots(scan_size= 1000, scan_step=100)"
   ]
  },
  {
   "cell_type": "code",
   "execution_count": 14,
   "metadata": {
    "collapsed": false,
    "deletable": true,
    "editable": true
   },
   "outputs": [
    {
     "data": {
      "text/plain": [
       "(1000, 6)"
      ]
     },
     "execution_count": 14,
     "metadata": {},
     "output_type": "execute_result"
    }
   ],
   "source": [
    "data_slice.shape"
   ]
  },
  {
   "cell_type": "code",
   "execution_count": 15,
   "metadata": {
    "collapsed": false,
    "deletable": true,
    "editable": true,
    "scrolled": false
   },
   "outputs": [
    {
     "name": "stderr",
     "output_type": "stream",
     "text": [
      "/home/carnd/anaconda3/envs/dl/lib/python3.5/site-packages/matplotlib/font_manager.py:1297: UserWarning: findfont: Font family ['sans-serif'] not found. Falling back to DejaVu Sans\n",
      "  (prop.get_family(), self.defaultFamily[fontext]))\n"
     ]
    },
    {
     "data": {
      "image/png": "[encoded data removed]",
      "text/plain": [
       "<matplotlib.figure.Figure at 0x7f33dbbc4f28>"
      ]
     },
     "metadata": {},
     "output_type": "display_data"
    }
   ],
   "source": [
    "sns.stripplot(y=\"src_site\", x=\"bytes\",hue='event_type', data=data_slice, jitter=True)\n",
    "plt.show()"
   ]
  },
  {
   "cell_type": "code",
   "execution_count": 16,
   "metadata": {
    "collapsed": false,
    "deletable": true,
    "editable": true
   },
   "outputs": [
    {
     "name": "stderr",
     "output_type": "stream",
     "text": [
      "/home/carnd/anaconda3/envs/dl/lib/python3.5/site-packages/matplotlib/font_manager.py:1297: UserWarning: findfont: Font family ['sans-serif'] not found. Falling back to DejaVu Sans\n",
      "  (prop.get_family(), self.defaultFamily[fontext]))\n"
     ]
    },
    {
     "data": {
      "image/png": "[encoded data removed]",
      "text/plain": [
       "<matplotlib.figure.Figure at 0x7f33d7f63c18>"
      ]
     },
     "metadata": {},
     "output_type": "display_data"
    },
    {
     "data": {
      "image/png": "[encoded data removed]",
      "text/plain": [
       "<matplotlib.figure.Figure at 0x7f33d7f5dbe0>"
      ]
     },
     "metadata": {},
     "output_type": "display_data"
    }
   ],
   "source": [
    "sns.barplot(x=\"src_site\", y=\"bytes\",hue='event_type', data=data_slice)\n",
    "plt.show()\n",
    "\n",
    "sns.barplot(x=\"dst_site\", y=\"bytes\",hue='event_type', data=data_slice)\n",
    "plt.show()"
   ]
  },
  {
   "cell_type": "code",
   "execution_count": 17,
   "metadata": {
    "collapsed": false,
    "deletable": true,
    "editable": true
   },
   "outputs": [],
   "source": [
    "# r=helpers.scan(es, query=query, scroll=u'5m', raise_on_error=True, preserve_order=False, size=1000, request_timeout=None, clear_scroll=True)"
   ]
  },
  {
   "cell_type": "markdown",
   "metadata": {
    "deletable": true,
    "editable": true
   },
   "source": [
    "# Getting all data for the machine learning model"
   ]
  },
  {
   "cell_type": "code",
   "execution_count": 18,
   "metadata": {
    "collapsed": true,
    "deletable": true,
    "editable": true
   },
   "outputs": [],
   "source": [
    "query={\"query\": {\"match_all\": {}}}"
   ]
  },
  {
   "cell_type": "code",
   "execution_count": 19,
   "metadata": {
    "collapsed": false,
    "deletable": true,
    "editable": true
   },
   "outputs": [
    {
     "name": "stdout",
     "output_type": "stream",
     "text": [
      "Scrolling ft_final index....\n",
      "scroll size: 100000\n",
      "page type: <class 'dict'>\n",
      "<class 'list'>\n",
      "100000\n",
      "Scrolling ft_final index....\n",
      "scroll size: 100000\n",
      "page type: <class 'dict'>\n",
      "<class 'list'>\n",
      "100000\n",
      "Scrolling ft_final index....\n",
      "scroll size: 100000\n",
      "page type: <class 'dict'>\n",
      "<class 'list'>\n",
      "100000\n",
      "Scrolling ft_final index....\n",
      "scroll size: 100000\n",
      "page type: <class 'dict'>\n",
      "<class 'list'>\n",
      "100000\n",
      "Scrolling ft_final index....\n",
      "scroll size: 100000\n",
      "page type: <class 'dict'>\n",
      "<class 'list'>\n",
      "100000\n",
      "Scrolling ft_final index....\n",
      "scroll size: 100000\n",
      "page type: <class 'dict'>\n",
      "<class 'list'>\n",
      "100000\n",
      "Scrolling ft_final index....\n",
      "scroll size: 100000\n",
      "page type: <class 'dict'>\n",
      "<class 'list'>\n",
      "100000\n",
      "Scrolling ft_final index....\n",
      "scroll size: 100000\n",
      "page type: <class 'dict'>\n",
      "<class 'list'>\n",
      "100000\n",
      "Scrolling ft_final index....\n",
      "scroll size: 100000\n",
      "page type: <class 'dict'>\n",
      "<class 'list'>\n",
      "100000\n",
      "Scrolling ft_final index....\n",
      "scroll size: 100000\n",
      "page type: <class 'dict'>\n",
      "<class 'list'>\n",
      "100000\n",
      "Scrolling ft_final index....\n",
      "scroll size: 0\n",
      "page type: <class 'dict'>\n",
      "<class 'list'>\n",
      "0\n"
     ]
    }
   ],
   "source": [
    "# Initialize the scroll\n",
    "page = es.search(\n",
    "index = 'ft_final',\n",
    "doc_type = 'transfer',\n",
    "scroll = '10m',\n",
    "search_type = 'scan',\n",
    "size = 100000,\n",
    "body = query\n",
    ")\n",
    "\n",
    "sid = page['_scroll_id']\n",
    "scroll_size = page['hits']['total']\n",
    "\n",
    "i=0\n",
    "# Start scrolling\n",
    "\n",
    "list1=[]\n",
    "while (scroll_size > 0):\n",
    "# while i<1:\n",
    "    print(\"Scrolling ft_final index....\")\n",
    "    page = es.scroll(scroll_id = sid, scroll = '10m')\n",
    "    # Update the scroll ID\n",
    "    sid = page['_scroll_id']\n",
    "    # Get the number of results that we returned in the last scroll\n",
    "    scroll_size = len(page['hits']['hits'])\n",
    "    print(\"scroll size: \" + str(scroll_size))\n",
    "    print('page type:',type(page))\n",
    "    print(type(page['hits']['hits']))\n",
    "    print(len(page['hits']['hits']))\n",
    "    for hit in page['hits']['hits']:\n",
    "#         print(hit['_source'])\n",
    "#       print(type(hit['_source']))\n",
    "        list1.append(hit['_source'])\n",
    "#         print(\"dict appended to list\")\n",
    "    \n",
    "#     i=i+1"
   ]
  },
  {
   "cell_type": "code",
   "execution_count": 20,
   "metadata": {
    "collapsed": false,
    "deletable": true,
    "editable": true
   },
   "outputs": [
    {
     "data": {
      "text/plain": [
       "1000000"
      ]
     },
     "execution_count": 20,
     "metadata": {},
     "output_type": "execute_result"
    }
   ],
   "source": [
    "len(list1)"
   ]
  },
  {
   "cell_type": "code",
   "execution_count": 21,
   "metadata": {
    "collapsed": true,
    "deletable": true,
    "editable": true
   },
   "outputs": [],
   "source": [
    "df1= pd.DataFrame(list1)"
   ]
  },
  {
   "cell_type": "code",
   "execution_count": 22,
   "metadata": {
    "collapsed": false,
    "deletable": true,
    "editable": true
   },
   "outputs": [
    {
     "data": {
      "text/html": [
       "<div>\n",
       "<table border=\"1\" class=\"dataframe\">\n",
       "  <thead>\n",
       "    <tr style=\"text-align: right;\">\n",
       "      <th></th>\n",
       "      <th>bytes</th>\n",
       "      <th>dst_site</th>\n",
       "      <th>event_type</th>\n",
       "      <th>src_site</th>\n",
       "      <th>timestamp</th>\n",
       "      <th>uuid</th>\n",
       "    </tr>\n",
       "  </thead>\n",
       "  <tbody>\n",
       "    <tr>\n",
       "      <th>0</th>\n",
       "      <td>8940116437</td>\n",
       "      <td>data center e</td>\n",
       "      <td>transfer-success</td>\n",
       "      <td>data center c</td>\n",
       "      <td>2017-02-26T08:59:53</td>\n",
       "      <td>ebbf565d-7e70-4677-9f07-b08d72051ddb</td>\n",
       "    </tr>\n",
       "    <tr>\n",
       "      <th>1</th>\n",
       "      <td>1288661369</td>\n",
       "      <td>data center c</td>\n",
       "      <td>transfer-success</td>\n",
       "      <td>data center b</td>\n",
       "      <td>2017-02-03T09:14:05</td>\n",
       "      <td>3ba82468-6516-4d6f-883c-1ac1108c3d89</td>\n",
       "    </tr>\n",
       "    <tr>\n",
       "      <th>2</th>\n",
       "      <td>4230378729</td>\n",
       "      <td>data center d</td>\n",
       "      <td>transfer-success</td>\n",
       "      <td>data center b</td>\n",
       "      <td>2017-01-21T01:26:39</td>\n",
       "      <td>22b1ff08-a2ec-427e-b53b-fea91787e7b5</td>\n",
       "    </tr>\n",
       "    <tr>\n",
       "      <th>3</th>\n",
       "      <td>8116545364</td>\n",
       "      <td>data center a</td>\n",
       "      <td>transfer-success</td>\n",
       "      <td>data center d</td>\n",
       "      <td>2017-02-08T05:53:03</td>\n",
       "      <td>713aabb7-0cfd-4b3e-a1ad-9de5fbb6ac50</td>\n",
       "    </tr>\n",
       "    <tr>\n",
       "      <th>4</th>\n",
       "      <td>5182557683</td>\n",
       "      <td>data center e</td>\n",
       "      <td>transfer-success</td>\n",
       "      <td>data center a</td>\n",
       "      <td>2017-01-23T12:50:15</td>\n",
       "      <td>3395b5c9-fee0-4dbd-ac0b-5e2ffc59d4b3</td>\n",
       "    </tr>\n",
       "  </tbody>\n",
       "</table>\n",
       "</div>"
      ],
      "text/plain": [
       "        bytes       dst_site        event_type       src_site  \\\n",
       "0  8940116437  data center e  transfer-success  data center c   \n",
       "1  1288661369  data center c  transfer-success  data center b   \n",
       "2  4230378729  data center d  transfer-success  data center b   \n",
       "3  8116545364  data center a  transfer-success  data center d   \n",
       "4  5182557683  data center e  transfer-success  data center a   \n",
       "\n",
       "             timestamp                                  uuid  \n",
       "0  2017-02-26T08:59:53  ebbf565d-7e70-4677-9f07-b08d72051ddb  \n",
       "1  2017-02-03T09:14:05  3ba82468-6516-4d6f-883c-1ac1108c3d89  \n",
       "2  2017-01-21T01:26:39  22b1ff08-a2ec-427e-b53b-fea91787e7b5  \n",
       "3  2017-02-08T05:53:03  713aabb7-0cfd-4b3e-a1ad-9de5fbb6ac50  \n",
       "4  2017-01-23T12:50:15  3395b5c9-fee0-4dbd-ac0b-5e2ffc59d4b3  "
      ]
     },
     "execution_count": 22,
     "metadata": {},
     "output_type": "execute_result"
    }
   ],
   "source": [
    "df1.head()"
   ]
  },
  {
   "cell_type": "code",
   "execution_count": 23,
   "metadata": {
    "collapsed": true,
    "deletable": true,
    "editable": true
   },
   "outputs": [],
   "source": [
    "# df1.to_csv('df1.csv')"
   ]
  },
  {
   "cell_type": "code",
   "execution_count": 24,
   "metadata": {
    "collapsed": false,
    "deletable": true,
    "editable": true
   },
   "outputs": [
    {
     "data": {
      "text/plain": [
       "(1000000, 6)"
      ]
     },
     "execution_count": 24,
     "metadata": {},
     "output_type": "execute_result"
    }
   ],
   "source": [
    "df1.shape"
   ]
  },
  {
   "cell_type": "code",
   "execution_count": 25,
   "metadata": {
    "collapsed": false,
    "deletable": true,
    "editable": true
   },
   "outputs": [
    {
     "name": "stdout",
     "output_type": "stream",
     "text": [
      "Scrolling ft_initial index....\n",
      "scroll size: 100000\n",
      "page type: <class 'dict'>\n",
      "<class 'list'>\n",
      "100000\n",
      "Scrolling ft_initial index....\n",
      "scroll size: 100000\n",
      "page type: <class 'dict'>\n",
      "<class 'list'>\n",
      "100000\n",
      "Scrolling ft_initial index....\n",
      "scroll size: 100000\n",
      "page type: <class 'dict'>\n",
      "<class 'list'>\n",
      "100000\n",
      "Scrolling ft_initial index....\n",
      "scroll size: 100000\n",
      "page type: <class 'dict'>\n",
      "<class 'list'>\n",
      "100000\n",
      "Scrolling ft_initial index....\n",
      "scroll size: 100000\n",
      "page type: <class 'dict'>\n",
      "<class 'list'>\n",
      "100000\n",
      "Scrolling ft_initial index....\n",
      "scroll size: 100000\n",
      "page type: <class 'dict'>\n",
      "<class 'list'>\n",
      "100000\n",
      "Scrolling ft_initial index....\n",
      "scroll size: 100000\n",
      "page type: <class 'dict'>\n",
      "<class 'list'>\n",
      "100000\n",
      "Scrolling ft_initial index....\n",
      "scroll size: 100000\n",
      "page type: <class 'dict'>\n",
      "<class 'list'>\n",
      "100000\n",
      "Scrolling ft_initial index....\n",
      "scroll size: 100000\n",
      "page type: <class 'dict'>\n",
      "<class 'list'>\n",
      "100000\n",
      "Scrolling ft_initial index....\n",
      "scroll size: 100000\n",
      "page type: <class 'dict'>\n",
      "<class 'list'>\n",
      "100000\n",
      "Scrolling ft_initial index....\n",
      "scroll size: 0\n",
      "page type: <class 'dict'>\n",
      "<class 'list'>\n",
      "0\n"
     ]
    }
   ],
   "source": [
    "# Initialize the scroll\n",
    "page = es.search(\n",
    "index = 'ft_initial',\n",
    "doc_type = 'transfer',\n",
    "scroll = '10m',\n",
    "search_type = 'scan',\n",
    "size = 100000,\n",
    "body = query\n",
    ")\n",
    "\n",
    "sid = page['_scroll_id']\n",
    "scroll_size = page['hits']['total']\n",
    "\n",
    "list1=[]\n",
    "# i=0\n",
    "# Start scrolling\n",
    "while (scroll_size > 0):\n",
    "# while i<1:\n",
    "    print(\"Scrolling ft_initial index....\")\n",
    "    page = es.scroll(scroll_id = sid, scroll = '10m')\n",
    "    # Update the scroll ID\n",
    "    sid = page['_scroll_id']\n",
    "    # Get the number of results that we returned in the last scroll\n",
    "    scroll_size = len(page['hits']['hits'])\n",
    "    print(\"scroll size: \" + str(scroll_size))\n",
    "    print('page type:',type(page))\n",
    "    print(type(page['hits']['hits']))\n",
    "    print(len(page['hits']['hits']))\n",
    "    for hit in page['hits']['hits']:\n",
    "#         print(hit['_source'])\n",
    "#       print(type(hit['_source']))\n",
    "        list1.append(hit['_source'])\n",
    "#         print(\"dict appended to list\")\n",
    "    \n",
    "#     i=i+1"
   ]
  },
  {
   "cell_type": "code",
   "execution_count": 26,
   "metadata": {
    "collapsed": true,
    "deletable": true,
    "editable": true
   },
   "outputs": [],
   "source": [
    "df2 = pd.DataFrame(list1)"
   ]
  },
  {
   "cell_type": "code",
   "execution_count": 27,
   "metadata": {
    "collapsed": false,
    "deletable": true,
    "editable": true
   },
   "outputs": [
    {
     "data": {
      "text/html": [
       "<div>\n",
       "<table border=\"1\" class=\"dataframe\">\n",
       "  <thead>\n",
       "    <tr style=\"text-align: right;\">\n",
       "      <th></th>\n",
       "      <th>bytes</th>\n",
       "      <th>dst_site</th>\n",
       "      <th>event_type</th>\n",
       "      <th>src_site</th>\n",
       "      <th>timestamp</th>\n",
       "      <th>uuid</th>\n",
       "    </tr>\n",
       "  </thead>\n",
       "  <tbody>\n",
       "    <tr>\n",
       "      <th>0</th>\n",
       "      <td>5501044291</td>\n",
       "      <td>data center b</td>\n",
       "      <td>transfer-queued</td>\n",
       "      <td>data center e</td>\n",
       "      <td>2017-01-21T20:16:55</td>\n",
       "      <td>378d4d93-2fd3-4d67-9f1d-589d52e42069</td>\n",
       "    </tr>\n",
       "    <tr>\n",
       "      <th>1</th>\n",
       "      <td>5841332618</td>\n",
       "      <td>data center b</td>\n",
       "      <td>transfer-queued</td>\n",
       "      <td>data center e</td>\n",
       "      <td>2017-01-03T10:14:05</td>\n",
       "      <td>a5efd989-ee82-43db-b365-8a2bba7fb495</td>\n",
       "    </tr>\n",
       "    <tr>\n",
       "      <th>2</th>\n",
       "      <td>715530667</td>\n",
       "      <td>data center b</td>\n",
       "      <td>transfer-queued</td>\n",
       "      <td>data center c</td>\n",
       "      <td>2017-02-18T21:08:16</td>\n",
       "      <td>b6f36749-41f8-4ad3-ba11-4f3456a097f5</td>\n",
       "    </tr>\n",
       "    <tr>\n",
       "      <th>3</th>\n",
       "      <td>8775843199</td>\n",
       "      <td>data center c</td>\n",
       "      <td>transfer-queued</td>\n",
       "      <td>data center a</td>\n",
       "      <td>2017-02-21T16:11:58</td>\n",
       "      <td>0e8fc495-e0a4-4bda-b749-0fdfee3d3abf</td>\n",
       "    </tr>\n",
       "    <tr>\n",
       "      <th>4</th>\n",
       "      <td>7318082996</td>\n",
       "      <td>data center d</td>\n",
       "      <td>transfer-queued</td>\n",
       "      <td>data center a</td>\n",
       "      <td>2017-01-22T07:29:07</td>\n",
       "      <td>9e0bc963-5b1f-4558-a61f-e7db031a2113</td>\n",
       "    </tr>\n",
       "  </tbody>\n",
       "</table>\n",
       "</div>"
      ],
      "text/plain": [
       "        bytes       dst_site       event_type       src_site  \\\n",
       "0  5501044291  data center b  transfer-queued  data center e   \n",
       "1  5841332618  data center b  transfer-queued  data center e   \n",
       "2   715530667  data center b  transfer-queued  data center c   \n",
       "3  8775843199  data center c  transfer-queued  data center a   \n",
       "4  7318082996  data center d  transfer-queued  data center a   \n",
       "\n",
       "             timestamp                                  uuid  \n",
       "0  2017-01-21T20:16:55  378d4d93-2fd3-4d67-9f1d-589d52e42069  \n",
       "1  2017-01-03T10:14:05  a5efd989-ee82-43db-b365-8a2bba7fb495  \n",
       "2  2017-02-18T21:08:16  b6f36749-41f8-4ad3-ba11-4f3456a097f5  \n",
       "3  2017-02-21T16:11:58  0e8fc495-e0a4-4bda-b749-0fdfee3d3abf  \n",
       "4  2017-01-22T07:29:07  9e0bc963-5b1f-4558-a61f-e7db031a2113  "
      ]
     },
     "execution_count": 27,
     "metadata": {},
     "output_type": "execute_result"
    }
   ],
   "source": [
    "df2.head()"
   ]
  },
  {
   "cell_type": "code",
   "execution_count": 28,
   "metadata": {
    "collapsed": true,
    "deletable": true,
    "editable": true
   },
   "outputs": [],
   "source": [
    "# df2.to_csv('df2.csv')"
   ]
  },
  {
   "cell_type": "code",
   "execution_count": 29,
   "metadata": {
    "collapsed": false,
    "deletable": true,
    "editable": true
   },
   "outputs": [
    {
     "data": {
      "text/plain": [
       "(1000000, 6)"
      ]
     },
     "execution_count": 29,
     "metadata": {},
     "output_type": "execute_result"
    }
   ],
   "source": [
    "df2.shape"
   ]
  },
  {
   "cell_type": "code",
   "execution_count": 30,
   "metadata": {
    "collapsed": true,
    "deletable": true,
    "editable": true
   },
   "outputs": [],
   "source": [
    "# list1=[]"
   ]
  },
  {
   "cell_type": "markdown",
   "metadata": {
    "deletable": true,
    "editable": true
   },
   "source": [
    "# Merging the two dataframes"
   ]
  },
  {
   "cell_type": "code",
   "execution_count": 31,
   "metadata": {
    "collapsed": false,
    "deletable": true,
    "editable": true,
    "scrolled": true
   },
   "outputs": [],
   "source": [
    "df_n = pd.merge(df1, df2, on=['uuid','bytes','dst_site','src_site'], how='inner')"
   ]
  },
  {
   "cell_type": "code",
   "execution_count": 32,
   "metadata": {
    "collapsed": false,
    "deletable": true,
    "editable": true
   },
   "outputs": [
    {
     "data": {
      "text/plain": [
       "(1000000, 8)"
      ]
     },
     "execution_count": 32,
     "metadata": {},
     "output_type": "execute_result"
    }
   ],
   "source": [
    "df_n.shape"
   ]
  },
  {
   "cell_type": "code",
   "execution_count": 33,
   "metadata": {
    "collapsed": false,
    "deletable": true,
    "editable": true
   },
   "outputs": [
    {
     "data": {
      "text/html": [
       "<div>\n",
       "<table border=\"1\" class=\"dataframe\">\n",
       "  <thead>\n",
       "    <tr style=\"text-align: right;\">\n",
       "      <th></th>\n",
       "      <th>bytes</th>\n",
       "      <th>dst_site</th>\n",
       "      <th>event_type_x</th>\n",
       "      <th>src_site</th>\n",
       "      <th>timestamp_x</th>\n",
       "      <th>uuid</th>\n",
       "      <th>event_type_y</th>\n",
       "      <th>timestamp_y</th>\n",
       "    </tr>\n",
       "  </thead>\n",
       "  <tbody>\n",
       "    <tr>\n",
       "      <th>0</th>\n",
       "      <td>8940116437</td>\n",
       "      <td>data center e</td>\n",
       "      <td>transfer-success</td>\n",
       "      <td>data center c</td>\n",
       "      <td>2017-02-26T08:59:53</td>\n",
       "      <td>ebbf565d-7e70-4677-9f07-b08d72051ddb</td>\n",
       "      <td>transfer-queued</td>\n",
       "      <td>2017-02-26T06:33:16</td>\n",
       "    </tr>\n",
       "    <tr>\n",
       "      <th>1</th>\n",
       "      <td>1288661369</td>\n",
       "      <td>data center c</td>\n",
       "      <td>transfer-success</td>\n",
       "      <td>data center b</td>\n",
       "      <td>2017-02-03T09:14:05</td>\n",
       "      <td>3ba82468-6516-4d6f-883c-1ac1108c3d89</td>\n",
       "      <td>transfer-queued</td>\n",
       "      <td>2017-02-03T07:24:37</td>\n",
       "    </tr>\n",
       "    <tr>\n",
       "      <th>2</th>\n",
       "      <td>4230378729</td>\n",
       "      <td>data center d</td>\n",
       "      <td>transfer-success</td>\n",
       "      <td>data center b</td>\n",
       "      <td>2017-01-21T01:26:39</td>\n",
       "      <td>22b1ff08-a2ec-427e-b53b-fea91787e7b5</td>\n",
       "      <td>transfer-queued</td>\n",
       "      <td>2017-01-20T23:02:41</td>\n",
       "    </tr>\n",
       "    <tr>\n",
       "      <th>3</th>\n",
       "      <td>8116545364</td>\n",
       "      <td>data center a</td>\n",
       "      <td>transfer-success</td>\n",
       "      <td>data center d</td>\n",
       "      <td>2017-02-08T05:53:03</td>\n",
       "      <td>713aabb7-0cfd-4b3e-a1ad-9de5fbb6ac50</td>\n",
       "      <td>transfer-queued</td>\n",
       "      <td>2017-02-08T03:33:31</td>\n",
       "    </tr>\n",
       "    <tr>\n",
       "      <th>4</th>\n",
       "      <td>5182557683</td>\n",
       "      <td>data center e</td>\n",
       "      <td>transfer-success</td>\n",
       "      <td>data center a</td>\n",
       "      <td>2017-01-23T12:50:15</td>\n",
       "      <td>3395b5c9-fee0-4dbd-ac0b-5e2ffc59d4b3</td>\n",
       "      <td>transfer-queued</td>\n",
       "      <td>2017-01-23T10:31:50</td>\n",
       "    </tr>\n",
       "  </tbody>\n",
       "</table>\n",
       "</div>"
      ],
      "text/plain": [
       "        bytes       dst_site      event_type_x       src_site  \\\n",
       "0  8940116437  data center e  transfer-success  data center c   \n",
       "1  1288661369  data center c  transfer-success  data center b   \n",
       "2  4230378729  data center d  transfer-success  data center b   \n",
       "3  8116545364  data center a  transfer-success  data center d   \n",
       "4  5182557683  data center e  transfer-success  data center a   \n",
       "\n",
       "           timestamp_x                                  uuid     event_type_y  \\\n",
       "0  2017-02-26T08:59:53  ebbf565d-7e70-4677-9f07-b08d72051ddb  transfer-queued   \n",
       "1  2017-02-03T09:14:05  3ba82468-6516-4d6f-883c-1ac1108c3d89  transfer-queued   \n",
       "2  2017-01-21T01:26:39  22b1ff08-a2ec-427e-b53b-fea91787e7b5  transfer-queued   \n",
       "3  2017-02-08T05:53:03  713aabb7-0cfd-4b3e-a1ad-9de5fbb6ac50  transfer-queued   \n",
       "4  2017-01-23T12:50:15  3395b5c9-fee0-4dbd-ac0b-5e2ffc59d4b3  transfer-queued   \n",
       "\n",
       "           timestamp_y  \n",
       "0  2017-02-26T06:33:16  \n",
       "1  2017-02-03T07:24:37  \n",
       "2  2017-01-20T23:02:41  \n",
       "3  2017-02-08T03:33:31  \n",
       "4  2017-01-23T10:31:50  "
      ]
     },
     "execution_count": 33,
     "metadata": {},
     "output_type": "execute_result"
    }
   ],
   "source": [
    "df_n.head()"
   ]
  },
  {
   "cell_type": "code",
   "execution_count": 34,
   "metadata": {
    "collapsed": false,
    "deletable": true,
    "editable": true
   },
   "outputs": [
    {
     "name": "stdout",
     "output_type": "stream",
     "text": [
      "<class 'pandas.core.frame.DataFrame'>\n",
      "Int64Index: 1000000 entries, 0 to 999999\n",
      "Data columns (total 8 columns):\n",
      "bytes           1000000 non-null int64\n",
      "dst_site        1000000 non-null object\n",
      "event_type_x    1000000 non-null object\n",
      "src_site        1000000 non-null object\n",
      "timestamp_x     1000000 non-null object\n",
      "uuid            1000000 non-null object\n",
      "event_type_y    1000000 non-null object\n",
      "timestamp_y     1000000 non-null object\n",
      "dtypes: int64(1), object(7)\n",
      "memory usage: 68.7+ MB\n"
     ]
    }
   ],
   "source": [
    "df_n.info()"
   ]
  },
  {
   "cell_type": "code",
   "execution_count": 35,
   "metadata": {
    "collapsed": false,
    "deletable": true,
    "editable": true
   },
   "outputs": [
    {
     "name": "stdout",
     "output_type": "stream",
     "text": [
      "<class 'pandas.core.frame.DataFrame'>\n",
      "Int64Index: 1000000 entries, 0 to 999999\n",
      "Data columns (total 8 columns):\n",
      "bytes           1000000 non-null int64\n",
      "dst_site        1000000 non-null object\n",
      "event_type_x    1000000 non-null object\n",
      "src_site        1000000 non-null object\n",
      "timestamp_x     1000000 non-null datetime64[ns]\n",
      "uuid            1000000 non-null object\n",
      "event_type_y    1000000 non-null object\n",
      "timestamp_y     1000000 non-null datetime64[ns]\n",
      "dtypes: datetime64[ns](2), int64(1), object(5)\n",
      "memory usage: 68.7+ MB\n"
     ]
    }
   ],
   "source": [
    "df_n['timestamp_x']= pd.to_datetime(df_n['timestamp_x'], infer_datetime_format=True)\n",
    "df_n['timestamp_y']= pd.to_datetime(df_n['timestamp_y'], infer_datetime_format=True)\n",
    "df_n.info()"
   ]
  },
  {
   "cell_type": "code",
   "execution_count": 36,
   "metadata": {
    "collapsed": false,
    "deletable": true,
    "editable": true
   },
   "outputs": [],
   "source": [
    "df_n['time_taken']= df_n['timestamp_x'] - df_n['timestamp_y']"
   ]
  },
  {
   "cell_type": "code",
   "execution_count": 37,
   "metadata": {
    "collapsed": false,
    "deletable": true,
    "editable": true
   },
   "outputs": [
    {
     "data": {
      "text/html": [
       "<div>\n",
       "<table border=\"1\" class=\"dataframe\">\n",
       "  <thead>\n",
       "    <tr style=\"text-align: right;\">\n",
       "      <th></th>\n",
       "      <th>bytes</th>\n",
       "      <th>dst_site</th>\n",
       "      <th>event_type_x</th>\n",
       "      <th>src_site</th>\n",
       "      <th>timestamp_x</th>\n",
       "      <th>uuid</th>\n",
       "      <th>event_type_y</th>\n",
       "      <th>timestamp_y</th>\n",
       "      <th>time_taken</th>\n",
       "    </tr>\n",
       "  </thead>\n",
       "  <tbody>\n",
       "    <tr>\n",
       "      <th>0</th>\n",
       "      <td>8940116437</td>\n",
       "      <td>data center e</td>\n",
       "      <td>transfer-success</td>\n",
       "      <td>data center c</td>\n",
       "      <td>2017-02-26 08:59:53</td>\n",
       "      <td>ebbf565d-7e70-4677-9f07-b08d72051ddb</td>\n",
       "      <td>transfer-queued</td>\n",
       "      <td>2017-02-26 06:33:16</td>\n",
       "      <td>02:26:37</td>\n",
       "    </tr>\n",
       "    <tr>\n",
       "      <th>1</th>\n",
       "      <td>1288661369</td>\n",
       "      <td>data center c</td>\n",
       "      <td>transfer-success</td>\n",
       "      <td>data center b</td>\n",
       "      <td>2017-02-03 09:14:05</td>\n",
       "      <td>3ba82468-6516-4d6f-883c-1ac1108c3d89</td>\n",
       "      <td>transfer-queued</td>\n",
       "      <td>2017-02-03 07:24:37</td>\n",
       "      <td>01:49:28</td>\n",
       "    </tr>\n",
       "    <tr>\n",
       "      <th>2</th>\n",
       "      <td>4230378729</td>\n",
       "      <td>data center d</td>\n",
       "      <td>transfer-success</td>\n",
       "      <td>data center b</td>\n",
       "      <td>2017-01-21 01:26:39</td>\n",
       "      <td>22b1ff08-a2ec-427e-b53b-fea91787e7b5</td>\n",
       "      <td>transfer-queued</td>\n",
       "      <td>2017-01-20 23:02:41</td>\n",
       "      <td>02:23:58</td>\n",
       "    </tr>\n",
       "    <tr>\n",
       "      <th>3</th>\n",
       "      <td>8116545364</td>\n",
       "      <td>data center a</td>\n",
       "      <td>transfer-success</td>\n",
       "      <td>data center d</td>\n",
       "      <td>2017-02-08 05:53:03</td>\n",
       "      <td>713aabb7-0cfd-4b3e-a1ad-9de5fbb6ac50</td>\n",
       "      <td>transfer-queued</td>\n",
       "      <td>2017-02-08 03:33:31</td>\n",
       "      <td>02:19:32</td>\n",
       "    </tr>\n",
       "    <tr>\n",
       "      <th>4</th>\n",
       "      <td>5182557683</td>\n",
       "      <td>data center e</td>\n",
       "      <td>transfer-success</td>\n",
       "      <td>data center a</td>\n",
       "      <td>2017-01-23 12:50:15</td>\n",
       "      <td>3395b5c9-fee0-4dbd-ac0b-5e2ffc59d4b3</td>\n",
       "      <td>transfer-queued</td>\n",
       "      <td>2017-01-23 10:31:50</td>\n",
       "      <td>02:18:25</td>\n",
       "    </tr>\n",
       "  </tbody>\n",
       "</table>\n",
       "</div>"
      ],
      "text/plain": [
       "        bytes       dst_site      event_type_x       src_site  \\\n",
       "0  8940116437  data center e  transfer-success  data center c   \n",
       "1  1288661369  data center c  transfer-success  data center b   \n",
       "2  4230378729  data center d  transfer-success  data center b   \n",
       "3  8116545364  data center a  transfer-success  data center d   \n",
       "4  5182557683  data center e  transfer-success  data center a   \n",
       "\n",
       "          timestamp_x                                  uuid     event_type_y  \\\n",
       "0 2017-02-26 08:59:53  ebbf565d-7e70-4677-9f07-b08d72051ddb  transfer-queued   \n",
       "1 2017-02-03 09:14:05  3ba82468-6516-4d6f-883c-1ac1108c3d89  transfer-queued   \n",
       "2 2017-01-21 01:26:39  22b1ff08-a2ec-427e-b53b-fea91787e7b5  transfer-queued   \n",
       "3 2017-02-08 05:53:03  713aabb7-0cfd-4b3e-a1ad-9de5fbb6ac50  transfer-queued   \n",
       "4 2017-01-23 12:50:15  3395b5c9-fee0-4dbd-ac0b-5e2ffc59d4b3  transfer-queued   \n",
       "\n",
       "          timestamp_y  time_taken  \n",
       "0 2017-02-26 06:33:16    02:26:37  \n",
       "1 2017-02-03 07:24:37    01:49:28  \n",
       "2 2017-01-20 23:02:41    02:23:58  \n",
       "3 2017-02-08 03:33:31    02:19:32  \n",
       "4 2017-01-23 10:31:50    02:18:25  "
      ]
     },
     "execution_count": 37,
     "metadata": {},
     "output_type": "execute_result"
    }
   ],
   "source": [
    "df_n.head()"
   ]
  },
  {
   "cell_type": "code",
   "execution_count": 38,
   "metadata": {
    "collapsed": false,
    "deletable": true,
    "editable": true
   },
   "outputs": [
    {
     "name": "stdout",
     "output_type": "stream",
     "text": [
      "<class 'pandas.core.frame.DataFrame'>\n",
      "Int64Index: 1000000 entries, 0 to 999999\n",
      "Data columns (total 9 columns):\n",
      "bytes           1000000 non-null int64\n",
      "dst_site        1000000 non-null object\n",
      "event_type_x    1000000 non-null object\n",
      "src_site        1000000 non-null object\n",
      "timestamp_x     1000000 non-null datetime64[ns]\n",
      "uuid            1000000 non-null object\n",
      "event_type_y    1000000 non-null object\n",
      "timestamp_y     1000000 non-null datetime64[ns]\n",
      "time_taken      1000000 non-null float64\n",
      "dtypes: datetime64[ns](2), float64(1), int64(1), object(5)\n",
      "memory usage: 76.3+ MB\n"
     ]
    }
   ],
   "source": [
    "# df_n['time_taken'] = pd.Timedelta(df_n['time_taken'])\n",
    "df_n['time_taken'] = df_n['time_taken'].astype('timedelta64[s]')\n",
    "df_n.info()"
   ]
  },
  {
   "cell_type": "code",
   "execution_count": 39,
   "metadata": {
    "collapsed": false,
    "deletable": true,
    "editable": true
   },
   "outputs": [
    {
     "data": {
      "text/html": [
       "<div>\n",
       "<table border=\"1\" class=\"dataframe\">\n",
       "  <thead>\n",
       "    <tr style=\"text-align: right;\">\n",
       "      <th></th>\n",
       "      <th>bytes</th>\n",
       "      <th>dst_site</th>\n",
       "      <th>event_type_x</th>\n",
       "      <th>src_site</th>\n",
       "      <th>timestamp_x</th>\n",
       "      <th>uuid</th>\n",
       "      <th>event_type_y</th>\n",
       "      <th>timestamp_y</th>\n",
       "      <th>time_taken</th>\n",
       "    </tr>\n",
       "  </thead>\n",
       "  <tbody>\n",
       "    <tr>\n",
       "      <th>0</th>\n",
       "      <td>8940116437</td>\n",
       "      <td>data center e</td>\n",
       "      <td>transfer-success</td>\n",
       "      <td>data center c</td>\n",
       "      <td>2017-02-26 08:59:53</td>\n",
       "      <td>ebbf565d-7e70-4677-9f07-b08d72051ddb</td>\n",
       "      <td>transfer-queued</td>\n",
       "      <td>2017-02-26 06:33:16</td>\n",
       "      <td>8797.0</td>\n",
       "    </tr>\n",
       "    <tr>\n",
       "      <th>1</th>\n",
       "      <td>1288661369</td>\n",
       "      <td>data center c</td>\n",
       "      <td>transfer-success</td>\n",
       "      <td>data center b</td>\n",
       "      <td>2017-02-03 09:14:05</td>\n",
       "      <td>3ba82468-6516-4d6f-883c-1ac1108c3d89</td>\n",
       "      <td>transfer-queued</td>\n",
       "      <td>2017-02-03 07:24:37</td>\n",
       "      <td>6568.0</td>\n",
       "    </tr>\n",
       "    <tr>\n",
       "      <th>2</th>\n",
       "      <td>4230378729</td>\n",
       "      <td>data center d</td>\n",
       "      <td>transfer-success</td>\n",
       "      <td>data center b</td>\n",
       "      <td>2017-01-21 01:26:39</td>\n",
       "      <td>22b1ff08-a2ec-427e-b53b-fea91787e7b5</td>\n",
       "      <td>transfer-queued</td>\n",
       "      <td>2017-01-20 23:02:41</td>\n",
       "      <td>8638.0</td>\n",
       "    </tr>\n",
       "    <tr>\n",
       "      <th>3</th>\n",
       "      <td>8116545364</td>\n",
       "      <td>data center a</td>\n",
       "      <td>transfer-success</td>\n",
       "      <td>data center d</td>\n",
       "      <td>2017-02-08 05:53:03</td>\n",
       "      <td>713aabb7-0cfd-4b3e-a1ad-9de5fbb6ac50</td>\n",
       "      <td>transfer-queued</td>\n",
       "      <td>2017-02-08 03:33:31</td>\n",
       "      <td>8372.0</td>\n",
       "    </tr>\n",
       "    <tr>\n",
       "      <th>4</th>\n",
       "      <td>5182557683</td>\n",
       "      <td>data center e</td>\n",
       "      <td>transfer-success</td>\n",
       "      <td>data center a</td>\n",
       "      <td>2017-01-23 12:50:15</td>\n",
       "      <td>3395b5c9-fee0-4dbd-ac0b-5e2ffc59d4b3</td>\n",
       "      <td>transfer-queued</td>\n",
       "      <td>2017-01-23 10:31:50</td>\n",
       "      <td>8305.0</td>\n",
       "    </tr>\n",
       "  </tbody>\n",
       "</table>\n",
       "</div>"
      ],
      "text/plain": [
       "        bytes       dst_site      event_type_x       src_site  \\\n",
       "0  8940116437  data center e  transfer-success  data center c   \n",
       "1  1288661369  data center c  transfer-success  data center b   \n",
       "2  4230378729  data center d  transfer-success  data center b   \n",
       "3  8116545364  data center a  transfer-success  data center d   \n",
       "4  5182557683  data center e  transfer-success  data center a   \n",
       "\n",
       "          timestamp_x                                  uuid     event_type_y  \\\n",
       "0 2017-02-26 08:59:53  ebbf565d-7e70-4677-9f07-b08d72051ddb  transfer-queued   \n",
       "1 2017-02-03 09:14:05  3ba82468-6516-4d6f-883c-1ac1108c3d89  transfer-queued   \n",
       "2 2017-01-21 01:26:39  22b1ff08-a2ec-427e-b53b-fea91787e7b5  transfer-queued   \n",
       "3 2017-02-08 05:53:03  713aabb7-0cfd-4b3e-a1ad-9de5fbb6ac50  transfer-queued   \n",
       "4 2017-01-23 12:50:15  3395b5c9-fee0-4dbd-ac0b-5e2ffc59d4b3  transfer-queued   \n",
       "\n",
       "          timestamp_y  time_taken  \n",
       "0 2017-02-26 06:33:16      8797.0  \n",
       "1 2017-02-03 07:24:37      6568.0  \n",
       "2 2017-01-20 23:02:41      8638.0  \n",
       "3 2017-02-08 03:33:31      8372.0  \n",
       "4 2017-01-23 10:31:50      8305.0  "
      ]
     },
     "execution_count": 39,
     "metadata": {},
     "output_type": "execute_result"
    }
   ],
   "source": [
    "df_n.head()"
   ]
  },
  {
   "cell_type": "code",
   "execution_count": 40,
   "metadata": {
    "collapsed": true,
    "deletable": true,
    "editable": true
   },
   "outputs": [],
   "source": [
    "data = df_n.drop(['timestamp_x','timestamp_y'], axis=1)"
   ]
  },
  {
   "cell_type": "code",
   "execution_count": 41,
   "metadata": {
    "collapsed": false,
    "deletable": true,
    "editable": true
   },
   "outputs": [
    {
     "data": {
      "text/html": [
       "<div>\n",
       "<table border=\"1\" class=\"dataframe\">\n",
       "  <thead>\n",
       "    <tr style=\"text-align: right;\">\n",
       "      <th></th>\n",
       "      <th>bytes</th>\n",
       "      <th>dst_site</th>\n",
       "      <th>event_type_x</th>\n",
       "      <th>src_site</th>\n",
       "      <th>uuid</th>\n",
       "      <th>event_type_y</th>\n",
       "      <th>time_taken</th>\n",
       "    </tr>\n",
       "  </thead>\n",
       "  <tbody>\n",
       "    <tr>\n",
       "      <th>0</th>\n",
       "      <td>8940116437</td>\n",
       "      <td>data center e</td>\n",
       "      <td>transfer-success</td>\n",
       "      <td>data center c</td>\n",
       "      <td>ebbf565d-7e70-4677-9f07-b08d72051ddb</td>\n",
       "      <td>transfer-queued</td>\n",
       "      <td>8797.0</td>\n",
       "    </tr>\n",
       "    <tr>\n",
       "      <th>1</th>\n",
       "      <td>1288661369</td>\n",
       "      <td>data center c</td>\n",
       "      <td>transfer-success</td>\n",
       "      <td>data center b</td>\n",
       "      <td>3ba82468-6516-4d6f-883c-1ac1108c3d89</td>\n",
       "      <td>transfer-queued</td>\n",
       "      <td>6568.0</td>\n",
       "    </tr>\n",
       "    <tr>\n",
       "      <th>2</th>\n",
       "      <td>4230378729</td>\n",
       "      <td>data center d</td>\n",
       "      <td>transfer-success</td>\n",
       "      <td>data center b</td>\n",
       "      <td>22b1ff08-a2ec-427e-b53b-fea91787e7b5</td>\n",
       "      <td>transfer-queued</td>\n",
       "      <td>8638.0</td>\n",
       "    </tr>\n",
       "    <tr>\n",
       "      <th>3</th>\n",
       "      <td>8116545364</td>\n",
       "      <td>data center a</td>\n",
       "      <td>transfer-success</td>\n",
       "      <td>data center d</td>\n",
       "      <td>713aabb7-0cfd-4b3e-a1ad-9de5fbb6ac50</td>\n",
       "      <td>transfer-queued</td>\n",
       "      <td>8372.0</td>\n",
       "    </tr>\n",
       "    <tr>\n",
       "      <th>4</th>\n",
       "      <td>5182557683</td>\n",
       "      <td>data center e</td>\n",
       "      <td>transfer-success</td>\n",
       "      <td>data center a</td>\n",
       "      <td>3395b5c9-fee0-4dbd-ac0b-5e2ffc59d4b3</td>\n",
       "      <td>transfer-queued</td>\n",
       "      <td>8305.0</td>\n",
       "    </tr>\n",
       "  </tbody>\n",
       "</table>\n",
       "</div>"
      ],
      "text/plain": [
       "        bytes       dst_site      event_type_x       src_site  \\\n",
       "0  8940116437  data center e  transfer-success  data center c   \n",
       "1  1288661369  data center c  transfer-success  data center b   \n",
       "2  4230378729  data center d  transfer-success  data center b   \n",
       "3  8116545364  data center a  transfer-success  data center d   \n",
       "4  5182557683  data center e  transfer-success  data center a   \n",
       "\n",
       "                                   uuid     event_type_y  time_taken  \n",
       "0  ebbf565d-7e70-4677-9f07-b08d72051ddb  transfer-queued      8797.0  \n",
       "1  3ba82468-6516-4d6f-883c-1ac1108c3d89  transfer-queued      6568.0  \n",
       "2  22b1ff08-a2ec-427e-b53b-fea91787e7b5  transfer-queued      8638.0  \n",
       "3  713aabb7-0cfd-4b3e-a1ad-9de5fbb6ac50  transfer-queued      8372.0  \n",
       "4  3395b5c9-fee0-4dbd-ac0b-5e2ffc59d4b3  transfer-queued      8305.0  "
      ]
     },
     "execution_count": 41,
     "metadata": {},
     "output_type": "execute_result"
    }
   ],
   "source": [
    "data.head()"
   ]
  },
  {
   "cell_type": "code",
   "execution_count": 42,
   "metadata": {
    "collapsed": false,
    "deletable": true,
    "editable": true,
    "scrolled": true
   },
   "outputs": [
    {
     "data": {
      "text/html": [
       "<div>\n",
       "<table border=\"1\" class=\"dataframe\">\n",
       "  <thead>\n",
       "    <tr style=\"text-align: right;\">\n",
       "      <th></th>\n",
       "      <th>bytes</th>\n",
       "      <th>dst_site</th>\n",
       "      <th>event_type_x</th>\n",
       "      <th>src_site</th>\n",
       "      <th>uuid</th>\n",
       "      <th>event_type_y</th>\n",
       "      <th>time_taken</th>\n",
       "      <th>src_site_data center a</th>\n",
       "      <th>src_site_data center b</th>\n",
       "      <th>src_site_data center c</th>\n",
       "      <th>src_site_data center d</th>\n",
       "      <th>src_site_data center e</th>\n",
       "      <th>dst_site_data center a</th>\n",
       "      <th>dst_site_data center b</th>\n",
       "      <th>dst_site_data center c</th>\n",
       "      <th>dst_site_data center d</th>\n",
       "      <th>dst_site_data center e</th>\n",
       "      <th>event_type_x_transfer-failure</th>\n",
       "      <th>event_type_x_transfer-success</th>\n",
       "    </tr>\n",
       "  </thead>\n",
       "  <tbody>\n",
       "    <tr>\n",
       "      <th>0</th>\n",
       "      <td>8940116437</td>\n",
       "      <td>data center e</td>\n",
       "      <td>transfer-success</td>\n",
       "      <td>data center c</td>\n",
       "      <td>ebbf565d-7e70-4677-9f07-b08d72051ddb</td>\n",
       "      <td>transfer-queued</td>\n",
       "      <td>8797.0</td>\n",
       "      <td>0</td>\n",
       "      <td>0</td>\n",
       "      <td>1</td>\n",
       "      <td>0</td>\n",
       "      <td>0</td>\n",
       "      <td>0</td>\n",
       "      <td>0</td>\n",
       "      <td>0</td>\n",
       "      <td>0</td>\n",
       "      <td>1</td>\n",
       "      <td>0</td>\n",
       "      <td>1</td>\n",
       "    </tr>\n",
       "    <tr>\n",
       "      <th>1</th>\n",
       "      <td>1288661369</td>\n",
       "      <td>data center c</td>\n",
       "      <td>transfer-success</td>\n",
       "      <td>data center b</td>\n",
       "      <td>3ba82468-6516-4d6f-883c-1ac1108c3d89</td>\n",
       "      <td>transfer-queued</td>\n",
       "      <td>6568.0</td>\n",
       "      <td>0</td>\n",
       "      <td>1</td>\n",
       "      <td>0</td>\n",
       "      <td>0</td>\n",
       "      <td>0</td>\n",
       "      <td>0</td>\n",
       "      <td>0</td>\n",
       "      <td>1</td>\n",
       "      <td>0</td>\n",
       "      <td>0</td>\n",
       "      <td>0</td>\n",
       "      <td>1</td>\n",
       "    </tr>\n",
       "    <tr>\n",
       "      <th>2</th>\n",
       "      <td>4230378729</td>\n",
       "      <td>data center d</td>\n",
       "      <td>transfer-success</td>\n",
       "      <td>data center b</td>\n",
       "      <td>22b1ff08-a2ec-427e-b53b-fea91787e7b5</td>\n",
       "      <td>transfer-queued</td>\n",
       "      <td>8638.0</td>\n",
       "      <td>0</td>\n",
       "      <td>1</td>\n",
       "      <td>0</td>\n",
       "      <td>0</td>\n",
       "      <td>0</td>\n",
       "      <td>0</td>\n",
       "      <td>0</td>\n",
       "      <td>0</td>\n",
       "      <td>1</td>\n",
       "      <td>0</td>\n",
       "      <td>0</td>\n",
       "      <td>1</td>\n",
       "    </tr>\n",
       "    <tr>\n",
       "      <th>3</th>\n",
       "      <td>8116545364</td>\n",
       "      <td>data center a</td>\n",
       "      <td>transfer-success</td>\n",
       "      <td>data center d</td>\n",
       "      <td>713aabb7-0cfd-4b3e-a1ad-9de5fbb6ac50</td>\n",
       "      <td>transfer-queued</td>\n",
       "      <td>8372.0</td>\n",
       "      <td>0</td>\n",
       "      <td>0</td>\n",
       "      <td>0</td>\n",
       "      <td>1</td>\n",
       "      <td>0</td>\n",
       "      <td>1</td>\n",
       "      <td>0</td>\n",
       "      <td>0</td>\n",
       "      <td>0</td>\n",
       "      <td>0</td>\n",
       "      <td>0</td>\n",
       "      <td>1</td>\n",
       "    </tr>\n",
       "    <tr>\n",
       "      <th>4</th>\n",
       "      <td>5182557683</td>\n",
       "      <td>data center e</td>\n",
       "      <td>transfer-success</td>\n",
       "      <td>data center a</td>\n",
       "      <td>3395b5c9-fee0-4dbd-ac0b-5e2ffc59d4b3</td>\n",
       "      <td>transfer-queued</td>\n",
       "      <td>8305.0</td>\n",
       "      <td>1</td>\n",
       "      <td>0</td>\n",
       "      <td>0</td>\n",
       "      <td>0</td>\n",
       "      <td>0</td>\n",
       "      <td>0</td>\n",
       "      <td>0</td>\n",
       "      <td>0</td>\n",
       "      <td>0</td>\n",
       "      <td>1</td>\n",
       "      <td>0</td>\n",
       "      <td>1</td>\n",
       "    </tr>\n",
       "  </tbody>\n",
       "</table>\n",
       "</div>"
      ],
      "text/plain": [
       "        bytes       dst_site      event_type_x       src_site  \\\n",
       "0  8940116437  data center e  transfer-success  data center c   \n",
       "1  1288661369  data center c  transfer-success  data center b   \n",
       "2  4230378729  data center d  transfer-success  data center b   \n",
       "3  8116545364  data center a  transfer-success  data center d   \n",
       "4  5182557683  data center e  transfer-success  data center a   \n",
       "\n",
       "                                   uuid     event_type_y  time_taken  \\\n",
       "0  ebbf565d-7e70-4677-9f07-b08d72051ddb  transfer-queued      8797.0   \n",
       "1  3ba82468-6516-4d6f-883c-1ac1108c3d89  transfer-queued      6568.0   \n",
       "2  22b1ff08-a2ec-427e-b53b-fea91787e7b5  transfer-queued      8638.0   \n",
       "3  713aabb7-0cfd-4b3e-a1ad-9de5fbb6ac50  transfer-queued      8372.0   \n",
       "4  3395b5c9-fee0-4dbd-ac0b-5e2ffc59d4b3  transfer-queued      8305.0   \n",
       "\n",
       "   src_site_data center a  src_site_data center b  src_site_data center c  \\\n",
       "0                       0                       0                       1   \n",
       "1                       0                       1                       0   \n",
       "2                       0                       1                       0   \n",
       "3                       0                       0                       0   \n",
       "4                       1                       0                       0   \n",
       "\n",
       "   src_site_data center d  src_site_data center e  dst_site_data center a  \\\n",
       "0                       0                       0                       0   \n",
       "1                       0                       0                       0   \n",
       "2                       0                       0                       0   \n",
       "3                       1                       0                       1   \n",
       "4                       0                       0                       0   \n",
       "\n",
       "   dst_site_data center b  dst_site_data center c  dst_site_data center d  \\\n",
       "0                       0                       0                       0   \n",
       "1                       0                       1                       0   \n",
       "2                       0                       0                       1   \n",
       "3                       0                       0                       0   \n",
       "4                       0                       0                       0   \n",
       "\n",
       "   dst_site_data center e  event_type_x_transfer-failure  \\\n",
       "0                       1                              0   \n",
       "1                       0                              0   \n",
       "2                       0                              0   \n",
       "3                       0                              0   \n",
       "4                       1                              0   \n",
       "\n",
       "   event_type_x_transfer-success  \n",
       "0                              1  \n",
       "1                              1  \n",
       "2                              1  \n",
       "3                              1  \n",
       "4                              1  "
      ]
     },
     "execution_count": 42,
     "metadata": {},
     "output_type": "execute_result"
    }
   ],
   "source": [
    "dummy_fields = ['src_site', 'dst_site', 'event_type_x']\n",
    "for each in dummy_fields:\n",
    "    dummies = pd.get_dummies(data[each], prefix=each, drop_first=False)\n",
    "    data = pd.concat([data, dummies], axis=1)\n",
    "\n",
    "data.head()"
   ]
  },
  {
   "cell_type": "code",
   "execution_count": 43,
   "metadata": {
    "collapsed": false,
    "deletable": true,
    "editable": true
   },
   "outputs": [],
   "source": [
    "fields_to_drop = ['src_site','dst_site','event_type_x','event_type_y']\n",
    "data = data.drop(fields_to_drop, axis=1)"
   ]
  },
  {
   "cell_type": "code",
   "execution_count": 44,
   "metadata": {
    "collapsed": false,
    "deletable": true,
    "editable": true
   },
   "outputs": [
    {
     "data": {
      "text/html": [
       "<div>\n",
       "<table border=\"1\" class=\"dataframe\">\n",
       "  <thead>\n",
       "    <tr style=\"text-align: right;\">\n",
       "      <th></th>\n",
       "      <th>bytes</th>\n",
       "      <th>uuid</th>\n",
       "      <th>time_taken</th>\n",
       "      <th>src_site_data center a</th>\n",
       "      <th>src_site_data center b</th>\n",
       "      <th>src_site_data center c</th>\n",
       "      <th>src_site_data center d</th>\n",
       "      <th>src_site_data center e</th>\n",
       "      <th>dst_site_data center a</th>\n",
       "      <th>dst_site_data center b</th>\n",
       "      <th>dst_site_data center c</th>\n",
       "      <th>dst_site_data center d</th>\n",
       "      <th>dst_site_data center e</th>\n",
       "      <th>event_type_x_transfer-failure</th>\n",
       "      <th>event_type_x_transfer-success</th>\n",
       "    </tr>\n",
       "  </thead>\n",
       "  <tbody>\n",
       "    <tr>\n",
       "      <th>0</th>\n",
       "      <td>8940116437</td>\n",
       "      <td>ebbf565d-7e70-4677-9f07-b08d72051ddb</td>\n",
       "      <td>8797.0</td>\n",
       "      <td>0</td>\n",
       "      <td>0</td>\n",
       "      <td>1</td>\n",
       "      <td>0</td>\n",
       "      <td>0</td>\n",
       "      <td>0</td>\n",
       "      <td>0</td>\n",
       "      <td>0</td>\n",
       "      <td>0</td>\n",
       "      <td>1</td>\n",
       "      <td>0</td>\n",
       "      <td>1</td>\n",
       "    </tr>\n",
       "    <tr>\n",
       "      <th>1</th>\n",
       "      <td>1288661369</td>\n",
       "      <td>3ba82468-6516-4d6f-883c-1ac1108c3d89</td>\n",
       "      <td>6568.0</td>\n",
       "      <td>0</td>\n",
       "      <td>1</td>\n",
       "      <td>0</td>\n",
       "      <td>0</td>\n",
       "      <td>0</td>\n",
       "      <td>0</td>\n",
       "      <td>0</td>\n",
       "      <td>1</td>\n",
       "      <td>0</td>\n",
       "      <td>0</td>\n",
       "      <td>0</td>\n",
       "      <td>1</td>\n",
       "    </tr>\n",
       "    <tr>\n",
       "      <th>2</th>\n",
       "      <td>4230378729</td>\n",
       "      <td>22b1ff08-a2ec-427e-b53b-fea91787e7b5</td>\n",
       "      <td>8638.0</td>\n",
       "      <td>0</td>\n",
       "      <td>1</td>\n",
       "      <td>0</td>\n",
       "      <td>0</td>\n",
       "      <td>0</td>\n",
       "      <td>0</td>\n",
       "      <td>0</td>\n",
       "      <td>0</td>\n",
       "      <td>1</td>\n",
       "      <td>0</td>\n",
       "      <td>0</td>\n",
       "      <td>1</td>\n",
       "    </tr>\n",
       "    <tr>\n",
       "      <th>3</th>\n",
       "      <td>8116545364</td>\n",
       "      <td>713aabb7-0cfd-4b3e-a1ad-9de5fbb6ac50</td>\n",
       "      <td>8372.0</td>\n",
       "      <td>0</td>\n",
       "      <td>0</td>\n",
       "      <td>0</td>\n",
       "      <td>1</td>\n",
       "      <td>0</td>\n",
       "      <td>1</td>\n",
       "      <td>0</td>\n",
       "      <td>0</td>\n",
       "      <td>0</td>\n",
       "      <td>0</td>\n",
       "      <td>0</td>\n",
       "      <td>1</td>\n",
       "    </tr>\n",
       "    <tr>\n",
       "      <th>4</th>\n",
       "      <td>5182557683</td>\n",
       "      <td>3395b5c9-fee0-4dbd-ac0b-5e2ffc59d4b3</td>\n",
       "      <td>8305.0</td>\n",
       "      <td>1</td>\n",
       "      <td>0</td>\n",
       "      <td>0</td>\n",
       "      <td>0</td>\n",
       "      <td>0</td>\n",
       "      <td>0</td>\n",
       "      <td>0</td>\n",
       "      <td>0</td>\n",
       "      <td>0</td>\n",
       "      <td>1</td>\n",
       "      <td>0</td>\n",
       "      <td>1</td>\n",
       "    </tr>\n",
       "  </tbody>\n",
       "</table>\n",
       "</div>"
      ],
      "text/plain": [
       "        bytes                                  uuid  time_taken  \\\n",
       "0  8940116437  ebbf565d-7e70-4677-9f07-b08d72051ddb      8797.0   \n",
       "1  1288661369  3ba82468-6516-4d6f-883c-1ac1108c3d89      6568.0   \n",
       "2  4230378729  22b1ff08-a2ec-427e-b53b-fea91787e7b5      8638.0   \n",
       "3  8116545364  713aabb7-0cfd-4b3e-a1ad-9de5fbb6ac50      8372.0   \n",
       "4  5182557683  3395b5c9-fee0-4dbd-ac0b-5e2ffc59d4b3      8305.0   \n",
       "\n",
       "   src_site_data center a  src_site_data center b  src_site_data center c  \\\n",
       "0                       0                       0                       1   \n",
       "1                       0                       1                       0   \n",
       "2                       0                       1                       0   \n",
       "3                       0                       0                       0   \n",
       "4                       1                       0                       0   \n",
       "\n",
       "   src_site_data center d  src_site_data center e  dst_site_data center a  \\\n",
       "0                       0                       0                       0   \n",
       "1                       0                       0                       0   \n",
       "2                       0                       0                       0   \n",
       "3                       1                       0                       1   \n",
       "4                       0                       0                       0   \n",
       "\n",
       "   dst_site_data center b  dst_site_data center c  dst_site_data center d  \\\n",
       "0                       0                       0                       0   \n",
       "1                       0                       1                       0   \n",
       "2                       0                       0                       1   \n",
       "3                       0                       0                       0   \n",
       "4                       0                       0                       0   \n",
       "\n",
       "   dst_site_data center e  event_type_x_transfer-failure  \\\n",
       "0                       1                              0   \n",
       "1                       0                              0   \n",
       "2                       0                              0   \n",
       "3                       0                              0   \n",
       "4                       1                              0   \n",
       "\n",
       "   event_type_x_transfer-success  \n",
       "0                              1  \n",
       "1                              1  \n",
       "2                              1  \n",
       "3                              1  \n",
       "4                              1  "
      ]
     },
     "execution_count": 44,
     "metadata": {},
     "output_type": "execute_result"
    }
   ],
   "source": [
    "data.head()\n",
    "# data.info()"
   ]
  },
  {
   "cell_type": "code",
   "execution_count": 45,
   "metadata": {
    "collapsed": true,
    "deletable": true,
    "editable": true
   },
   "outputs": [],
   "source": [
    "data= data[['uuid','src_site_data center a','src_site_data center b','src_site_data center c',\n",
    "           'src_site_data center d','src_site_data center e','dst_site_data center a','dst_site_data center b','dst_site_data center c',\n",
    "           'dst_site_data center d','dst_site_data center e','bytes','event_type_x_transfer-success',\n",
    "           'event_type_x_transfer-failure','time_taken']]"
   ]
  },
  {
   "cell_type": "code",
   "execution_count": 46,
   "metadata": {
    "collapsed": false,
    "deletable": true,
    "editable": true
   },
   "outputs": [
    {
     "data": {
      "text/html": [
       "<div>\n",
       "<table border=\"1\" class=\"dataframe\">\n",
       "  <thead>\n",
       "    <tr style=\"text-align: right;\">\n",
       "      <th></th>\n",
       "      <th>uuid</th>\n",
       "      <th>src_site_data center a</th>\n",
       "      <th>src_site_data center b</th>\n",
       "      <th>src_site_data center c</th>\n",
       "      <th>src_site_data center d</th>\n",
       "      <th>src_site_data center e</th>\n",
       "      <th>dst_site_data center a</th>\n",
       "      <th>dst_site_data center b</th>\n",
       "      <th>dst_site_data center c</th>\n",
       "      <th>dst_site_data center d</th>\n",
       "      <th>dst_site_data center e</th>\n",
       "      <th>bytes</th>\n",
       "      <th>event_type_x_transfer-success</th>\n",
       "      <th>event_type_x_transfer-failure</th>\n",
       "      <th>time_taken</th>\n",
       "    </tr>\n",
       "  </thead>\n",
       "  <tbody>\n",
       "    <tr>\n",
       "      <th>0</th>\n",
       "      <td>ebbf565d-7e70-4677-9f07-b08d72051ddb</td>\n",
       "      <td>0</td>\n",
       "      <td>0</td>\n",
       "      <td>1</td>\n",
       "      <td>0</td>\n",
       "      <td>0</td>\n",
       "      <td>0</td>\n",
       "      <td>0</td>\n",
       "      <td>0</td>\n",
       "      <td>0</td>\n",
       "      <td>1</td>\n",
       "      <td>8940116437</td>\n",
       "      <td>1</td>\n",
       "      <td>0</td>\n",
       "      <td>8797.0</td>\n",
       "    </tr>\n",
       "    <tr>\n",
       "      <th>1</th>\n",
       "      <td>3ba82468-6516-4d6f-883c-1ac1108c3d89</td>\n",
       "      <td>0</td>\n",
       "      <td>1</td>\n",
       "      <td>0</td>\n",
       "      <td>0</td>\n",
       "      <td>0</td>\n",
       "      <td>0</td>\n",
       "      <td>0</td>\n",
       "      <td>1</td>\n",
       "      <td>0</td>\n",
       "      <td>0</td>\n",
       "      <td>1288661369</td>\n",
       "      <td>1</td>\n",
       "      <td>0</td>\n",
       "      <td>6568.0</td>\n",
       "    </tr>\n",
       "    <tr>\n",
       "      <th>2</th>\n",
       "      <td>22b1ff08-a2ec-427e-b53b-fea91787e7b5</td>\n",
       "      <td>0</td>\n",
       "      <td>1</td>\n",
       "      <td>0</td>\n",
       "      <td>0</td>\n",
       "      <td>0</td>\n",
       "      <td>0</td>\n",
       "      <td>0</td>\n",
       "      <td>0</td>\n",
       "      <td>1</td>\n",
       "      <td>0</td>\n",
       "      <td>4230378729</td>\n",
       "      <td>1</td>\n",
       "      <td>0</td>\n",
       "      <td>8638.0</td>\n",
       "    </tr>\n",
       "    <tr>\n",
       "      <th>3</th>\n",
       "      <td>713aabb7-0cfd-4b3e-a1ad-9de5fbb6ac50</td>\n",
       "      <td>0</td>\n",
       "      <td>0</td>\n",
       "      <td>0</td>\n",
       "      <td>1</td>\n",
       "      <td>0</td>\n",
       "      <td>1</td>\n",
       "      <td>0</td>\n",
       "      <td>0</td>\n",
       "      <td>0</td>\n",
       "      <td>0</td>\n",
       "      <td>8116545364</td>\n",
       "      <td>1</td>\n",
       "      <td>0</td>\n",
       "      <td>8372.0</td>\n",
       "    </tr>\n",
       "    <tr>\n",
       "      <th>4</th>\n",
       "      <td>3395b5c9-fee0-4dbd-ac0b-5e2ffc59d4b3</td>\n",
       "      <td>1</td>\n",
       "      <td>0</td>\n",
       "      <td>0</td>\n",
       "      <td>0</td>\n",
       "      <td>0</td>\n",
       "      <td>0</td>\n",
       "      <td>0</td>\n",
       "      <td>0</td>\n",
       "      <td>0</td>\n",
       "      <td>1</td>\n",
       "      <td>5182557683</td>\n",
       "      <td>1</td>\n",
       "      <td>0</td>\n",
       "      <td>8305.0</td>\n",
       "    </tr>\n",
       "  </tbody>\n",
       "</table>\n",
       "</div>"
      ],
      "text/plain": [
       "                                   uuid  src_site_data center a  \\\n",
       "0  ebbf565d-7e70-4677-9f07-b08d72051ddb                       0   \n",
       "1  3ba82468-6516-4d6f-883c-1ac1108c3d89                       0   \n",
       "2  22b1ff08-a2ec-427e-b53b-fea91787e7b5                       0   \n",
       "3  713aabb7-0cfd-4b3e-a1ad-9de5fbb6ac50                       0   \n",
       "4  3395b5c9-fee0-4dbd-ac0b-5e2ffc59d4b3                       1   \n",
       "\n",
       "   src_site_data center b  src_site_data center c  src_site_data center d  \\\n",
       "0                       0                       1                       0   \n",
       "1                       1                       0                       0   \n",
       "2                       1                       0                       0   \n",
       "3                       0                       0                       1   \n",
       "4                       0                       0                       0   \n",
       "\n",
       "   src_site_data center e  dst_site_data center a  dst_site_data center b  \\\n",
       "0                       0                       0                       0   \n",
       "1                       0                       0                       0   \n",
       "2                       0                       0                       0   \n",
       "3                       0                       1                       0   \n",
       "4                       0                       0                       0   \n",
       "\n",
       "   dst_site_data center c  dst_site_data center d  dst_site_data center e  \\\n",
       "0                       0                       0                       1   \n",
       "1                       1                       0                       0   \n",
       "2                       0                       1                       0   \n",
       "3                       0                       0                       0   \n",
       "4                       0                       0                       1   \n",
       "\n",
       "        bytes  event_type_x_transfer-success  event_type_x_transfer-failure  \\\n",
       "0  8940116437                              1                              0   \n",
       "1  1288661369                              1                              0   \n",
       "2  4230378729                              1                              0   \n",
       "3  8116545364                              1                              0   \n",
       "4  5182557683                              1                              0   \n",
       "\n",
       "   time_taken  \n",
       "0      8797.0  \n",
       "1      6568.0  \n",
       "2      8638.0  \n",
       "3      8372.0  \n",
       "4      8305.0  "
      ]
     },
     "execution_count": 46,
     "metadata": {},
     "output_type": "execute_result"
    }
   ],
   "source": [
    "data.head()"
   ]
  },
  {
   "cell_type": "code",
   "execution_count": 47,
   "metadata": {
    "collapsed": false,
    "deletable": true,
    "editable": true
   },
   "outputs": [
    {
     "name": "stdout",
     "output_type": "stream",
     "text": [
      "<class 'pandas.core.frame.DataFrame'>\n",
      "Int64Index: 1000000 entries, 0 to 999999\n",
      "Data columns (total 15 columns):\n",
      "uuid                             1000000 non-null object\n",
      "src_site_data center a           1000000 non-null uint8\n",
      "src_site_data center b           1000000 non-null uint8\n",
      "src_site_data center c           1000000 non-null uint8\n",
      "src_site_data center d           1000000 non-null uint8\n",
      "src_site_data center e           1000000 non-null uint8\n",
      "dst_site_data center a           1000000 non-null uint8\n",
      "dst_site_data center b           1000000 non-null uint8\n",
      "dst_site_data center c           1000000 non-null uint8\n",
      "dst_site_data center d           1000000 non-null uint8\n",
      "dst_site_data center e           1000000 non-null uint8\n",
      "bytes                            1000000 non-null int64\n",
      "event_type_x_transfer-success    1000000 non-null uint8\n",
      "event_type_x_transfer-failure    1000000 non-null uint8\n",
      "time_taken                       1000000 non-null float64\n",
      "dtypes: float64(1), int64(1), object(1), uint8(12)\n",
      "memory usage: 42.0+ MB\n"
     ]
    }
   ],
   "source": [
    "data.info()"
   ]
  },
  {
   "cell_type": "code",
   "execution_count": 48,
   "metadata": {
    "collapsed": true,
    "deletable": true,
    "editable": true
   },
   "outputs": [],
   "source": [
    "data.to_csv('preprocessed2.csv')"
   ]
  },
  {
   "cell_type": "code",
   "execution_count": 49,
   "metadata": {
    "collapsed": false,
    "deletable": true,
    "editable": true,
    "scrolled": true
   },
   "outputs": [
    {
     "data": {
      "text/plain": [
       "<matplotlib.axes._subplots.AxesSubplot at 0x7f33d63ba6a0>"
      ]
     },
     "execution_count": 49,
     "metadata": {},
     "output_type": "execute_result"
    },
    {
     "name": "stderr",
     "output_type": "stream",
     "text": [
      "/home/carnd/anaconda3/envs/dl/lib/python3.5/site-packages/matplotlib/font_manager.py:1297: UserWarning: findfont: Font family ['sans-serif'] not found. Falling back to DejaVu Sans\n",
      "  (prop.get_family(), self.defaultFamily[fontext]))\n"
     ]
    },
    {
     "data": {
      "image/png": "[encoded data removed]",
      "text/plain": [
       "<matplotlib.figure.Figure at 0x7f33d639fbe0>"
      ]
     },
     "metadata": {},
     "output_type": "display_data"
    }
   ],
   "source": [
    "import matplotlib.pyplot as plt\n",
    "# import bokeh\n",
    "import seaborn as sns\n",
    "\n",
    "% matplotlib inline\n",
    "# import mpld3\n",
    "# mpld3.enable_notebook()\n",
    "\n",
    "\n",
    "data[:100].plot(x='uuid',y='time_taken',figsize=(10,10))"
   ]
  },
  {
   "cell_type": "code",
   "execution_count": null,
   "metadata": {
    "collapsed": true
   },
   "outputs": [],
   "source": []
  }
 ],
 "metadata": {
  "kernelspec": {
   "display_name": "Python 3",
   "language": "python",
   "name": "python3"
  },
  "language_info": {
   "codemirror_mode": {
    "name": "ipython",
    "version": 3
   },
   "file_extension": ".py",
   "mimetype": "text/x-python",
   "name": "python",
   "nbconvert_exporter": "python",
   "pygments_lexer": "ipython3",
   "version": "3.5.2"
  },
  "widgets": {
   "state": {},
   "version": "1.1.2"
  }
 },
 "nbformat": 4,
 "nbformat_minor": 2
}
